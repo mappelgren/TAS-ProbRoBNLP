{
 "cells": [
  {
   "cell_type": "code",
   "execution_count": 21,
   "id": "a2606c9a-ae49-4326-aade-d98e26dd9d48",
   "metadata": {},
   "outputs": [],
   "source": [
    "from ProbRobNLP.formal_parser import *\n",
    "from ProbRobNLP.probrob import *\n",
    "from collections import defaultdict"
   ]
  },
  {
   "cell_type": "code",
   "execution_count": 2,
   "id": "cf333720-fde0-43e8-a5ee-2f1bae45042e",
   "metadata": {},
   "outputs": [
    {
     "data": {
      "text/plain": [
       "from model import *\n",
       "table = Table on Vector3D(0.0, 0.0, 0.0), with width 1.8, with length 0.8, with height 0.8\n",
       "r1 = Robot on (top back table).position - Vector3D(0.4, 0.0, 0.0), with color 0.5\n",
       "r2 = Robot on (top back table).position + Vector3D(0.4, 0.0, 0.0)\n",
       "tr_1 = Tray completely on table, ahead of r1 by 0.1, left of (top table) by 0.2\n",
       "tr_2 = Tray completely on table, ahead of r2 by 0.1, right of (top table) by 0.2\n",
       "c1 = Cube completely on tr_1\n",
       "camera = Camera at Vector3D(table.x + (-0.1, 0.1), table.y + (-0.1, 0.1), (1.9, 2.1)), facing Vector3D(0.0, 0.0, -1.0)"
      ]
     },
     "execution_count": 2,
     "metadata": {},
     "output_type": "execute_result"
    }
   ],
   "source": [
    "f = \"\"\"\n",
    "from model import *\n",
    "\n",
    "table = Table on Vector3D(0,0,0), with width 1.8, with length 0.8, with height 0.8\n",
    "r1 = Robot on (top back table).position - Vector3D(0.4, 0, 0), with color \"0.5\"\n",
    "r2 = Robot on (top back table).position + Vector3D(0.4, 0, 0)\n",
    "\n",
    "tr_1 = Tray completely on table, ahead of r1 by 0.1, left of (top table) by 0.2\n",
    "tr_2 = Tray completely on table, ahead of r2 by 0.1, right of (top table) by 0.2\n",
    "\n",
    "c1 = Cube completely on tr_1\n",
    "\n",
    "camera = Camera at Vector3D(table.x + (-0.1, 0.1), table.y + (-0.1, 0.1), (1.9, 2.1)), facing Vector3D(0, 0, -1)\n",
    "\"\"\"\n",
    "lexer = PRSLexer()\n",
    "parser = PRSParser()\n",
    "result = parser.parse(lexer.tokenize(f))\n",
    "result"
   ]
  },
  {
   "cell_type": "code",
   "execution_count": 19,
   "id": "6707179e-29d6-4981-9433-3d2ef04989e2",
   "metadata": {},
   "outputs": [
    {
     "name": "stdout",
     "output_type": "stream",
     "text": [
      "table [on Vector3D(0.0, 0.0, 0.0), with width 1.8, with length 0.8, with height 0.8] Table\n",
      "r1 [on (top back table).position - Vector3D(0.4, 0.0, 0.0), with color 0.5] Robot\n",
      "r2 [on (top back table).position + Vector3D(0.4, 0.0, 0.0)] Robot\n",
      "tr_1 [completely on table, ahead of r1 by 0.1, left of (top table) by 0.2] Tray\n",
      "tr_2 [completely on table, ahead of r2 by 0.1, right of (top table) by 0.2] Tray\n",
      "c1 [completely on tr_1] Cube\n",
      "camera [at Vector3D(table.x + (-0.1, 0.1), table.y + (-0.1, 0.1), (1.9, 2.1)), facing Vector3D(0.0, 0.0, -1.0)] Camera\n"
     ]
    }
   ],
   "source": [
    "for entity in result.entities:\n",
    "    print(entity.name, entity.constraints, entity.type)"
   ]
  },
  {
   "cell_type": "code",
   "execution_count": 54,
   "id": "2f280a2d-95b3-4f56-a9b4-ddcfd8bfc833",
   "metadata": {},
   "outputs": [],
   "source": [
    "class State():\n",
    "    \n",
    "    def __init__(self):\n",
    "        self.objects = set()\n",
    "        self.constraints = defaultdict(list)\n",
    "        self.types = {}\n",
    "        self.imports = []\n",
    "\n",
    "    def from_world_state(worldmodel):\n",
    "        self = State()\n",
    "        self.imports = worldmodel.imports\n",
    "        for entity in worldmodel.entities:\n",
    "            self.objects.add(entity.name)\n",
    "            self.types[entity.name] = entity.type\n",
    "            for constraint in entity.constraints:\n",
    "                self.constraints[entity.name].append(constraint)\n",
    "        return self\n",
    "    \n",
    "\n",
    "    def add_constraint(self, o, constraint):\n",
    "        if o in self.objects:\n",
    "            self.constraints[o].append(constraint)\n",
    "        else:\n",
    "            raise ValueError(f\"attempted to add constraint to object which does not exist: {o}\")\n",
    "    \n",
    "    def add_object(self, o, t):\n",
    "        self.objects.add(o)\n",
    "        self.types[o] = t\n",
    "        \n",
    "    def to_world_state(self):\n",
    "        entities = [Entity(self.types[o], o, self.constraints[o]) for o in self.objects]\n",
    "        return WorldModel(entities, self.imports)\n",
    "    \n",
    "    \n",
    "    def abstract_add_object(self, o, t):\n",
    "        \n",
    "        def add_object():\n",
    "            self.objects.add(o)\n",
    "            self.types[o] = t\n",
    "        return add_object\n",
    "    \n",
    "    def abstract_add_constraint(self, o, constraint):\n",
    "        \n",
    "        def add_constraint():\n",
    "            if o in self.objects:\n",
    "                self.constraints[o].append(constraint)\n",
    "            else:\n",
    "                raise ValueError(f\"attempted to add constraint to object which does not exist: {o}\")\n",
    "        return add_constraint\n",
    "    \n",
    "    def __repr__(self):\n",
    "        ws = self.to_world_state()\n",
    "        return str(ws)"
   ]
  },
  {
   "cell_type": "code",
   "execution_count": 28,
   "id": "76ad3ab2-ad9e-454d-9c7b-6cc39725075a",
   "metadata": {},
   "outputs": [
    {
     "data": {
      "text/plain": [
       "from model import *\n",
       "camera = Camera at Vector3D(table.x + (-0.1, 0.1), table.y + (-0.1, 0.1), (1.9, 2.1)), facing Vector3D(0.0, 0.0, -1.0)\n",
       "r2 = Robot on (top back table).position + Vector3D(0.4, 0.0, 0.0)\n",
       "r1 = Robot on (top back table).position - Vector3D(0.4, 0.0, 0.0), with color 0.5\n",
       "tr_2 = Tray completely on table, ahead of r2 by 0.1, right of (top table) by 0.2\n",
       "table = Table on Vector3D(0.0, 0.0, 0.0), with width 1.8, with length 0.8, with height 0.8\n",
       "c1 = Cube completely on tr_1\n",
       "tr_1 = Tray completely on table, ahead of r1 by 0.1, left of (top table) by 0.2"
      ]
     },
     "execution_count": 28,
     "metadata": {},
     "output_type": "execute_result"
    }
   ],
   "source": [
    "d = State.from_world_state(result)\n",
    "d.to_world_state()"
   ]
  },
  {
   "cell_type": "code",
   "execution_count": 16,
   "id": "420c38e0-39ac-44be-a2c8-4c8e46a8a0dd",
   "metadata": {},
   "outputs": [
    {
     "data": {
      "text/plain": [
       "defaultdict(list,\n",
       "            {'table': [on Vector3D(0.0, 0.0, 0.0),\n",
       "              with width 1.8,\n",
       "              with length 0.8,\n",
       "              with height 0.8],\n",
       "             'r1': [on (top back table).position - Vector3D(0.4, 0.0, 0.0),\n",
       "              with color 0.5],\n",
       "             'r2': [on (top back table).position + Vector3D(0.4, 0.0, 0.0)],\n",
       "             'tr_1': [completely on table,\n",
       "              ahead of r1 by 0.1,\n",
       "              left of (top table) by 0.2],\n",
       "             'tr_2': [completely on table,\n",
       "              ahead of r2 by 0.1,\n",
       "              right of (top table) by 0.2],\n",
       "             'c1': [completely on tr_1],\n",
       "             'camera': [at Vector3D(table.x + (-0.1, 0.1), table.y + (-0.1, 0.1), (1.9, 2.1)),\n",
       "              facing Vector3D(0.0, 0.0, -1.0)]})"
      ]
     },
     "execution_count": 16,
     "metadata": {},
     "output_type": "execute_result"
    }
   ],
   "source": [
    "d.constraints"
   ]
  },
  {
   "cell_type": "code",
   "execution_count": 63,
   "id": "4730dd27-d0be-4c85-894e-e54c78dc5d13",
   "metadata": {},
   "outputs": [],
   "source": [
    "class SemanticOptions:\n",
    "    \n",
    "    def __init__(self, l):\n",
    "        self.list_of_options = l\n",
    "    \n",
    "    def evaluate_option(self, i):\n",
    "        for f in self.list_of_options[i]:\n",
    "            f()\n",
    "    \n",
    "    def __repr__(self):\n",
    "        out = []\n",
    "        for i, option in enumerate(self.list_of_options):\n",
    "            out.append(f\"Option {i}: \" + ', '.join([str(o) for o in option]))\n",
    "        return '\\n'.join(out)"
   ]
  },
  {
   "cell_type": "code",
   "execution_count": 71,
   "id": "5499ec6c-e99e-4547-b161-89a78720e01a",
   "metadata": {},
   "outputs": [
    {
     "data": {
      "text/plain": [
       "from model import *\n",
       "r2 = Robot on (top back table).position + Vector3D(0.4, 0, 0)\n",
       "table = Table on Vector3D(0, 0, 0), with width 1.8, with length 0.8, with height 0.8\n",
       "r1 = Robot on (top back table).position - Vector3D(0.4, 0, 0)"
      ]
     },
     "execution_count": 71,
     "metadata": {},
     "output_type": "execute_result"
    }
   ],
   "source": [
    "d = State()\n",
    "imports = [Import('model', '*')]\n",
    "d.imports = imports\n",
    "\n",
    "\"there is a table at the centre\"\n",
    "centre = Vector3D(0, 0, 0)\n",
    "s1 = SemanticOptions([[d.abstract_add_object('table', 'Table'), d.abstract_add_constraint('table', AtConstraint(centre))], \n",
    " [d.abstract_add_object('table', 'Table'), d.abstract_add_constraint('table', OnConstraint(centre))]])\n",
    "s1.evaluate_option(1)\n",
    "\n",
    "\n",
    "\"the table should be 1.8 wide, 0.8 long, and 0.8 high\"\n",
    "s2 = SemanticOptions([[d.abstract_add_constraint('table', PropConstraint('width', 1.8)),\n",
    "                      d.abstract_add_constraint('table', PropConstraint('length', 0.8)),\n",
    "                      d.abstract_add_constraint('table', PropConstraint('height', 0.8))]])\n",
    "\n",
    "s2.evaluate_option(0)\n",
    "\n",
    "\n",
    "m = Minus(PropReference(SideSpec('table', Side(['top', 'back'])), 'position'), Vector3D(.4, 0, 0))\n",
    "\"there is a gray robot 0.4 to the left of the back of the table\"\n",
    "s3 = SemanticOptions([[d.abstract_add_object('r1', 'Robot'), \n",
    "                       d.abstract_add_constraint('r1', OnConstraint(m))],\n",
    "                       d.abstract_add_constraint('r1', PropConstraint('color', '\"0.5\"'))])\n",
    "          \n",
    "s3.evaluate_option(0)\n",
    "\n",
    "p = Plus(PropReference(SideSpec('table', Side(['top', 'back'])), 'position'), Vector3D(.4, 0, 0))\n",
    "\"there is a robot 0.4 to the right of the back of the table\"\n",
    "s4 = SemanticOptions([[d.abstract_add_object('r2', 'Robot'), \n",
    "                       d.abstract_add_constraint('r2', OnConstraint(p))],\n",
    "                       d.abstract_add_constraint('r2', PropConstraint('color', '\"0.5\"'))])\n",
    "          \n",
    "s4.evaluate_option(0)\n",
    "d"
   ]
  },
  {
   "cell_type": "code",
   "execution_count": 57,
   "id": "2ea91313-de1d-40f0-8a20-ff1fc442313c",
   "metadata": {},
   "outputs": [],
   "source": [
    "f = \"\"\"\n",
    "from model import *\n",
    "\n",
    "table = Table on Vector3D(0,0,0), with width 1.8, with length 0.8, with height 0.8\n",
    "r1 = Robot on (top back table).position - Vector3D(0.4, 0, 0), with color \"0.5\"\n",
    "r2 = Robot on (top back table).position + Vector3D(0.4, 0, 0)\n",
    "\n",
    "tr_1 = Tray completely on table, ahead of r1 by 0.1, left of (top table) by 0.2\n",
    "tr_2 = Tray completely on table, ahead of r2 by 0.1, right of (top table) by 0.2\n",
    "\n",
    "c1 = Cube completely on tr_1\n",
    "\n",
    "camera = Camera at Vector3D(table.x + (-0.1, 0.1), table.y + (-0.1, 0.1), (1.9, 2.1)), facing Vector3D(0, 0, -1)\n",
    "\"\"\""
   ]
  },
  {
   "cell_type": "code",
   "execution_count": 59,
   "id": "1e5a2c78-ee1c-481a-aec6-1ef7ce7ad6b8",
   "metadata": {},
   "outputs": [],
   "source": [
    "\"there is a table at the centre\"\n",
    "centre = Vector3D(0, 0, 0)\n",
    "s1 = [[d.abstract_add_object('table', 'Table'), d.abstract_add_constraint('table', AtConstraint(centre))], \n",
    " [d.abstract_add_object('table', 'Table'), d.abstract_add_constraint('table', OnConstraint(centre))]]"
   ]
  },
  {
   "cell_type": "code",
   "execution_count": 61,
   "id": "ac242924-0ec0-4901-ad1c-d00fc9bab781",
   "metadata": {},
   "outputs": [],
   "source": [
    "SemanticOptions(s1).evaluate_option(0)"
   ]
  }
 ],
 "metadata": {
  "kernelspec": {
   "display_name": "Python 3",
   "language": "python",
   "name": "python3"
  },
  "language_info": {
   "codemirror_mode": {
    "name": "ipython",
    "version": 3
   },
   "file_extension": ".py",
   "mimetype": "text/x-python",
   "name": "python",
   "nbconvert_exporter": "python",
   "pygments_lexer": "ipython3",
   "version": "3.9.5"
  }
 },
 "nbformat": 4,
 "nbformat_minor": 5
}
