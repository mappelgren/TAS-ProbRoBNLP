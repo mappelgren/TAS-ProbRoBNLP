{
 "cells": [
  {
   "cell_type": "code",
   "execution_count": 1,
   "id": "606a74f9",
   "metadata": {},
   "outputs": [
    {
     "name": "stderr",
     "output_type": "stream",
     "text": [
      "WARNING: Token(s) {PLUS,COMMA,CLASS,POINT,TIMES,LBRACKET,DISCRETE,RBRACKET,MINUS,QUOTE} defined, but not used\n",
      "WARNING: There are 10 unused tokens\n",
      "WARNING: 26 shift/reduce conflicts\n",
      "WARNING: 5 reduce/reduce conflicts\n"
     ]
    }
   ],
   "source": [
    "from ProbRobNLP.formal_parser import *"
   ]
  },
  {
   "cell_type": "code",
   "execution_count": 2,
   "id": "62467766",
   "metadata": {},
   "outputs": [
    {
     "data": {
      "text/plain": [
       "from model import *\n",
       "table = Table on Vector3D(0.0, 0.0, 0.0), with width 1.8, with length 0.8, with height 0.8\n",
       "r1 = Robot on (top back table).position - Vector3D(0.4, 0.0, 0.0), with color 0.5\n",
       "r2 = Robot on (top back table).position + Vector3D(0.4, 0.0, 0.0)\n",
       "tr_1 = Tray completely on table, ahead of r1 by 0.1, left of (top table) by 0.2\n",
       "tr_2 = Tray completely on table, ahead of r2 by 0.1, right of (top table) by 0.2\n",
       "c1 = Cube completely on tr_1\n",
       "camera = Camera at Vector3D(table.x + (-0.1, 0.1), table.y + (-0.1, 0.1), (1.9, 2.1)), facing Vector3D(0.0, 0.0, -1.0)"
      ]
     },
     "execution_count": 2,
     "metadata": {},
     "output_type": "execute_result"
    }
   ],
   "source": [
    "f = \"\"\"\n",
    "from model import *\n",
    "\n",
    "table = Table on Vector3D(0,0,0), with width 1.8, with length 0.8, with height 0.8\n",
    "r1 = Robot on (top back table).position - Vector3D(0.4, 0, 0), with color \"0.5\"\n",
    "r2 = Robot on (top back table).position + Vector3D(0.4, 0, 0)\n",
    "\n",
    "tr_1 = Tray completely on table, ahead of r1 by 0.1, left of (top table) by 0.2\n",
    "tr_2 = Tray completely on table, ahead of r2 by 0.1, right of (top table) by 0.2\n",
    "\n",
    "c1 = Cube completely on tr_1\n",
    "\n",
    "camera = Camera at Vector3D(table.x + (-0.1, 0.1), table.y + (-0.1, 0.1), (1.9, 2.1)), facing Vector3D(0, 0, -1)\n",
    "\"\"\"\n",
    "lexer = PRSLexer()\n",
    "parser = PRSParser()\n",
    "result = parser.parse(lexer.tokenize(f))\n",
    "result"
   ]
  },
  {
   "cell_type": "code",
   "execution_count": 8,
   "id": "17abdd27-5c9b-4c96-b093-a70425ca4714",
   "metadata": {},
   "outputs": [
    {
     "data": {
      "text/plain": [
       "[on Vector3D(0.0, 0.0, 0.0), with width 1.8, with length 0.8, with height 0.8]"
      ]
     },
     "execution_count": 8,
     "metadata": {},
     "output_type": "execute_result"
    }
   ],
   "source": [
    "table = result.entities[0]\n",
    "table.constraints"
   ]
  },
  {
   "cell_type": "code",
   "execution_count": 3,
   "id": "84a2e364",
   "metadata": {},
   "outputs": [
    {
     "name": "stdout",
     "output_type": "stream",
     "text": [
      "cupPour.prs             rotationRestuarant.prs  tableCubeNaive.prs\n",
      "gearInsert.prs          swingingBucket.prs\n",
      "model.prs               tableCube.prs\n"
     ]
    }
   ],
   "source": [
    "ls /Users/mattiasappelgren/Desktop/ProbRobScene/scenarios/"
   ]
  },
  {
   "cell_type": "code",
   "execution_count": 4,
   "id": "e23b19f7",
   "metadata": {},
   "outputs": [
    {
     "name": "stdout",
     "output_type": "stream",
     "text": [
      "from model import *\n",
      "\n",
      "table_1 = Table on Vector3D(0,0,0), with width 1.8, with length 0.8, with height 0.8, with color \"0.9\"\n",
      "r = Robot on (top back table_1).position - Vector3D(0.4, 0, 0), with color \"0.5\"\n",
      "\n",
      "cup_1 = Cup completely on table_1, with color \"0.12\"\n",
      "cup_2 = Cup completely on table_1, aligned with cup_1 by \"y\", with color \"0.12\"\n",
      "cup_3 = Cup completely on table_1, aligned with cup_2 by \"y\", with color \"0.12\"\n",
      "\n",
      "table_2 = Table on Vector3D(0.2, 0.75, 0.0), with width 0.7, with length 0.65, with height 0.56, with color \"0.9\"\n",
      "bowl = Bowl completely on table_2\n",
      "\n",
      "camera = Camera at Vector3D(table_1.x + (-0.1, 0.1), table_1.y + (-0.1, 0.1), (1.9, 2.1)), facing Vector3D(0, 0, -1)\n",
      "\n"
     ]
    }
   ],
   "source": [
    "cat /Users/mattiasappelgren/Desktop/ProbRobScene/scenarios/cupPour.prs"
   ]
  },
  {
   "cell_type": "code",
   "execution_count": 5,
   "id": "0a103c91",
   "metadata": {},
   "outputs": [
    {
     "data": {
      "text/plain": [
       "from model import *\n",
       "table_1 = Table on Vector3D(0.0, 0.0, 0.0), with width 1.8, with length 0.8, with height 0.8, with color 0.9\n",
       "r = Robot on (top back table_1).position - Vector3D(0.4, 0.0, 0.0), with color 0.5\n",
       "cup_1 = Cup completely on table_1, with color 0.12\n",
       "cup_2 = Cup completely on table_1, aligned with cup_1 on y, with color 0.12\n",
       "cup_3 = Cup completely on table_1, aligned with cup_2 on y, with color 0.12\n",
       "table_2 = Table on Vector3D(0.2, 0.75, 0.0), with width 0.7, with length 0.65, with height 0.56, with color 0.9\n",
       "bowl = Bowl completely on table_2\n",
       "camera = Camera at Vector3D(table_1.x + (-0.1, 0.1), table_1.y + (-0.1, 0.1), (1.9, 2.1)), facing Vector3D(0.0, 0.0, -1.0)"
      ]
     },
     "execution_count": 5,
     "metadata": {},
     "output_type": "execute_result"
    }
   ],
   "source": [
    "parse_file(\"/Users/mattiasappelgren/Desktop/ProbRobScene/scenarios/cupPour.prs\")"
   ]
  },
  {
   "cell_type": "code",
   "execution_count": 6,
   "id": "d57238ac",
   "metadata": {},
   "outputs": [
    {
     "name": "stdout",
     "output_type": "stream",
     "text": [
      "from model import *\n",
      "\n",
      "table = Table on Vector3D(0,-1.15,0), with width 1.8, with length 0.8, with height 0.8, with color \"0.9\"\n",
      "chair = DiningChair on Vector3D(1.15, -1.15, 0), facing Vector3D(1, 0, 0)\n",
      "\n",
      "r = Robot on Vector3D(0, -0.3, 0)\n",
      "belt = CircularConveyorBelt on Vector3D(0, 1.0, 0)\n",
      "\n",
      "plate = Plate on Vector3D(belt.x, belt.y - 0.75, belt.z+0.081)\n",
      "cylinder_1 = Cylinder completely on plate\n",
      "cylinder_2 = Cylinder completely on plate\n",
      "cylinder_3 = Cylinder completely on plate\n",
      "\n",
      "camera = Camera at Vector3D(table.x + (-0.1, 0.1), table.y + (-0.1, 0.1), (1.9, 2.1)), facing Vector3D(0, 0, -1)\n"
     ]
    }
   ],
   "source": [
    "cat /Users/mattiasappelgren/Desktop/ProbRobScene/scenarios/rotationRestuarant.prs"
   ]
  },
  {
   "cell_type": "code",
   "execution_count": 7,
   "id": "4321c87d",
   "metadata": {},
   "outputs": [
    {
     "data": {
      "text/plain": [
       "from model import *\n",
       "table = Table on Vector3D(0.0, -1.15, 0.0), with width 1.8, with length 0.8, with height 0.8, with color 0.9\n",
       "chair = DiningChair on Vector3D(1.15, -1.15, 0.0), facing Vector3D(1.0, 0.0, 0.0)\n",
       "r = Robot on Vector3D(0.0, -0.3, 0.0)\n",
       "belt = CircularConveyorBelt on Vector3D(0.0, 1.0, 0.0)\n",
       "plate = Plate on Vector3D(belt.x, belt.y - 0.75, belt.z + 0.081)\n",
       "cylinder_1 = Cylinder completely on plate\n",
       "cylinder_2 = Cylinder completely on plate\n",
       "cylinder_3 = Cylinder completely on plate\n",
       "camera = Camera at Vector3D(table.x + (-0.1, 0.1), table.y + (-0.1, 0.1), (1.9, 2.1)), facing Vector3D(0.0, 0.0, -1.0)"
      ]
     },
     "execution_count": 7,
     "metadata": {},
     "output_type": "execute_result"
    }
   ],
   "source": [
    "parse_file(\"/Users/mattiasappelgren/Desktop/ProbRobScene/scenarios/rotationRestuarant.prs\")"
   ]
  },
  {
   "cell_type": "code",
   "execution_count": 8,
   "id": "8d8bb9ea",
   "metadata": {},
   "outputs": [
    {
     "name": "stdout",
     "output_type": "stream",
     "text": [
      "from model import *\n",
      "\n",
      "table = Table on Vector3D(0,0,0), with width 1.8, with length 0.8, with height 0.8\n",
      "r1 = Robot on (top back table).position - Vector3D(0.4, 0, 0), with color \"0.5\"\n",
      "r2 = Robot on (top back table).position + Vector3D(0.4, 0, 0)\n",
      "\n",
      "tr_1 = Tray on table\n",
      "tr_2 = Tray on table\n",
      "\n",
      "c1 = Cube on tr_1\n",
      "\n",
      "camera = Camera at Vector3D(table.x + (-0.1, 0.1), table.y + (-0.1, 0.1), (1.9, 2.1)), facing Vector3D(0, 0, -1)\n",
      "\n",
      "# Ahead / Left of reqs\n",
      "\n",
      "require (right tr_1).x + 0.2 < table.x\n",
      "require (back tr_1).y - 0.1 > r1.y\n",
      "\n",
      "require (left tr_2).x - 0.2 > table.x\n",
      "require (back tr_2).y - 0.1 > r2.y\n",
      "\n",
      "# Table containment reqs\n",
      "require (left tr_1).x > (left table).x\n",
      "\n",
      "require (front tr_1).y < (front table).y\n",
      "require (back tr_1).y > (back table).y\n",
      "\n",
      "require (right tr_2).x < (right table).x\n",
      "require (front tr_2).y < (front table).y\n",
      "require (back tr_2).y > (back table).y\n",
      "\n",
      "# Cube Containment Reqs\n",
      "require (front c1).y < (front tr_1).y\n",
      "require (back c1).y > (back tr_1).y\n",
      "require (left c1).x > (left tr_1).x\n",
      "require (right c1).x < (right tr_1).x"
     ]
    }
   ],
   "source": [
    "cat /Users/mattiasappelgren/Desktop/ProbRobScene/scenarios/tableCubeNaive.prs"
   ]
  },
  {
   "cell_type": "code",
   "execution_count": 9,
   "id": "24129cbf",
   "metadata": {},
   "outputs": [
    {
     "data": {
      "text/plain": [
       "from model import *\n",
       "table = Table on Vector3D(0.0, 0.0, 0.0), with width 1.8, with length 0.8, with height 0.8\n",
       "r1 = Robot on (top back table).position - Vector3D(0.4, 0.0, 0.0), with color 0.5\n",
       "r2 = Robot on (top back table).position + Vector3D(0.4, 0.0, 0.0)\n",
       "tr_1 = Tray on table\n",
       "tr_2 = Tray on table\n",
       "c1 = Cube on tr_1\n",
       "camera = Camera at Vector3D(table.x + (-0.1, 0.1), table.y + (-0.1, 0.1), (1.9, 2.1)), facing Vector3D(0.0, 0.0, -1.0)\n",
       "require (right tr_1).x + 0.2 < table.x\n",
       "require (back tr_1).y - 0.1 > r1.y\n",
       "require (left tr_2).x - 0.2 > table.x\n",
       "require (back tr_2).y - 0.1 > r2.y\n",
       "require (left tr_1).x > (left table).x\n",
       "require (front tr_1).y < (front table).y\n",
       "require (back tr_1).y > (back table).y\n",
       "require (right tr_2).x < (right table).x\n",
       "require (front tr_2).y < (front table).y\n",
       "require (back tr_2).y > (back table).y\n",
       "require (front c1).y < (front tr_1).y\n",
       "require (back c1).y > (back tr_1).y\n",
       "require (left c1).x > (left tr_1).x\n",
       "require (right c1).x < (right tr_1).x"
      ]
     },
     "execution_count": 9,
     "metadata": {},
     "output_type": "execute_result"
    }
   ],
   "source": [
    "parse_file(\"/Users/mattiasappelgren/Desktop/ProbRobScene/scenarios/tableCubeNaive.prs\")"
   ]
  },
  {
   "cell_type": "code",
   "execution_count": 10,
   "id": "f88efdb2",
   "metadata": {},
   "outputs": [
    {
     "data": {
      "text/plain": [
       "from model import *\n",
       "table = Table on Vector3D(0.0, 0.0, 0.0), with width 1.8, with length 0.8, with height 0.8, with color 0.9\n",
       "r = Robot on (top back table).position - Vector3D(0.4, 0.0, 0.0), with color 0.5\n",
       "hex_peg = HexagonalPegBase completely on table\n",
       "gear = HexagonalGear completely on table\n",
       "camera = Camera at Vector3D(table.x + (-0.1, 0.1), table.y + (-0.1, 0.1), (1.9, 2.1)), facing Vector3D(0.0, 0.0, -1.0)"
      ]
     },
     "execution_count": 10,
     "metadata": {},
     "output_type": "execute_result"
    }
   ],
   "source": [
    "parse_file(\"/Users/mattiasappelgren/Desktop/ProbRobScene/scenarios/gearInsert.prs\")"
   ]
  },
  {
   "cell_type": "code",
   "execution_count": 11,
   "id": "d3526cf1",
   "metadata": {},
   "outputs": [
    {
     "data": {
      "text/plain": [
       "from model import *\n",
       "table = Table on Vector3D(0.0, 0.0, 0.0), with width 1.8, with length 0.8, with height 0.8, with color 0.9\n",
       "r = Robot on (top back table).position - Vector3D(0.4, 0.0, 0.0), with color 0.5\n",
       "tray = Tray completely on table, ahead of r by 0.1, left of (top table) by 0.2\n",
       "cube_1 = Cube completely on tray\n",
       "cube_2 = Cube on cube_1\n",
       "cube_3 = Cube on cube_2\n",
       "bucket = RopeBucket on Vector3D(r.x, r.y + 0.6, r.z - 0.3)\n",
       "camera = Camera at Vector3D(table.x + (-0.1, 0.1), table.y + (-0.1, 0.1), (1.9, 2.1)), facing Vector3D(0.0, 0.0, -1.0)"
      ]
     },
     "execution_count": 11,
     "metadata": {},
     "output_type": "execute_result"
    }
   ],
   "source": [
    "parse_file(\"/Users/mattiasappelgren/Desktop/ProbRobScene/scenarios/swingingBucket.prs\")"
   ]
  },
  {
   "cell_type": "code",
   "execution_count": 12,
   "id": "b561a570",
   "metadata": {},
   "outputs": [
    {
     "data": {
      "text/plain": [
       "from model import *\n",
       "table = Table on Vector3D(0.0, 0.0, 0.0), with width 1.8, with length 0.8, with height 0.8\n",
       "r1 = Robot on (top back table).position - Vector3D(0.4, 0.0, 0.0), with color 0.5\n",
       "r2 = Robot on (top back table).position + Vector3D(0.4, 0.0, 0.0)\n",
       "tr_1 = Tray completely on table, ahead of r1 by 0.1, left of (top table) by 0.2\n",
       "tr_2 = Tray completely on table, ahead of r2 by 0.1, right of (top table) by 0.2\n",
       "c1 = Cube completely on tr_1\n",
       "camera = Camera at Vector3D(table.x + (-0.1, 0.1), table.y + (-0.1, 0.1), (1.9, 2.1)), facing Vector3D(0.0, 0.0, -1.0)"
      ]
     },
     "execution_count": 12,
     "metadata": {},
     "output_type": "execute_result"
    }
   ],
   "source": [
    "parse_file(\"/Users/mattiasappelgren/Desktop/ProbRobScene/scenarios/tableCube.prs\")"
   ]
  },
  {
   "cell_type": "code",
   "execution_count": null,
   "id": "1cfe5aa4",
   "metadata": {},
   "outputs": [],
   "source": []
  }
 ],
 "metadata": {
  "kernelspec": {
   "display_name": "Python 3",
   "language": "python",
   "name": "python3"
  },
  "language_info": {
   "codemirror_mode": {
    "name": "ipython",
    "version": 3
   },
   "file_extension": ".py",
   "mimetype": "text/x-python",
   "name": "python",
   "nbconvert_exporter": "python",
   "pygments_lexer": "ipython3",
   "version": "3.9.5"
  }
 },
 "nbformat": 4,
 "nbformat_minor": 5
}
