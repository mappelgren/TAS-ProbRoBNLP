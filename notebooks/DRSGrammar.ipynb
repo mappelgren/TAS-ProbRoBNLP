{
 "cells": [
  {
   "cell_type": "code",
   "execution_count": 7,
   "id": "2dbe4b49-1b04-420b-b238-1779ee1286f0",
   "metadata": {},
   "outputs": [
    {
     "name": "stderr",
     "output_type": "stream",
     "text": [
      "<ipython-input-7-473d878506aa>:4: DeprecationWarning: \n",
      "  Function parseLexicon() has been deprecated.  Use fromstring()\n",
      "  instead.\n",
      "  lex = lexicon.parseLexicon('''\n"
     ]
    }
   ],
   "source": [
    "\n",
    "\n",
    "from nltk.ccg import chart, lexicon\n",
    "\n",
    "\n",
    "lex = lexicon.parseLexicon('''\n",
    "       :- S, NP, N, VP\n",
    "    \n",
    "        Det :: NP/N\n",
    "        Pro :: NP\n",
    "         Modal :: S\\\\NP/VP\n",
    "    \n",
    "         TV :: VP/NP\n",
    "         DTV :: TV/NP\n",
    "    \n",
    "         the => Det\n",
    "    \n",
    "         that => Det\n",
    "         a => Det\n",
    "         the => Det\n",
    "         that => NP\n",
    "    \n",
    "         I => Pro\n",
    "         you => Pro\n",
    "         we => Pro\n",
    "    \n",
    "         chef => N\n",
    "         cake => N\n",
    "         children => N\n",
    "         dough => N\n",
    "    \n",
    "         will => Modal\n",
    "         should => Modal\n",
    "         might => Modal\n",
    "         must => Modal\n",
    "    \n",
    "         and => var\\\\.,var/.,var\n",
    "    \n",
    "         to => VP[to]/VP\n",
    "    \n",
    "         without => (VP\\\\VP)/VP[ing]\n",
    "    \n",
    "         be => TV\n",
    "         cook => TV\n",
    "         eat => TV\n",
    "    \n",
    "         cooking => VP[ing]/NP\n",
    "    \n",
    "         give => DTV\n",
    "    \n",
    "         is => (S\\\\NP)/NP\n",
    "        prefer => (S\\\\NP)/NP\n",
    "    \n",
    "        which => (N\\\\N)/(S/NP)\n",
    "    \n",
    "         persuade => (VP/VP[to])/NP\n",
    "        ''')\n"
   ]
  },
  {
   "cell_type": "code",
   "execution_count": 8,
   "id": "7ec0fcd0-6bc0-4035-856f-ec5fcb29e49e",
   "metadata": {},
   "outputs": [],
   "source": [
    "parser = chart.CCGChartParser(lex, chart.DefaultRuleSet)"
   ]
  },
  {
   "cell_type": "code",
   "execution_count": 9,
   "id": "7f517ac0-ad4b-466e-a8a6-d41d0176f92b",
   "metadata": {},
   "outputs": [
    {
     "name": "stdout",
     "output_type": "stream",
     "text": [
      " you    prefer      that   cake\n",
      " NP   ((S\\NP)/NP)  (NP/N)   N\n",
      "                  -------------->\n",
      "                        NP\n",
      "     --------------------------->\n",
      "               (S\\NP)\n",
      "--------------------------------<\n",
      "               S\n"
     ]
    }
   ],
   "source": [
    "for parse in parser.parse(\"you prefer that cake\".split()):  # doctest: +SKIP\n",
    "    chart.printCCGDerivation(parse)\n",
    "    break"
   ]
  },
  {
   "cell_type": "code",
   "execution_count": 13,
   "id": "8a6c126a-7f6c-4916-b23d-552d80700d85",
   "metadata": {},
   "outputs": [
    {
     "name": "stdout",
     "output_type": "stream",
     "text": [
      " I     should         give      you   the    cake\n",
      " NP  ((S\\NP)/VP)  ((VP/NP)/NP)  NP   (NP/N)   N\n",
      "                 ------------------->\n",
      "                       (VP/NP)\n",
      "                                    -------------->\n",
      "                                          NP\n",
      "                 --------------------------------->\n",
      "                                VP\n",
      "    ---------------------------------------------->\n",
      "                        (S\\NP)\n",
      "--------------------------------------------------<\n",
      "                        S\n"
     ]
    }
   ],
   "source": [
    "parser = chart.CCGChartParser(lex, chart.DefaultRuleSet)\n",
    "for parse in parser.parse(\"I should give you the cake\".split()):  # doctest: +SKIP\n",
    "    chart.printCCGDerivation(parse)\n",
    "    break"
   ]
  },
  {
   "cell_type": "code",
   "execution_count": 15,
   "id": "2389c85b-1551-424d-b621-f308b60027c3",
   "metadata": {},
   "outputs": [
    {
     "name": "stdout",
     "output_type": "stream",
     "text": [
      "showing info https://raw.githubusercontent.com/nltk/nltk_data/gh-pages/index.xml\n"
     ]
    },
    {
     "data": {
      "text/plain": [
       "True"
      ]
     },
     "execution_count": 15,
     "metadata": {},
     "output_type": "execute_result"
    }
   ],
   "source": [
    "import nltk\n",
    "nltk.download()"
   ]
  },
  {
   "cell_type": "code",
   "execution_count": 1,
   "id": "af1e495f-13ed-4522-906b-293d651129a2",
   "metadata": {},
   "outputs": [
    {
     "name": "stdout",
     "output_type": "stream",
     "text": [
      "|. a  .dog .bark.|\n",
      "|[----]    .    .| [0:1] 'a'\n",
      "|.    [----]    .| [1:2] 'dog'\n",
      "|.    .    [----]| [2:3] 'barks'\n",
      "|[----]    .    .| [0:1] Det[NUM='sg', SEM=<\\P Q.(([x],[]) + P(x) + Q(x))>] -> 'a' *\n",
      "|[---->    .    .| [0:1] NP[NUM=?n, SEM=<?det(?nom)>] -> Det[NUM=?n, SEM=?det] * Nom[NUM=?n, SEM=?nom] {?det: <DrtLambdaExpression \\P Q.(([x],[]) + P(x) + Q(x))>, ?n: 'sg'}\n",
      "|.    [----]    .| [1:2] N[NUM='sg', SEM=<\\x.([],[dog(x)])>] -> 'dog' *\n",
      "|.    [----]    .| [1:2] Nom[NUM='sg', SEM=<\\x.([],[dog(x)])>] -> N[NUM='sg', SEM=<\\x.([],[dog(x)])>] *\n",
      "|.    [---->    .| [1:2] Nom[NUM=?n, SEM=<?pp(?nom)>] -> N[NUM=?n, SEM=?nom] * PP[SEM=?pp] {?n: 'sg', ?nom: <DrtLambdaExpression \\x.([],[dog(x)])>}\n",
      "|[---------]    .| [0:2] NP[NUM='sg', SEM=<\\Q.(([x],[dog(x)]) + Q(x))>] -> Det[NUM='sg', SEM=<\\P Q.(([x],[]) + P(x) + Q(x))>] Nom[NUM='sg', SEM=<\\x.([],[dog(x)])>] *\n",
      "|[--------->    .| [0:2] S[SEM=<?subj(?vp)>] -> NP[NUM=?n, SEM=?subj] * VP[NUM=?n, SEM=?vp] {?n: 'sg', ?subj: <DrtLambdaExpression \\Q.(([x],[dog(x)]) + Q(x))>}\n",
      "|.    .    [----]| [2:3] IV[NUM='sg', SEM=<\\x.([],[bark(x)])>, tns='pres'] -> 'barks' *\n",
      "|.    .    [----]| [2:3] VP[NUM='sg', SEM=<\\x.([],[bark(x)])>] -> IV[NUM='sg', SEM=<\\x.([],[bark(x)])>] *\n",
      "|[==============]| [0:3] S[SEM=<([x],[dog(x), bark(x)])>] -> NP[NUM='sg', SEM=<\\Q.(([x],[dog(x)]) + Q(x))>] VP[NUM='sg', SEM=<\\x.([],[bark(x)])>] *\n",
      "([x],[dog(x), bark(x)])\n"
     ]
    }
   ],
   "source": [
    "from nltk.parse import load_parser\n",
    "from nltk.sem.drt import DrtParser\n",
    "parser = load_parser('grammars/book_grammars/drt.fcfg', trace=1, logic_parser=DrtParser())\n",
    "for tree in parser.parse('a dog barks'.split()):\n",
    "     print(tree.label()['SEM'].simplify())"
   ]
  },
  {
   "cell_type": "code",
   "execution_count": 1,
   "id": "b7664e11-5a80-4497-8952-5e7df194bfb1",
   "metadata": {},
   "outputs": [
    {
     "name": "stdout",
     "output_type": "stream",
     "text": [
      "|.t.i.a.t.i.t.c.|\n",
      "|[-] . . . . . .| [0:1] 'there'\n",
      "|. [-] . . . . .| [1:2] 'is'\n",
      "|. . [-] . . . .| [2:3] 'a'\n",
      "|. . . [-] . . .| [3:4] 'table'\n",
      "|. . . . [-] . .| [4:5] 'in'\n",
      "|. . . . . [-] .| [5:6] 'the'\n",
      "|. . . . . . [-]| [6:7] 'centre'\n",
      "|[-> . . . . . .| [0:1] VP[NUM=?n] -> 'there' * BE[NUM=?n] {}\n",
      "|[-] . . . . . .| [0:1] THERE[] -> 'there' *\n",
      "|. [-] . . . . .| [1:2] BE[NUM='sg'] -> 'is' *\n",
      "|[---] . . . . .| [0:2] VP[NUM='sg'] -> 'there' BE[NUM='sg'] *\n",
      "|[---> . . . . .| [0:2] S[SEM=?np] -> VP[NUM=?n] * NPP[NUM=?n, SEM=?np] {?n: 'sg'}\n",
      "|. . [-] . . . .| [2:3] Det[NUM='sg', SEM=<\\P Q.(([x],[]) + P(x) + Q(x))>] -> 'a' *\n",
      "|. . [-> . . . .| [2:3] NP[NUM=?n, SEM=<?det(?np)>] -> Det[NUM=?n, SEM=?det] * N[NUM=?n, SEM=?np] {?det: <DrtLambdaExpression \\P Q.(([x],[]) + P(x) + Q(x))>, ?n: 'sg'}\n",
      "|. . . [-] . . .| [3:4] N[NUM='sg', SEM=<\\x.([],[table(x)])>] -> 'table' *\n",
      "|. . [---] . . .| [2:4] NP[NUM='sg', SEM=<\\Q.(([x],[table(x)]) + Q(x))>] -> Det[NUM='sg', SEM=<\\P Q.(([x],[]) + P(x) + Q(x))>] N[NUM='sg', SEM=<\\x.([],[table(x)])>] *\n",
      "|. . [---> . . .| [2:4] NPP[NUM=?n, SEM=<?np(?pp)>] -> NP[NUM=?n, SEM=?np] * PP[SEM=?pp] {?n: 'sg', ?np: <DrtLambdaExpression \\Q.(([x],[table(x)]) + Q(x))>}\n",
      "|. . . . [-] . .| [4:5] P[SEM=<\\y x.([],[on(x,y)])>] -> 'in' *\n",
      "|. . . . [-> . .| [4:5] PP[SEM=<?p(?loc)>] -> P[SEM=?p] * LOC[SEM=?loc] {?p: <DrtLambdaExpression \\y x.([],[on(x,y)])>}\n",
      "|. . . . . [-> .| [5:6] LOC[SEM=<vector(0,0,0)>] -> 'the' * 'centre' {}\n",
      "|. . . . . [-] .| [5:6] The[] -> 'the' *\n",
      "|. . . . . [---]| [5:7] LOC[SEM=<vector(0,0,0)>] -> 'the' 'centre' *\n",
      "|. . . . [-----]| [4:7] PP[SEM=<\\x.([],[on(x,vector(0,0,0))])>] -> P[SEM=<\\y x.([],[on(x,y)])>] LOC[SEM=<vector(0,0,0)>] *\n",
      "|. . [---------]| [2:7] NPP[NUM='sg', SEM=<([x],[table(x), on(x,vector(0,0,0))])>] -> NP[NUM='sg', SEM=<\\Q.(([x],[table(x)]) + Q(x))>] PP[SEM=<\\x.([],[on(x,vector(0,0,0))])>] *\n",
      "|[=============]| [0:7] S[SEM=<([x],[table(x), on(x,vector(0,0,0))])>] -> VP[NUM='sg'] NPP[NUM='sg', SEM=<([x],[table(x), on(x,vector(0,0,0))])>] *\n",
      "([x],[table(x), on(x,vector(0,0,0))])\n"
     ]
    }
   ],
   "source": [
    "from nltk.parse import load_parser\n",
    "from nltk.sem.drt import DrtParser\n",
    "parser = load_parser('grammar.fcfg', trace=1, logic_parser=DrtParser())\n",
    "for tree in parser.parse('there is a table in the centre'.split()):\n",
    "     print(tree.label()['SEM'].simplify())"
   ]
  },
  {
   "cell_type": "code",
   "execution_count": null,
   "id": "424591bc-4fff-49bb-850c-fd3ec47903ef",
   "metadata": {},
   "outputs": [],
   "source": [
    "for tree in parser.parse('The table is 1.8m wide and 0.8m long'.split()):\n",
    "     print(tree.label()['SEM'].simplify())"
   ]
  },
  {
   "cell_type": "code",
   "execution_count": 129,
   "id": "095bb722-f53f-4f7f-98d0-27322c04cd22",
   "metadata": {},
   "outputs": [],
   "source": [
    "class Vector3D():\n",
    "    \n",
    "    def __init__(self, x, y ,z):\n",
    "        self.x = x\n",
    "        self.y = y\n",
    "        self.z = z\n",
    "\n",
    "    def __repr__(self):\n",
    "        return f\"Vector3D({self.x}, {self.y}, {self.z})\"\n",
    "    \n",
    "class Distribution():\n",
    "    \n",
    "    distribution_name = \"\"\n",
    "    \n",
    "    def __init__(self, x, y):\n",
    "        self.x = x\n",
    "        self.y = y\n",
    "    \n",
    "    def __repr__(self):\n",
    "        return f\"{self.distribution_name}({self.x}, {self.y})\"\n",
    "    \n",
    "\n",
    "class Normal(Distribution):\n",
    "    \n",
    "    distribution_name = \"Normal\"\n",
    "    \n",
    "# class Discrete(Distribution):\n",
    "    \n",
    "#     distribution_name = \"Discrete\"\n",
    "    \n",
    "class math_expr():\n",
    "    \n",
    "    def __repr__(self):\n",
    "        return \"\"\n",
    "\n",
    "class Max(math_expr):\n",
    "    \n",
    "    name = \"max\"\n",
    "    \n",
    "    def __init__(self, numbers):\n",
    "        self.numbers = numbers\n",
    "        \n",
    "    def __repr__(self):\n",
    "        return f\"{self.name}({self.numbers})\"\n",
    "    \n",
    "class Min(math_expr):\n",
    "    \n",
    "    name = \"min\"\n",
    "    \n",
    "    def __init__(self, numbers):\n",
    "        self.numbers = numbers\n",
    "        \n",
    "    def __repr__(self):\n",
    "        return f\"{self.name}({self.numbers})\"\n",
    "    \n",
    "class Abs(math_expr):\n",
    "    \n",
    "    name = \"abs\"\n",
    "    \n",
    "    def __init__(self, numbers):\n",
    "        self.numbers = numbers\n",
    "        \n",
    "    def __repr__(self):\n",
    "        return f\"{self.name}({self.numbers})\"\n",
    "    \n",
    "\n",
    "class Plus(math_expr):\n",
    "    \n",
    "    name = \"+\"\n",
    "    \n",
    "    def __init__(self, x, y):\n",
    "        self.x = x\n",
    "        self.y = y\n",
    "        \n",
    "    def __repr__(self):\n",
    "        return f\"{self.x} {self.name} {self.y}\"\n",
    "    \n",
    "class Times(math_expr):\n",
    "    \n",
    "    name = \"*\"\n",
    "    \n",
    "    def __init__(self, x, y):\n",
    "        self.x = x\n",
    "        self.y = y\n",
    "        \n",
    "    def __repr__(self):\n",
    "        return f\"{self.x} {self.name} {self.y}\"\n",
    "    \n",
    "class DistanceFrom(math_expr):\n",
    "    \n",
    "    name = \"distance from\"\n",
    "    \n",
    "    def __init__(self, vector1, vector2):\n",
    "        self.vector1 = vector1\n",
    "        self.vector2 = vector2\n",
    "        \n",
    "    def __repr__(self):\n",
    "        return f\"distance from {self.vector1} to {self.vector2}\"\n",
    "    \n",
    "class RelativeTo():\n",
    "    \n",
    "    def __init__(self, vector1, vector2):\n",
    "        self.vector1 = vector1\n",
    "        self.vector2 = vector2\n",
    "        \n",
    "    def __repr__(self):\n",
    "        return f\"{self.vector1} relative to {self.vector2}\"\n",
    "    \n",
    "class BooleanExpr():\n",
    "    \n",
    "    name = \"\"\n",
    "    \n",
    "    def __init__(self, expr1, expr2):\n",
    "        self.expr1 = expr1\n",
    "        self.expr2 = expr2\n",
    "        \n",
    "    def __repr__(self):\n",
    "        return f\"{self.expr1} {self.name} {self.expr2}\"\n",
    "\n",
    "class NotBool(BooleanExpr):\n",
    "    \n",
    "    name = \"not\"\n",
    "    \n",
    "    def __init__(self, expr):\n",
    "        self.expr = expr\n",
    "        \n",
    "    def __repr__(self):\n",
    "        return f\"not {self.expr}\"\n",
    "    \n",
    "class AndBool(BooleanExpr):\n",
    "    \n",
    "    name = \"and\"\n",
    "    \n",
    "    def __init__(self, expr1, expr2):\n",
    "        self.expr1 = expr1\n",
    "        self.expr2 = expr2\n",
    "        \n",
    "    def __repr__(self):\n",
    "        return f\"{self.expr1} and {self.expr2}\"\n",
    "    \n",
    "class OrBool(BooleanExpr):\n",
    "    \n",
    "    name = \"or\"\n",
    "    \n",
    "    def __init__(self, expr1, expr2):\n",
    "        self.expr1 = expr1\n",
    "        self.expr2 = expr2\n",
    "        \n",
    "    def __repr__(self):\n",
    "        return f\"{self.expr1} or {self.expr2}\"\n",
    "    \n",
    "class EQ(BooleanExpr):\n",
    "    name = \"==\"\n",
    "\n",
    "class NEQ(BooleanExpr):\n",
    "    name = \"!=\"\n",
    "\n",
    "class LT(BooleanExpr):\n",
    "    name = \"<\"\n",
    "\n",
    "class GT(BooleanExpr):\n",
    "    name = \">\"\n",
    "\n",
    "class GEQ(BooleanExpr):\n",
    "    name = \">=\"\n",
    "\n",
    "class LEQ(BooleanExpr):\n",
    "    name = \"<=\"\n",
    "\n",
    "class IsIn(BooleanExpr):\n",
    "    name = \"is in\"\n",
    "    \n",
    "    \n",
    "\n",
    "class CuboidRegion():\n",
    "    \n",
    "    def __init__(self, vector1, vector2, vector3):\n",
    "        self.vector1 = vector1\n",
    "        self.vector2 = vector2\n",
    "        self.vector3 = vector3\n",
    "        \n",
    "    def __repr__(self):\n",
    "        return f\"CuboidRegion({self.vector1}, {self.vector2}, {self.vector3})\"\n",
    "\n",
    "    \n",
    "class Entity():\n",
    "    \n",
    "    def __init__(self, type_, name):\n",
    "        self.type = type_\n",
    "        self.name = name\n",
    "        self.constraints = []\n",
    "        \n",
    "    def add_constraint(self, constraint):\n",
    "        self.constraints.append(constraint)\n",
    "        \n",
    "    def __repr__(self):\n",
    "        constraint_repr = ', '.join([con.__repr__() for con in self.constraints])\n",
    "        \n",
    "        return f\"{self.name} = {self.type}\" + constraint_repr\n",
    "    \n",
    "\n",
    "\n",
    "    \n",
    "    \n",
    "class WorldModel():\n",
    "    \n",
    "    def __init__(self):\n",
    "        pass\n",
    "\n",
    "    \n",
    "\n",
    "    \n",
    "class InterpretationSystem():\n",
    "    \n",
    "    def __init__(self):\n",
    "        self.dialogue_history = []\n",
    "        self.dialogue_referents = []\n",
    "        self.parser = load_parser('grammar.fcfg', trace=0, logic_parser=DrtParser())\n",
    "        \n",
    "        \n",
    "    def read_sentence(self, sentence: str):\n",
    "        for tree in self.parser.parse(sentence.split()):\n",
    "             sem = tree.label()['SEM'].simplify()\n",
    "        \n",
    "        return sem\n",
    "    \n",
    "    def read_DRS(self, drs: DRS):\n",
    "        \n",
    "        refs = [r.name for r in drs.refs]\n",
    "        preds = [parse_cond(cond) for cond in drs.conds]\n",
    "        return DRSState(preds, refs)\n",
    "            \n",
    "\n",
    "            \n",
    "                \n",
    "def parse_cond(cond):\n",
    "    if isinstance(cond, DrtApplicationExpression):\n",
    "        pred = cond.pred.variable.name\n",
    "#         print(pred)\n",
    "        args = [parse_cond(x) for x in cond.args]\n",
    "#         print(args)\n",
    "\n",
    "        return Predicate(pred, args)\n",
    "\n",
    "#         if pred in ['table', 'cup']:\n",
    "            \n",
    "#             obj = (pred, args)\n",
    "#             return obj\n",
    "            \n",
    "#         elif pred in ['vector']:\n",
    "#             vector = Vector3D(*args)\n",
    "#             return vector\n",
    "#         elif pred in ['on']:\n",
    "#             return (pred, args)\n",
    "        \n",
    "    if isinstance(cond, DrtIndividualVariableExpression) or isinstance(cond, DrtConstantExpression):\n",
    "        return cond.variable.name"
   ]
  },
  {
   "cell_type": "code",
   "execution_count": 130,
   "id": "0e9fba70-d0b3-4af6-9da5-a7dcf60fc228",
   "metadata": {},
   "outputs": [],
   "source": [
    "\n",
    "class Predicate(object):\n",
    "\n",
    "    def __init__(self, name, args, op=None):\n",
    "        self.name = name\n",
    "        self.args = args\n",
    "        self.valency = not(op == 'not')\n",
    "        self.op = op\n",
    "\n",
    "    def negate(self):\n",
    "        op = 'not' if self.valency is True else None\n",
    "        return Predicate(self.name, self.args, op)\n",
    "\n",
    "    def __str__(self):\n",
    "        return f\"{self.name}({','.join(map(str, self.args))})\"\n",
    "\n",
    "    def __repr__(self):\n",
    "        return self.__str__()\n",
    "\n",
    "    def __eq__(self, other):\n",
    "        return self.name == other.name and all([arg1 == arg2 for arg1, arg2 in zip(self.args, other.args)]) and len(self.args) == len(other.args)\n",
    "\n",
    "    def __ne__(self, other):\n",
    "        return not(self.__eq__(other))\n",
    "\n",
    "    def to_dexpr(self):\n",
    "        \n",
    "        return DrtExpression.fromstring(self.__str__())\n",
    "        \n",
    "\n",
    "    \n",
    "class DRSState(object):\n",
    "    def __init__(self, predicates, referents):\n",
    "        self.referents = referents\n",
    "        self.predicates = predicates\n",
    "\n",
    "    def get_predicates(self, arg):\n",
    "        return [pred for pred in self.predicates if arg in pred.args]\n",
    "\n",
    "    def _predicate_holds(self, predicate):\n",
    "        return predicate in self.predicates\n",
    "\n",
    "    def predicate_holds(self, predicate_name, args):\n",
    "        predicate = Predicate(predicate_name, args)\n",
    "\n",
    "    def __eq__(self, other):\n",
    "        for predicate in self.predicates:\n",
    "            if predicate not in other.predicates:\n",
    "                return False\n",
    "        for predicate in other.predicates:\n",
    "            if predicate not in self.predicates:\n",
    "                return False\n",
    "        return True\n",
    "\n",
    "    def asDRS(self):\n",
    "        dexpr = [pred.to_dexpr() for pred in self.predicates]\n",
    "        return DRS(self.referents, dexpr)\n",
    "    \n",
    "    def print(self):\n",
    "        drs = self.asDRS()\n",
    "        drs.pretty_print()\n"
   ]
  },
  {
   "cell_type": "code",
   "execution_count": 131,
   "id": "eb4c3969-e53a-416e-bf00-593e5cc96c76",
   "metadata": {},
   "outputs": [],
   "source": [
    "preds = [Predicate('table', ['x']), Predicate('on', ['x', Predicate('vector', [0, 0, 0])])]\n",
    "d = DRSState(preds, ['x'])"
   ]
  },
  {
   "cell_type": "code",
   "execution_count": 132,
   "id": "85848b0d-3114-4705-a8ec-20b855a05fa7",
   "metadata": {},
   "outputs": [
    {
     "name": "stdout",
     "output_type": "stream",
     "text": [
      " _____________________ \n",
      "| x                   |\n",
      "|---------------------|\n",
      "| table(x)            |\n",
      "| on(x,vector(0,0,0)) |\n",
      "|_____________________|\n"
     ]
    }
   ],
   "source": [
    "d.print()"
   ]
  },
  {
   "cell_type": "code",
   "execution_count": 133,
   "id": "6973034b-e5f6-4f4d-948f-339d4087cb3a",
   "metadata": {},
   "outputs": [],
   "source": [
    "from nltk.sem.drt import *"
   ]
  },
  {
   "cell_type": "code",
   "execution_count": 134,
   "id": "f0d536b8-844d-4de2-b1f6-f5cc61646f11",
   "metadata": {},
   "outputs": [
    {
     "name": "stdout",
     "output_type": "stream",
     "text": [
      " _____________________ \n",
      "| x                   |\n",
      "|---------------------|\n",
      "| table(x)            |\n",
      "| on(x,vector(0,0,0)) |\n",
      "|_____________________|\n"
     ]
    }
   ],
   "source": [
    "s = InterpretationSystem()\n",
    "sem = s.read_sentence(\"there is a table in the centre\")\n",
    "s.read_DRS(sem).print()\n"
   ]
  },
  {
   "cell_type": "code",
   "execution_count": 114,
   "id": "61ac89b8-25dd-448d-9e8e-80d2486d5839",
   "metadata": {},
   "outputs": [
    {
     "name": "stdout",
     "output_type": "stream",
     "text": [
      " _____________________ \n",
      "| x                   |\n",
      "|---------------------|\n",
      "| table(x)            |\n",
      "| on(x,vector(0,0,0)) |\n",
      "|_____________________|\n"
     ]
    }
   ],
   "source": [
    "sem.pretty_print()"
   ]
  },
  {
   "cell_type": "code",
   "execution_count": 108,
   "id": "44e80a73-251c-4ba1-9f73-c5ea31c8b035",
   "metadata": {},
   "outputs": [],
   "source": [
    "sem.predicates()\n",
    "fol = sem.fol()"
   ]
  },
  {
   "cell_type": "code",
   "execution_count": 111,
   "id": "965f7d3c-c528-4f6e-90cb-1054360604c1",
   "metadata": {},
   "outputs": [
    {
     "data": {
      "text/plain": [
       "'x'"
      ]
     },
     "execution_count": 111,
     "metadata": {},
     "output_type": "execute_result"
    }
   ],
   "source": [
    "sem.refs[0].name"
   ]
  },
  {
   "cell_type": "code",
   "execution_count": 89,
   "id": "2ad3f306-373a-4937-b753-9109956b1f54",
   "metadata": {},
   "outputs": [
    {
     "data": {
      "text/plain": [
       "'0'"
      ]
     },
     "execution_count": 89,
     "metadata": {},
     "output_type": "execute_result"
    }
   ],
   "source": [
    "t.args[1].args[0].variable.name"
   ]
  },
  {
   "cell_type": "code",
   "execution_count": 49,
   "id": "cc29a389-98bd-4b13-8bda-a2e195938b70",
   "metadata": {},
   "outputs": [],
   "source": [
    "fol_sem = sem.fol()"
   ]
  },
  {
   "cell_type": "code",
   "execution_count": 50,
   "id": "3255e194-4383-42aa-9d1f-68232d7d5ac4",
   "metadata": {},
   "outputs": [],
   "source": [
    "and_expr = fol_sem.term"
   ]
  },
  {
   "cell_type": "code",
   "execution_count": 51,
   "id": "c1bbb14d-2d7f-4860-8eb0-efd581620295",
   "metadata": {},
   "outputs": [],
   "source": [
    "f = and_expr.first"
   ]
  },
  {
   "cell_type": "code",
   "execution_count": 52,
   "id": "ce89bf74-a7c1-4eec-8fa0-84b557d8af0e",
   "metadata": {},
   "outputs": [],
   "source": [
    "s= and_expr.second"
   ]
  },
  {
   "cell_type": "code",
   "execution_count": 53,
   "id": "e9f40c6b-4779-44ee-8a16-f6aa88b7e53b",
   "metadata": {},
   "outputs": [
    {
     "data": {
      "text/plain": [
       "[<DrtIndividualVariableExpression x>, <ApplicationExpression vector(0,0,0)>]"
      ]
     },
     "execution_count": 53,
     "metadata": {},
     "output_type": "execute_result"
    }
   ],
   "source": [
    "s.args"
   ]
  },
  {
   "cell_type": "code",
   "execution_count": null,
   "id": "af59b8e2-f197-4bf9-acb8-9a527da9a6b0",
   "metadata": {},
   "outputs": [],
   "source": []
  }
 ],
 "metadata": {
  "kernelspec": {
   "display_name": "Python 3",
   "language": "python",
   "name": "python3"
  },
  "language_info": {
   "codemirror_mode": {
    "name": "ipython",
    "version": 3
   },
   "file_extension": ".py",
   "mimetype": "text/x-python",
   "name": "python",
   "nbconvert_exporter": "python",
   "pygments_lexer": "ipython3",
   "version": "3.8.8"
  }
 },
 "nbformat": 4,
 "nbformat_minor": 5
}
