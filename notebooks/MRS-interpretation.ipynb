{
 "cells": [
  {
   "cell_type": "code",
   "execution_count": 20,
   "id": "a551200d-4e76-4007-8cea-f679926765d6",
   "metadata": {},
   "outputs": [],
   "source": [
    "from delphin import ace\n",
    "from delphin import dmrs"
   ]
  },
  {
   "cell_type": "code",
   "execution_count": 86,
   "id": "bac6a6e8-e146-40fa-97ab-64db425dfc0f",
   "metadata": {},
   "outputs": [],
   "source": [
    "\n",
    "grm = '/home/mappelgren/Desktop/ace-0.9.30/erg-2018-x86-64-0.9.30.dat'\n",
    "response = ace.parse(grm, 'Add three cups')"
   ]
  },
  {
   "cell_type": "code",
   "execution_count": null,
   "id": "4d11d29e-14ab-494d-8b55-fde75dce35d6",
   "metadata": {},
   "outputs": [],
   "source": []
  },
  {
   "cell_type": "code",
   "execution_count": 16,
   "id": "be44f290-e665-4c81-99ec-bc5c9ae4840b",
   "metadata": {},
   "outputs": [
    {
     "name": "stdout",
     "output_type": "stream",
     "text": [
      "\u001b[0m\u001b[01;32mace\u001b[0m*  erg-2018-x86-64-0.9.30.dat  LICENSE  RELEASE-NOTES\n",
      "\u001b[01;34mdoc\u001b[0m/  \u001b[01;34merg-files\u001b[0m/                  \u001b[01;34mpost\u001b[0m/\n"
     ]
    }
   ],
   "source": [
    "ls /home/mappelgren/Desktop/ace-0.9.30/"
   ]
  },
  {
   "cell_type": "code",
   "execution_count": 87,
   "id": "44f1b3d4-fdb0-47d3-856d-9caab7142d10",
   "metadata": {},
   "outputs": [],
   "source": [
    "mrs = response.result(0).mrs()"
   ]
  },
  {
   "cell_type": "code",
   "execution_count": 18,
   "id": "2ef15b32-c7ed-4190-9b04-ed59ff7fd00e",
   "metadata": {},
   "outputs": [
    {
     "data": {
      "text/plain": [
       "[(<EP object (h7:pron(ARG0 x3)) at 139884642792256>,\n",
       "  <EP object (h4:pronoun_q(ARG0 x3, RSTR h5, BODY h6)) at 139884642792160>),\n",
       " (<EP object (h1:_add_v_to(ARG0 e2, ARG1 x3, ARG2 x8)) at 139884642791584>,\n",
       "  None),\n",
       " (<EP object (h12:card(CARG 3, ARG0 e14, ARG1 x8)) at 139884642792544>, None),\n",
       " (<EP object (h12:_cup_n_1(ARG0 x8)) at 139884642792640>,\n",
       "  <EP object (h9:udef_q(ARG0 x8, RSTR h10, BODY h11)) at 139884642792448>)]"
      ]
     },
     "execution_count": 18,
     "metadata": {},
     "output_type": "execute_result"
    }
   ],
   "source": [
    "mrs."
   ]
  },
  {
   "cell_type": "code",
   "execution_count": 82,
   "id": "f6c8478e-ee8a-4d50-80ef-7fb9088c6f86",
   "metadata": {},
   "outputs": [
    {
     "data": {
      "text/plain": [
       "{'ARG0': 'x3', 'RSTR': 'h5', 'BODY': 'h6'}"
      ]
     },
     "execution_count": 82,
     "metadata": {},
     "output_type": "execute_result"
    }
   ],
   "source": [
    "mrs.predications[0].args"
   ]
  },
  {
   "cell_type": "code",
   "execution_count": 85,
   "id": "d38bbe8f-4d52-4d70-ae5f-3fe52433e5eb",
   "metadata": {},
   "outputs": [
    {
     "data": {
      "text/plain": [
       "[<EP object (h4:pronoun_q(ARG0 x3, RSTR h5, BODY h6)) at 139884642792160>,\n",
       " <EP object (h7:pron(ARG0 x3)) at 139884642792256>,\n",
       " <EP object (h1:_add_v_to(ARG0 e2, ARG1 x3, ARG2 x8)) at 139884642791584>,\n",
       " <EP object (h9:udef_q(ARG0 x8, RSTR h10, BODY h11)) at 139884642792448>,\n",
       " <EP object (h12:card(CARG 3, ARG0 e14, ARG1 x8)) at 139884642792544>,\n",
       " <EP object (h12:_cup_n_1(ARG0 x8)) at 139884642792640>]"
      ]
     },
     "execution_count": 85,
     "metadata": {},
     "output_type": "execute_result"
    }
   ],
   "source": [
    "mrs.predications"
   ]
  },
  {
   "cell_type": "code",
   "execution_count": 79,
   "id": "943b1067-b431-43db-8471-f875bbb0de23",
   "metadata": {},
   "outputs": [
    {
     "data": {
      "text/plain": [
       "[<EP object (h4:pronoun_q(ARG0 x3, RSTR h5, BODY h6)) at 139884642792160>,\n",
       " <EP object (h7:pron(ARG0 x3)) at 139884642792256>,\n",
       " <EP object (h1:_add_v_to(ARG0 e2, ARG1 x3, ARG2 x8)) at 139884642791584>,\n",
       " <EP object (h9:udef_q(ARG0 x8, RSTR h10, BODY h11)) at 139884642792448>,\n",
       " <EP object (h12:card(CARG 3, ARG0 e14, ARG1 x8)) at 139884642792544>,\n",
       " <EP object (h12:_cup_n_1(ARG0 x8)) at 139884642792640>]"
      ]
     },
     "execution_count": 79,
     "metadata": {},
     "output_type": "execute_result"
    }
   ],
   "source": [
    "mrs.rels"
   ]
  },
  {
   "cell_type": "code",
   "execution_count": 21,
   "id": "577bc779-73d3-4f2f-a886-eb42e0d95ac5",
   "metadata": {},
   "outputs": [],
   "source": [
    "sentence_dmrs = dmrs.from_mrs(mrs)"
   ]
  },
  {
   "cell_type": "code",
   "execution_count": 27,
   "id": "9351aa0d-133a-4e11-9df2-c8b1ea410aa3",
   "metadata": {},
   "outputs": [
    {
     "data": {
      "text/plain": [
       "{10000: [('RSTR', 10001)],\n",
       " 10001: [],\n",
       " 10002: [('ARG1', 10001), ('ARG2', 10005)],\n",
       " 10003: [('RSTR', 10005)],\n",
       " 10004: [('ARG1', 10005)],\n",
       " 10005: []}"
      ]
     },
     "execution_count": 27,
     "metadata": {},
     "output_type": "execute_result"
    }
   ],
   "source": [
    "sentence_dmrs.arguments()"
   ]
  },
  {
   "cell_type": "code",
   "execution_count": 34,
   "id": "c07db1ab-021b-4338-9a70-cd87d218fdc5",
   "metadata": {},
   "outputs": [
    {
     "data": {
      "text/plain": [
       "False"
      ]
     },
     "execution_count": 34,
     "metadata": {},
     "output_type": "execute_result"
    }
   ],
   "source": [
    "sentence_dmrs.is_quantifier(1005)"
   ]
  },
  {
   "cell_type": "code",
   "execution_count": 39,
   "id": "648614c5-6422-44dd-a862-66b492e6b66d",
   "metadata": {},
   "outputs": [
    {
     "name": "stdout",
     "output_type": "stream",
     "text": [
      "{}\n",
      "{'PERS': '2', 'PT': 'zero'}\n",
      "{'SF': 'comm', 'TENSE': 'pres', 'MOOD': 'indicative', 'PROG': '-', 'PERF': '-'}\n",
      "{}\n",
      "{'SF': 'prop', 'TENSE': 'untensed', 'MOOD': 'indicative', 'PROG': '-', 'PERF': '-'}\n",
      "{'PERS': '3', 'NUM': 'pl', 'IND': '+'}\n"
     ]
    }
   ],
   "source": [
    "for id_ in sentence_dmrs.arguments().keys():\n",
    "    print(sentence_dmrs.properties(id_))"
   ]
  },
  {
   "cell_type": "code",
   "execution_count": 40,
   "id": "23a9e133-5c0e-4c2a-ae5a-065272519a42",
   "metadata": {},
   "outputs": [
    {
     "data": {
      "text/plain": [
       "[(<Node object (10001:pron<0:14>[x]) at 139884642795232>,\n",
       "  <Node object (10000:pronoun_q<0:14>[?]) at 139884642794944>),\n",
       " (<Node object (10002:_add_v_to<0:3>[e]) at 139884642795328>, None),\n",
       " (<Node object (10004:card<4:9>[e]) at 139884640059456>, None),\n",
       " (<Node object (10005:_cup_n_1<10:14>[x]) at 139884640059552>,\n",
       "  <Node object (10003:udef_q<4:14>[?]) at 139884642795424>)]"
      ]
     },
     "execution_count": 40,
     "metadata": {},
     "output_type": "execute_result"
    }
   ],
   "source": [
    "sentence_dmrs.quantification_pairs()"
   ]
  },
  {
   "cell_type": "code",
   "execution_count": 41,
   "id": "274f5d4f-bcbd-4426-ab5c-3c3525c16d2c",
   "metadata": {},
   "outputs": [
    {
     "data": {
      "text/plain": [
       "{10000: [('RSTR', 'qeq', 10001)],\n",
       " 10001: [],\n",
       " 10002: [],\n",
       " 10003: [('RSTR', 'qeq', 10005)],\n",
       " 10004: [],\n",
       " 10005: []}"
      ]
     },
     "execution_count": 41,
     "metadata": {},
     "output_type": "execute_result"
    }
   ],
   "source": [
    "sentence_dmrs.scopal_arguments()"
   ]
  },
  {
   "cell_type": "code",
   "execution_count": 42,
   "id": "f58eb2c8-171b-4d0e-803b-b1fc89493a7e",
   "metadata": {},
   "outputs": [
    {
     "data": {
      "text/plain": [
       "('h3',\n",
       " {'h1': [<Node object (10000:pronoun_q<0:14>[?]) at 139884642794944>],\n",
       "  'h2': [<Node object (10001:pron<0:14>[x]) at 139884642795232>],\n",
       "  'h3': [<Node object (10002:_add_v_to<0:3>[e]) at 139884642795328>],\n",
       "  'h4': [<Node object (10003:udef_q<4:14>[?]) at 139884642795424>],\n",
       "  'h6': [<Node object (10005:_cup_n_1<10:14>[x]) at 139884640059552>,\n",
       "   <Node object (10004:card<4:9>[e]) at 139884640059456>]})"
      ]
     },
     "execution_count": 42,
     "metadata": {},
     "output_type": "execute_result"
    }
   ],
   "source": [
    "sentence_dmrs.scopes()"
   ]
  },
  {
   "cell_type": "code",
   "execution_count": 43,
   "id": "bfd17bf6-521e-4b6e-86ca-32b6d5de7cba",
   "metadata": {},
   "outputs": [],
   "source": [
    "top, scopes = sentence_dmrs.scopes()"
   ]
  },
  {
   "cell_type": "code",
   "execution_count": 46,
   "id": "0ca4582f-bb08-4d54-b25d-74ef6773bb47",
   "metadata": {},
   "outputs": [],
   "source": [
    "top_node = scopes[top][0]"
   ]
  },
  {
   "cell_type": "code",
   "execution_count": 48,
   "id": "09efc18c-711d-4e4d-8a8f-954afb669b03",
   "metadata": {},
   "outputs": [
    {
     "data": {
      "text/plain": [
       "'_add_v_to'"
      ]
     },
     "execution_count": 48,
     "metadata": {},
     "output_type": "execute_result"
    }
   ],
   "source": [
    "top_node.predicate"
   ]
  },
  {
   "cell_type": "code",
   "execution_count": 56,
   "id": "4a206ab6-a82c-47a6-a07f-5591b28402d6",
   "metadata": {},
   "outputs": [],
   "source": [
    "link = top_node.lnk"
   ]
  },
  {
   "cell_type": "code",
   "execution_count": 61,
   "id": "4383695c-708e-4993-88d9-2863d7e5446c",
   "metadata": {},
   "outputs": [
    {
     "data": {
      "text/plain": [
       "3"
      ]
     },
     "execution_count": 61,
     "metadata": {},
     "output_type": "execute_result"
    }
   ],
   "source": []
  },
  {
   "cell_type": "code",
   "execution_count": 67,
   "id": "5aaad133-aa7e-4c2d-b4fd-fe9eac3af2d4",
   "metadata": {},
   "outputs": [
    {
     "name": "stdout",
     "output_type": "stream",
     "text": [
      "10002\n",
      "10001\n"
     ]
    }
   ],
   "source": [
    "print(sentence_dmrs.links[1].start)\n",
    "print(sentence_dmrs.links[1].end)"
   ]
  },
  {
   "cell_type": "code",
   "execution_count": 69,
   "id": "791362f7-5585-4fa4-913a-cdb6f4030440",
   "metadata": {},
   "outputs": [
    {
     "data": {
      "text/plain": [
       "[<Node object (10000:pronoun_q<0:14>[?]) at 139884642794944>,\n",
       " <Node object (10001:pron<0:14>[x]) at 139884642795232>,\n",
       " <Node object (10002:_add_v_to<0:3>[e]) at 139884642795328>,\n",
       " <Node object (10003:udef_q<4:14>[?]) at 139884642795424>,\n",
       " <Node object (10004:card<4:9>[e]) at 139884640059456>,\n",
       " <Node object (10005:_cup_n_1<10:14>[x]) at 139884640059552>]"
      ]
     },
     "execution_count": 69,
     "metadata": {},
     "output_type": "execute_result"
    }
   ],
   "source": [
    "sentence_dmrs.predications"
   ]
  },
  {
   "cell_type": "code",
   "execution_count": null,
   "id": "520ff435-4e5c-4cc7-a6b7-1878536f219f",
   "metadata": {},
   "outputs": [],
   "source": []
  }
 ],
 "metadata": {
  "kernelspec": {
   "display_name": "Python 3",
   "language": "python",
   "name": "python3"
  },
  "language_info": {
   "codemirror_mode": {
    "name": "ipython",
    "version": 3
   },
   "file_extension": ".py",
   "mimetype": "text/x-python",
   "name": "python",
   "nbconvert_exporter": "python",
   "pygments_lexer": "ipython3",
   "version": "3.8.8"
  }
 },
 "nbformat": 4,
 "nbformat_minor": 5
}
