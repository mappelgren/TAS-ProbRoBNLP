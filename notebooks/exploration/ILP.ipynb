{
 "cells": [
  {
   "cell_type": "code",
   "execution_count": 36,
   "id": "82516679-3c5b-4530-984d-3072b40c54cd",
   "metadata": {},
   "outputs": [],
   "source": [
    "from ProbRobNLP.logic import *\n",
    "from collections import namedtuple, deque\n",
    "from itertools import product\n",
    "from sys import stderr\n",
    "from pysat.solvers import Glucose3"
   ]
  },
  {
   "cell_type": "code",
   "execution_count": 2,
   "id": "65e3f3f3-08da-46cf-aa98-beaeebe9b522",
   "metadata": {},
   "outputs": [],
   "source": [
    "# target: target predicate trying to be learned e.g. diagonal\n",
    "# P_e set of extensional predicates i.e. fully defined by ground atoms. e.g. diagonal(x, y), in(x, e4), in(y,d5)\n",
    "# arity_e: maps P_e and target to arities\n",
    "# C set of constants. \n",
    "\n",
    "class LanguageFrame:\n",
    "    def __init__(self, target, P_e, C):\n",
    "        self.target = target\n",
    "        self.P_e = P_e\n",
    "        self.C = C\n",
    "        self.arity = {p: p.arity for p in (P_e + [target])}\n",
    "\n",
    "        \n"
   ]
  },
  {
   "cell_type": "code",
   "execution_count": 3,
   "id": "275f7c18-a260-4fd8-8405-c31ebfff7c2e",
   "metadata": {},
   "outputs": [],
   "source": [
    "# L is a language frame\n",
    "# B set of background assumptions formed from the predicates in P_e and C\n",
    "# P positive examples\n",
    "# N negative examples\n",
    "class ILPProblem:\n",
    "    def __init__(self, language, background, positive, negative):\n",
    "        self.language = language\n",
    "        self.background_assumptions = background\n",
    "        self.positive = positive\n",
    "        self.negative = negative\n",
    "        "
   ]
  },
  {
   "cell_type": "code",
   "execution_count": 15,
   "id": "2f6f3002-40cf-449a-8e51-a7f96320b8cb",
   "metadata": {},
   "outputs": [],
   "source": [
    "tau = namedtuple('tau', [\"variables\", \"intensional\"])"
   ]
  },
  {
   "cell_type": "code",
   "execution_count": 5,
   "id": "461bb05a-3cde-4b52-9c52-95915f9734b5",
   "metadata": {},
   "outputs": [],
   "source": [
    "# PI describes a range of programs that can be generated\n",
    "# P_a is a set of auxiliary intensional predicates. These are the additional invented predicates used to help define the target predicate\n",
    "# arity_a maps P_a to N and is the arity of those predicates\n",
    "# rules is a map from each intensional predicate to a par of rule templates (tau^1_p and tau^2_p)\n",
    "# T specifies the max number of steps of foward chaining inference \n",
    "class ProgramTemplate:\n",
    "    def __init__(self, P_a, rules, max_foward_chains):\n",
    "        self.P_a = P_a\n",
    "        self.rules = rules\n",
    "        self.arity = [p.arity for p in P_a]\n",
    "        self.max_forward_chains = max_foward_chains"
   ]
  },
  {
   "cell_type": "code",
   "execution_count": 18,
   "id": "31910c33-5f7e-4aaa-a508-7cac22cfa613",
   "metadata": {},
   "outputs": [
    {
     "name": "stdout",
     "output_type": "stream",
     "text": [
      "q(X0, X1)\n",
      "[p(X0, X0), p(X0, X1), p(X1, X0), p(X1, X1)]\n",
      "q(X0, X1) <- p(X0, X0), p(X0, X1)\n",
      "q(X0, X1) <- p(X0, X0), p(X1, X0)\n",
      "q(X0, X1) <- p(X0, X0), p(X1, X1)\n",
      "q(X0, X1) <- p(X0, X1)\n",
      "q(X0, X1) <- p(X0, X1), p(X1, X0)\n",
      "q(X0, X1) <- p(X0, X1), p(X1, X1)\n",
      "q(X0, X1) <- p(X1, X0)\n",
      "q(X0, X1) <- p(X1, X0), p(X1, X1)\n",
      "8\n",
      "q(X0, X1)\n",
      "[p(X0, X0), p(X0, X1), p(X0, X2), p(X1, X0), p(X1, X1), p(X1, X2), p(X2, X0), p(X2, X1), p(X2, X2), q(X0, X0), q(X0, X1), q(X0, X2), q(X1, X0), q(X1, X1), q(X1, X2), q(X2, X0), q(X2, X1), q(X2, X2)]\n",
      "q(X0, X1) <- p(X0, X0), q(X1, X0)\n",
      "q(X0, X1) <- p(X0, X0), q(X1, X1)\n",
      "q(X0, X1) <- p(X0, X0), q(X1, X2)\n",
      "q(X0, X1) <- p(X0, X0), q(X2, X1)\n",
      "q(X0, X1) <- p(X0, X1), q(X0, X0)\n",
      "q(X0, X1) <- p(X0, X1), q(X0, X2)\n",
      "q(X0, X1) <- q(X1, X0), p(X0, X1)\n",
      "q(X0, X1) <- p(X0, X1), q(X1, X1)\n",
      "q(X0, X1) <- q(X1, X2), p(X0, X1)\n",
      "q(X0, X1) <- p(X0, X1), q(X2, X0)\n",
      "q(X0, X1) <- p(X0, X1), q(X2, X1)\n",
      "q(X0, X1) <- p(X0, X1), q(X2, X2)\n",
      "q(X0, X1) <- q(X1, X0), p(X0, X2)\n",
      "q(X0, X1) <- p(X0, X2), q(X1, X1)\n",
      "q(X0, X1) <- q(X1, X2), p(X0, X2)\n",
      "q(X0, X1) <- p(X0, X2), q(X2, X1)\n",
      "q(X0, X1) <- q(X0, X0), p(X1, X0)\n",
      "q(X0, X1) <- p(X1, X0), q(X0, X2)\n",
      "q(X0, X1) <- q(X1, X0), p(X1, X0)\n",
      "q(X0, X1) <- p(X1, X0), q(X1, X1)\n",
      "q(X0, X1) <- q(X1, X2), p(X1, X0)\n",
      "q(X0, X1) <- p(X1, X0), q(X2, X0)\n",
      "q(X0, X1) <- p(X1, X0), q(X2, X1)\n",
      "q(X0, X1) <- p(X1, X0), q(X2, X2)\n",
      "q(X0, X1) <- q(X0, X0), p(X1, X1)\n",
      "q(X0, X1) <- p(X1, X1), q(X0, X2)\n",
      "q(X0, X1) <- q(X1, X0), p(X1, X1)\n",
      "q(X0, X1) <- p(X1, X1), q(X2, X0)\n",
      "q(X0, X1) <- p(X1, X2), q(X0, X0)\n",
      "q(X0, X1) <- p(X1, X2), q(X0, X2)\n",
      "q(X0, X1) <- p(X1, X2), q(X1, X0)\n",
      "q(X0, X1) <- p(X1, X2), q(X2, X0)\n",
      "q(X0, X1) <- q(X1, X0), p(X2, X0)\n",
      "q(X0, X1) <- q(X1, X1), p(X2, X0)\n",
      "q(X0, X1) <- q(X1, X2), p(X2, X0)\n",
      "q(X0, X1) <- q(X2, X1), p(X2, X0)\n",
      "q(X0, X1) <- q(X0, X0), p(X2, X1)\n",
      "q(X0, X1) <- p(X2, X1), q(X0, X2)\n",
      "q(X0, X1) <- q(X1, X0), p(X2, X1)\n",
      "q(X0, X1) <- p(X2, X1), q(X2, X0)\n",
      "q(X0, X1) <- q(X1, X0), p(X2, X2)\n",
      "q(X0, X1) <- q(X1, X0), q(X0, X0)\n",
      "q(X0, X1) <- q(X0, X0), q(X1, X1)\n",
      "q(X0, X1) <- q(X1, X2), q(X0, X0)\n",
      "q(X0, X1) <- q(X0, X0), q(X2, X1)\n",
      "q(X0, X1) <- q(X1, X0), q(X0, X2)\n",
      "q(X0, X1) <- q(X1, X1), q(X0, X2)\n",
      "q(X0, X1) <- q(X1, X2), q(X0, X2)\n",
      "q(X0, X1) <- q(X2, X1), q(X0, X2)\n",
      "q(X0, X1) <- q(X1, X0)\n",
      "q(X0, X1) <- q(X1, X0), q(X1, X1)\n",
      "q(X0, X1) <- q(X1, X0), q(X1, X2)\n",
      "q(X0, X1) <- q(X1, X0), q(X2, X0)\n",
      "q(X0, X1) <- q(X1, X0), q(X2, X1)\n",
      "q(X0, X1) <- q(X1, X0), q(X2, X2)\n",
      "q(X0, X1) <- q(X1, X1), q(X2, X0)\n",
      "q(X0, X1) <- q(X1, X2), q(X2, X0)\n",
      "q(X0, X1) <- q(X2, X1), q(X2, X0)\n",
      "58\n"
     ]
    }
   ],
   "source": [
    "def generate_clauses(target, t: tau, P_e, P_a):\n",
    "    reset_variable()\n",
    "    variables = [get_variable() for i in range(target.arity + t.variables)]\n",
    "    \n",
    "    head_variables = variables[:target.arity]\n",
    "    \n",
    "    target_atom = Atom(target, head_variables)\n",
    "    \n",
    "    P_a = P_a + [target]\n",
    "    \n",
    "    print(target_atom)\n",
    "    \n",
    "    possible_atoms = []\n",
    "    \n",
    "    for P in P_e:\n",
    "        for terms in product(*[variables]*P.arity):\n",
    "            \n",
    "            possible_atoms.append(Atom(P, terms))\n",
    "    if t.intensional:\n",
    "        for P in P_a:\n",
    "            for terms in product(*[variables]*P.arity):\n",
    "\n",
    "                possible_atoms.append(Atom(P, terms))\n",
    "    \n",
    "    print(possible_atoms)\n",
    "    \n",
    "    clauses = []\n",
    "    \n",
    "    for body in product(possible_atoms, possible_atoms):\n",
    "        \n",
    "        body_variables = set()\n",
    "        for p in body:\n",
    "            body_variables.update(p.terms)\n",
    "        \n",
    "        clause = DefiniteClause(target_atom, set(body))\n",
    "        \n",
    "        unsafe = any([v not in body_variables for v in head_variables])\n",
    "        circular = target_atom in body \n",
    "        #circular = any([target_atom == b for b in body])\n",
    "        duplicated = clause in clauses\n",
    "        has_intentional = int(len([b for b in body if b.pred in P_a]) > 0)\n",
    "        satisfies_int = has_intentional == t.intensional\n",
    "                \n",
    "        \n",
    "        if not unsafe and not circular and not duplicated and satisfies_int:\n",
    "        \n",
    "            clauses.append(clause)\n",
    "    \n",
    "    for clause in clauses:\n",
    "        print(clause)\n",
    "    print(len(clauses))\n",
    "    \n",
    "    return target_atom, possible_atoms\n",
    "\n",
    "X, Y, Z = get_variable(), get_variable(), get_variable()\n",
    "a = Atom(q, [X, Y])\n",
    "b = Atom(q, [X, Y])\n",
    "c = Atom(q, [X, Z])\n",
    "a == b\n",
    "a == c\n",
    "a in (b, c)\n",
    "\n",
    "q = Predicate('q', 2)\n",
    "P_e = [Predicate('p', 2)]\n",
    "constants = [Constant(c) for c in ['a', 'b', 'c', 'd']]\n",
    "p = P_e[0]\n",
    "\n",
    "L = LanguageFrame(p, P_e, constants)\n",
    "\n",
    "a, b, c, d = constants\n",
    "B = [Atom(p, [a,b]), Atom(p, [b,c]), Atom(p, [c,d])]\n",
    "P = [Atom(q, [a,b]), Atom(q, [a,c]), Atom(q, [a,d]), Atom(q, [b,c]), Atom(q, [b,d]), Atom(q, [c,d])]\n",
    "N = [Atom(q, [X, Y]) for X, Y in product(constants, constants) if Atom(q, [X, Y]) not in P]\n",
    "\n",
    "tau_1 = tau(0, 0)\n",
    "tau_2 = tau(1, 1)\n",
    "\n",
    "generate_clauses(q, tau_1, P_e, [])\n",
    "target, possible = generate_clauses(q, tau_2, P_e, [])"
   ]
  },
  {
   "cell_type": "code",
   "execution_count": 4,
   "id": "93c7d393-50f9-4f25-b5bd-71efcacb5744",
   "metadata": {},
   "outputs": [
    {
     "ename": "NameError",
     "evalue": "name 'target' is not defined",
     "output_type": "error",
     "traceback": [
      "\u001b[0;31m---------------------------------------------------------------------------\u001b[0m",
      "\u001b[0;31mNameError\u001b[0m                                 Traceback (most recent call last)",
      "\u001b[0;32m<ipython-input-4-cbec1051e64a>\u001b[0m in \u001b[0;36m<module>\u001b[0;34m\u001b[0m\n\u001b[0;32m----> 1\u001b[0;31m \u001b[0mtarget\u001b[0m\u001b[0;34m\u001b[0m\u001b[0;34m\u001b[0m\u001b[0m\n\u001b[0m\u001b[1;32m      2\u001b[0m \u001b[0mpossible\u001b[0m\u001b[0;34m\u001b[0m\u001b[0;34m\u001b[0m\u001b[0m\n\u001b[1;32m      3\u001b[0m \u001b[0;34m\u001b[0m\u001b[0m\n\u001b[1;32m      4\u001b[0m \u001b[0;32mfor\u001b[0m \u001b[0mp\u001b[0m \u001b[0;32min\u001b[0m \u001b[0mpossible\u001b[0m\u001b[0;34m:\u001b[0m\u001b[0;34m\u001b[0m\u001b[0;34m\u001b[0m\u001b[0m\n\u001b[1;32m      5\u001b[0m     \u001b[0mprint\u001b[0m\u001b[0;34m(\u001b[0m\u001b[0mtarget\u001b[0m\u001b[0;34m,\u001b[0m \u001b[0mp\u001b[0m\u001b[0;34m,\u001b[0m \u001b[0mtarget\u001b[0m \u001b[0;34m==\u001b[0m \u001b[0mp\u001b[0m\u001b[0;34m)\u001b[0m\u001b[0;34m\u001b[0m\u001b[0;34m\u001b[0m\u001b[0m\n",
      "\u001b[0;31mNameError\u001b[0m: name 'target' is not defined"
     ]
    }
   ],
   "source": [
    "target\n",
    "possible\n",
    "\n",
    "for p in possible:\n",
    "    print(target, p, target == p)"
   ]
  },
  {
   "cell_type": "code",
   "execution_count": null,
   "id": "e1e8ae97-1f13-4635-b2e7-5b4fcb006640",
   "metadata": {},
   "outputs": [],
   "source": []
  },
  {
   "cell_type": "code",
   "execution_count": 8,
   "id": "e77f372a-1d3d-4dc5-94ea-2b615e9792f1",
   "metadata": {},
   "outputs": [
    {
     "ename": "NameError",
     "evalue": "name 'q' is not defined",
     "output_type": "error",
     "traceback": [
      "\u001b[0;31m---------------------------------------------------------------------------\u001b[0m",
      "\u001b[0;31mNameError\u001b[0m                                 Traceback (most recent call last)",
      "\u001b[0;32m<ipython-input-8-72afdae824c0>\u001b[0m in \u001b[0;36m<module>\u001b[0;34m\u001b[0m\n\u001b[1;32m      1\u001b[0m \u001b[0mX\u001b[0m\u001b[0;34m,\u001b[0m \u001b[0mY\u001b[0m\u001b[0;34m,\u001b[0m \u001b[0mZ\u001b[0m \u001b[0;34m=\u001b[0m \u001b[0mget_variable\u001b[0m\u001b[0;34m(\u001b[0m\u001b[0;34m)\u001b[0m\u001b[0;34m,\u001b[0m \u001b[0mget_variable\u001b[0m\u001b[0;34m(\u001b[0m\u001b[0;34m)\u001b[0m\u001b[0;34m,\u001b[0m \u001b[0mget_variable\u001b[0m\u001b[0;34m(\u001b[0m\u001b[0;34m)\u001b[0m\u001b[0;34m\u001b[0m\u001b[0;34m\u001b[0m\u001b[0m\n\u001b[0;32m----> 2\u001b[0;31m \u001b[0ma\u001b[0m \u001b[0;34m=\u001b[0m \u001b[0mAtom\u001b[0m\u001b[0;34m(\u001b[0m\u001b[0mq\u001b[0m\u001b[0;34m,\u001b[0m \u001b[0;34m[\u001b[0m\u001b[0mX\u001b[0m\u001b[0;34m,\u001b[0m \u001b[0mY\u001b[0m\u001b[0;34m]\u001b[0m\u001b[0;34m)\u001b[0m\u001b[0;34m\u001b[0m\u001b[0;34m\u001b[0m\u001b[0m\n\u001b[0m\u001b[1;32m      3\u001b[0m \u001b[0mb\u001b[0m \u001b[0;34m=\u001b[0m \u001b[0mAtom\u001b[0m\u001b[0;34m(\u001b[0m\u001b[0mq\u001b[0m\u001b[0;34m,\u001b[0m \u001b[0;34m[\u001b[0m\u001b[0mX\u001b[0m\u001b[0;34m,\u001b[0m \u001b[0mY\u001b[0m\u001b[0;34m]\u001b[0m\u001b[0;34m)\u001b[0m\u001b[0;34m\u001b[0m\u001b[0;34m\u001b[0m\u001b[0m\n\u001b[1;32m      4\u001b[0m \u001b[0mc\u001b[0m \u001b[0;34m=\u001b[0m \u001b[0mAtom\u001b[0m\u001b[0;34m(\u001b[0m\u001b[0mq\u001b[0m\u001b[0;34m,\u001b[0m \u001b[0;34m[\u001b[0m\u001b[0mX\u001b[0m\u001b[0;34m,\u001b[0m \u001b[0mZ\u001b[0m\u001b[0;34m]\u001b[0m\u001b[0;34m)\u001b[0m\u001b[0;34m\u001b[0m\u001b[0;34m\u001b[0m\u001b[0m\n\u001b[1;32m      5\u001b[0m \u001b[0ma\u001b[0m \u001b[0;34m==\u001b[0m \u001b[0mb\u001b[0m\u001b[0;34m\u001b[0m\u001b[0;34m\u001b[0m\u001b[0m\n",
      "\u001b[0;31mNameError\u001b[0m: name 'q' is not defined"
     ]
    }
   ],
   "source": []
  },
  {
   "cell_type": "code",
   "execution_count": 5,
   "id": "2607e063-636d-4009-92e6-79211d7f743e",
   "metadata": {},
   "outputs": [
    {
     "data": {
      "text/plain": [
       "{1}"
      ]
     },
     "execution_count": 5,
     "metadata": {},
     "output_type": "execute_result"
    }
   ],
   "source": [
    "s = set() \n",
    "s.update([1])\n",
    "s"
   ]
  },
  {
   "cell_type": "code",
   "execution_count": 6,
   "id": "34a34da8-c50c-4e4b-a622-8a9874be445d",
   "metadata": {},
   "outputs": [],
   "source": [
    "q = Predicate('q', 2)\n",
    "P_e = [Predicate('p', 2)]\n",
    "constants = [Constant(c) for c in ['a', 'b', 'c', 'd']]\n",
    "p = P_e[0]"
   ]
  },
  {
   "cell_type": "code",
   "execution_count": 7,
   "id": "3a254024-67b7-4a38-b792-35337c4058dc",
   "metadata": {},
   "outputs": [],
   "source": [
    "L = LanguageFrame(p, P_e, constants)"
   ]
  },
  {
   "cell_type": "code",
   "execution_count": 8,
   "id": "b450f936-49fb-4d0a-ab41-9d0aaf612ba7",
   "metadata": {},
   "outputs": [],
   "source": [
    "a, b, c, d = constants"
   ]
  },
  {
   "cell_type": "code",
   "execution_count": 9,
   "id": "3f68c2e6-4914-4bce-8a3b-d852e6401ab2",
   "metadata": {},
   "outputs": [],
   "source": [
    "a, b, c, d = constants\n",
    "B = [Atom(p, [a,b]), Atom(p, [b,c]), Atom(p, [c,d])]\n",
    "P = [Atom(q, [a,b]), Atom(q, [a,c]), Atom(q, [a,d]), Atom(q, [b,c]), Atom(q, [b,d]), Atom(q, [c,d])]\n",
    "N = [Atom(q, [X, Y]) for X, Y in product(constants, constants) if Atom(q, [X, Y]) not in P]\n",
    "\n",
    "tau_1 = tau(0, 0)\n",
    "tau_2 = tau(1, 1)"
   ]
  },
  {
   "cell_type": "code",
   "execution_count": 10,
   "id": "2662b32e-8084-4c4d-a189-9f3e590625c1",
   "metadata": {},
   "outputs": [],
   "source": [
    "P = [Atom(q, [a,b]), Atom(q, [a,c]), Atom(q, [a,d]), Atom(q, [b,c]), Atom(q, [b,d]), Atom(q, [c,d])]"
   ]
  },
  {
   "cell_type": "code",
   "execution_count": 11,
   "id": "1f099b5d-9974-464d-86a3-42c8392cac6c",
   "metadata": {},
   "outputs": [],
   "source": [
    "N = [Atom(q, [X, Y]) for X, Y in product(constants, constants) if Atom(q, [X, Y]) not in P]"
   ]
  },
  {
   "cell_type": "code",
   "execution_count": 12,
   "id": "7cb87b90-2d2a-453f-a655-5f1ccc04fdb9",
   "metadata": {},
   "outputs": [
    {
     "ename": "NameError",
     "evalue": "name 'tau' is not defined",
     "output_type": "error",
     "traceback": [
      "\u001b[0;31m---------------------------------------------------------------------------\u001b[0m",
      "\u001b[0;31mNameError\u001b[0m                                 Traceback (most recent call last)",
      "\u001b[0;32m<ipython-input-12-d6c8663ca8b2>\u001b[0m in \u001b[0;36m<module>\u001b[0;34m\u001b[0m\n\u001b[0;32m----> 1\u001b[0;31m \u001b[0mtau_1\u001b[0m \u001b[0;34m=\u001b[0m \u001b[0mtau\u001b[0m\u001b[0;34m(\u001b[0m\u001b[0;36m0\u001b[0m\u001b[0;34m,\u001b[0m \u001b[0;36m0\u001b[0m\u001b[0;34m)\u001b[0m\u001b[0;34m\u001b[0m\u001b[0;34m\u001b[0m\u001b[0m\n\u001b[0m\u001b[1;32m      2\u001b[0m \u001b[0mtau_2\u001b[0m \u001b[0;34m=\u001b[0m \u001b[0mtau\u001b[0m\u001b[0;34m(\u001b[0m\u001b[0;36m1\u001b[0m\u001b[0;34m,\u001b[0m \u001b[0;36m1\u001b[0m\u001b[0;34m)\u001b[0m\u001b[0;34m\u001b[0m\u001b[0;34m\u001b[0m\u001b[0m\n",
      "\u001b[0;31mNameError\u001b[0m: name 'tau' is not defined"
     ]
    }
   ],
   "source": [
    "tau_1 = tau(0, 0)\n",
    "tau_2 = tau(1, 1)"
   ]
  },
  {
   "cell_type": "code",
   "execution_count": 13,
   "id": "cf7b9e7b-afc5-492c-b28b-e8efd0b0d8fe",
   "metadata": {},
   "outputs": [
    {
     "ename": "NameError",
     "evalue": "name 'tau_1' is not defined",
     "output_type": "error",
     "traceback": [
      "\u001b[0;31m---------------------------------------------------------------------------\u001b[0m",
      "\u001b[0;31mNameError\u001b[0m                                 Traceback (most recent call last)",
      "\u001b[0;32m<ipython-input-13-d5371c074d81>\u001b[0m in \u001b[0;36m<module>\u001b[0;34m\u001b[0m\n\u001b[0;32m----> 1\u001b[0;31m \u001b[0mrules\u001b[0m \u001b[0;34m=\u001b[0m \u001b[0;34m{\u001b[0m\u001b[0mq\u001b[0m\u001b[0;34m:\u001b[0m \u001b[0;34m(\u001b[0m\u001b[0mtau_1\u001b[0m\u001b[0;34m,\u001b[0m \u001b[0mtau_2\u001b[0m\u001b[0;34m)\u001b[0m\u001b[0;34m}\u001b[0m\u001b[0;34m\u001b[0m\u001b[0;34m\u001b[0m\u001b[0m\n\u001b[0m",
      "\u001b[0;31mNameError\u001b[0m: name 'tau_1' is not defined"
     ]
    }
   ],
   "source": [
    "rules = {q: (tau_1, tau_2)}"
   ]
  },
  {
   "cell_type": "code",
   "execution_count": 14,
   "id": "654f4895-8275-4bcd-a5ea-fd6502fc0596",
   "metadata": {},
   "outputs": [
    {
     "data": {
      "text/plain": [
       "[]"
      ]
     },
     "execution_count": 14,
     "metadata": {},
     "output_type": "execute_result"
    }
   ],
   "source": [
    "list(product([]))"
   ]
  },
  {
   "cell_type": "code",
   "execution_count": 19,
   "id": "8fd39bdb-b994-43e8-a19f-465e1ecfe1bd",
   "metadata": {},
   "outputs": [
    {
     "data": {
      "text/plain": [
       "[(1, 1, 1),\n",
       " (1, 1, 2),\n",
       " (1, 1, 3),\n",
       " (1, 2, 1),\n",
       " (1, 2, 2),\n",
       " (1, 2, 3),\n",
       " (1, 3, 1),\n",
       " (1, 3, 2),\n",
       " (1, 3, 3),\n",
       " (2, 1, 1),\n",
       " (2, 1, 2),\n",
       " (2, 1, 3),\n",
       " (2, 2, 1),\n",
       " (2, 2, 2),\n",
       " (2, 2, 3),\n",
       " (2, 3, 1),\n",
       " (2, 3, 2),\n",
       " (2, 3, 3),\n",
       " (3, 1, 1),\n",
       " (3, 1, 2),\n",
       " (3, 1, 3),\n",
       " (3, 2, 1),\n",
       " (3, 2, 2),\n",
       " (3, 2, 3),\n",
       " (3, 3, 1),\n",
       " (3, 3, 2),\n",
       " (3, 3, 3)]"
      ]
     },
     "execution_count": 19,
     "metadata": {},
     "output_type": "execute_result"
    }
   ],
   "source": [
    "list(product(*[[1,2,3]]*3))"
   ]
  },
  {
   "cell_type": "code",
   "execution_count": 19,
   "id": "2f94d343-af29-4bd1-9047-2845bca83e61",
   "metadata": {},
   "outputs": [],
   "source": [
    "class SATInstance(object):\n",
    "    def parse_and_add_clause(self, line):\n",
    "        clause = []\n",
    "        for literal in line.split():\n",
    "            negated = 1 if literal.startswith('~') else 0\n",
    "            variable = literal[negated:]\n",
    "            if variable not in self.variable_table:\n",
    "                self.variable_table[variable] = len(self.variables)\n",
    "                self.variables.append(variable)\n",
    "            encoded_literal = self.variable_table[variable] << 1 | negated\n",
    "            clause.append(encoded_literal)\n",
    "        self.clauses.append(tuple(set(clause)))\n",
    "\n",
    "    def __init__(self):\n",
    "        self.variables = []\n",
    "        self.variable_table = dict()\n",
    "        self.clauses = []\n",
    "\n",
    "    @classmethod\n",
    "    def from_file(cls, file):\n",
    "        instance = cls()\n",
    "        for line in file:\n",
    "            line = line.strip()\n",
    "            if len(line) > 0 and not line.startswith('#'):\n",
    "                instance.parse_and_add_clause(line)\n",
    "        return instance\n",
    "\n",
    "    def literal_to_string(self, literal):\n",
    "        s = '~' if literal & 1 else ''\n",
    "        return s + self.variables[literal >> 1]\n",
    "\n",
    "    def clause_to_string(self, clause):\n",
    "        return ' '.join(self.literal_to_string(l) for l in clause)\n",
    "\n",
    "    def assignment_to_string(self, assignment, brief=False, starting_with=''):\n",
    "        literals = []\n",
    "        for a, v in ((a, v) for a, v in zip(assignment, self.variables)\n",
    "                     if v.startswith(starting_with)):\n",
    "            if a == 0 and not brief:\n",
    "                literals.append('~' + v)\n",
    "            elif a:\n",
    "                literals.append(v)\n",
    "        return ' '.join(literals)"
   ]
  },
  {
   "cell_type": "code",
   "execution_count": 20,
   "id": "a455c4cb-086e-4fde-90ae-50b438dd3281",
   "metadata": {},
   "outputs": [],
   "source": [
    "s = SATInstance()"
   ]
  },
  {
   "cell_type": "code",
   "execution_count": 21,
   "id": "bb24c852-d20a-423f-b29a-b1f8540809c3",
   "metadata": {},
   "outputs": [
    {
     "data": {
      "text/plain": [
       "['A', 'B', 'C']"
      ]
     },
     "execution_count": 21,
     "metadata": {},
     "output_type": "execute_result"
    }
   ],
   "source": [
    "s.parse_and_add_clause('A B ~C')\n",
    "s.variables\n"
   ]
  },
  {
   "cell_type": "code",
   "execution_count": 22,
   "id": "6e929034-8be5-4121-a150-e6fa372972dd",
   "metadata": {},
   "outputs": [
    {
     "data": {
      "text/plain": [
       "{'A': 0, 'B': 1, 'C': 2}"
      ]
     },
     "execution_count": 22,
     "metadata": {},
     "output_type": "execute_result"
    }
   ],
   "source": [
    "s.variable_table"
   ]
  },
  {
   "cell_type": "code",
   "execution_count": 23,
   "id": "88d1cb94-7e62-4b86-8367-52a85d74d0c1",
   "metadata": {},
   "outputs": [
    {
     "data": {
      "text/plain": [
       "[(0, 2, 5)]"
      ]
     },
     "execution_count": 23,
     "metadata": {},
     "output_type": "execute_result"
    }
   ],
   "source": [
    "s.clauses"
   ]
  },
  {
   "cell_type": "code",
   "execution_count": 24,
   "id": "e9324dc5-85b1-42e7-82c5-c16eea413f96",
   "metadata": {},
   "outputs": [],
   "source": [
    "def setup_watchlist(instance):\n",
    "    watchlist = [deque() for __ in range(2 * len(instance.variables))]\n",
    "    for clause in instance.clauses:\n",
    "        # Make the clause watch its first literal\n",
    "        watchlist[clause[0]].append(clause)\n",
    "    return watchlist"
   ]
  },
  {
   "cell_type": "code",
   "execution_count": 25,
   "id": "a7768b9d-8f17-4057-8672-7337c39287d7",
   "metadata": {},
   "outputs": [],
   "source": [
    "def update_watchlist(instance,\n",
    "                     watchlist,\n",
    "                     false_literal,\n",
    "                     assignment,\n",
    "                     verbose):\n",
    "    \"\"\"\n",
    "    Updates the watch list after literal 'false_literal' was just assigned\n",
    "    False, by making any clause watching false_literal watch something else.\n",
    "    Returns False it is impossible to do so, meaning a clause is contradicted\n",
    "    by the current assignment.\n",
    "    \"\"\"\n",
    "    while watchlist[false_literal]:\n",
    "        clause = watchlist[false_literal][0]\n",
    "        found_alternative = False\n",
    "        for alternative in clause:\n",
    "            v = alternative >> 1\n",
    "            a = alternative & 1\n",
    "            if assignment[v] is None or assignment[v] == a ^ 1:\n",
    "                found_alternative = True\n",
    "                del watchlist[false_literal][0]\n",
    "                watchlist[alternative].append(clause)\n",
    "                break\n",
    "\n",
    "        if not found_alternative:\n",
    "            if verbose:\n",
    "                dump_watchlist(instance, watchlist)\n",
    "                print('Current assignment: {}'.format(\n",
    "                      instance.assignment_to_string(assignment)),\n",
    "                      file=stderr)\n",
    "                print('Clause {} contradicted.'.format(\n",
    "                      instance.clause_to_string(clause)),\n",
    "                      file=stderr)\n",
    "            return False\n",
    "    return True"
   ]
  },
  {
   "cell_type": "code",
   "execution_count": 26,
   "id": "f5e8d233-ad2c-4ecf-8e20-4ca72419451e",
   "metadata": {},
   "outputs": [],
   "source": [
    "def solve(instance, watchlist, assignment, d, verbose):\n",
    "    \"\"\"\n",
    "    Recursively solve SAT by assigning to variables d, d+1, ..., n-1. Assumes\n",
    "    variables 0, ..., d-1 are assigned so far. A generator for all the\n",
    "    satisfying assignments is returned.\n",
    "    \"\"\"\n",
    "    if d == len(instance.variables):\n",
    "        yield assignment\n",
    "        return\n",
    "\n",
    "    for a in [0, 1]:\n",
    "        if verbose:\n",
    "            print('Trying {} = {}'.format(instance.variables[d], a),\n",
    "                  file=stderr)\n",
    "        assignment[d] = a\n",
    "        if update_watchlist(instance,\n",
    "                            watchlist,\n",
    "                            (d << 1) | a,\n",
    "                            assignment,\n",
    "                            verbose):\n",
    "            for a in solve(instance, watchlist, assignment, d + 1, verbose):\n",
    "                yield a\n",
    "\n",
    "    assignment[d] = None"
   ]
  },
  {
   "cell_type": "code",
   "execution_count": 35,
   "id": "ea768e35-0bec-46ad-aebf-4f84a1ebe593",
   "metadata": {},
   "outputs": [],
   "source": [
    "s = SATInstance()\n",
    "s.parse_and_add_clause('A B ~C')\n",
    "s.parse_and_add_clause('B C')\n",
    "s.parse_and_add_clause('~B')\n",
    "s.parse_and_add_clause('~A C')\n",
    "watchlist = setup_watchlist(s)\n",
    "\n",
    "solution = solve(s, watchlist, [0]*len(s.variables), 0, True)"
   ]
  },
  {
   "cell_type": "code",
   "execution_count": 34,
   "id": "51e4bb4d-3d83-4716-8065-fdbc90081620",
   "metadata": {},
   "outputs": [
    {
     "name": "stdout",
     "output_type": "stream",
     "text": [
      "[]\n"
     ]
    }
   ],
   "source": [
    "print(list(solution))"
   ]
  },
  {
   "cell_type": "code",
   "execution_count": null,
   "id": "adad6b0d-cf0d-4d99-b784-716921d6bea5",
   "metadata": {},
   "outputs": [],
   "source": [
    "g = Glucose3()\n",
    "g.add_clause([-1, 2])\n",
    "g.add_clause([-2, 3])\n",
    "print(g.solve())\n",
    "print(g.get_model())"
   ]
  },
  {
   "cell_type": "code",
   "execution_count": null,
   "id": "39195beb-5be0-4897-8ffa-9eaa15def339",
   "metadata": {},
   "outputs": [],
   "source": []
  }
 ],
 "metadata": {
  "kernelspec": {
   "display_name": "Python 3",
   "language": "python",
   "name": "python3"
  },
  "language_info": {
   "codemirror_mode": {
    "name": "ipython",
    "version": 3
   },
   "file_extension": ".py",
   "mimetype": "text/x-python",
   "name": "python",
   "nbconvert_exporter": "python",
   "pygments_lexer": "ipython3",
   "version": "3.9.5"
  }
 },
 "nbformat": 4,
 "nbformat_minor": 5
}
