{
 "cells": [
  {
   "cell_type": "code",
   "execution_count": 8,
   "id": "a0d7d05d-9153-43dc-b2e2-f239e837e7b4",
   "metadata": {},
   "outputs": [],
   "source": [
    "from datetime import datetime"
   ]
  },
  {
   "cell_type": "code",
   "execution_count": 25,
   "id": "3ab3d7e1-efb1-400d-b43e-7936c20a01b8",
   "metadata": {},
   "outputs": [],
   "source": [
    "class Grant:\n",
    "    \n",
    "    def __init__(self, name, initial_money, current_money=None, purchases=None):\n",
    "        self.name = name\n",
    "        self.initial_money = initial_money\n",
    "        self.current_money = current_money if current_money is not None else initial_money\n",
    "        self.purchases = purchases if purchases is not None else []\n",
    "        \n",
    "    def display(self):\n",
    "        print('GRANT: ', self.name)\n",
    "        print('Initial funds: ', self.initial_money)\n",
    "        print('Current funds: ', self.current_money)\n",
    "        for purchase in self.purchases:\n",
    "            print(purchase)\n",
    "\n",
    "    def add_purchase(self, purchase):\n",
    "        self.current_money -= purchase.price\n",
    "        self.purchases.append(purchase)\n",
    "            \n",
    "class Purchase:\n",
    "    \n",
    "    def __init__(self, name, price, date, url=None):\n",
    "        self.name = name\n",
    "        self.url = url\n",
    "        self.price = price\n",
    "        self.date = date\n",
    "        \n",
    "    def __repr__(self):\n",
    "        return f'Purchase of {self.name} on {self.date.date()} for £{self.price}'"
   ]
  },
  {
   "cell_type": "code",
   "execution_count": 26,
   "id": "c1ed613e-08ae-4647-a64b-cabd1972e0b6",
   "metadata": {},
   "outputs": [],
   "source": [
    "g = Grant('Chicken Grant#3', 19000)"
   ]
  },
  {
   "cell_type": "code",
   "execution_count": 27,
   "id": "51a73d03-f91d-47a3-b82a-511956d881ed",
   "metadata": {},
   "outputs": [],
   "source": [
    "p = Purchase('Light Sensor', 50, datetime(2021,2,1))\n",
    "p = Purchase('Light Sensor', 50, datetime(2021,2,1))"
   ]
  },
  {
   "cell_type": "code",
   "execution_count": 28,
   "id": "4a5bdc15-3223-47b5-a567-3004901fdc70",
   "metadata": {},
   "outputs": [],
   "source": [
    "g.add_purchase(p)"
   ]
  },
  {
   "cell_type": "code",
   "execution_count": 29,
   "id": "00328c5f-26a1-41d2-8a99-33bb7309436a",
   "metadata": {},
   "outputs": [
    {
     "name": "stdout",
     "output_type": "stream",
     "text": [
      "GRANT:  Chicken Grant#3\n",
      "Initial funds:  19000\n",
      "Current funds:  18950\n",
      "Purchase of Light Sensor on 2021-02-01 for £50\n"
     ]
    }
   ],
   "source": [
    "g.display()"
   ]
  },
  {
   "cell_type": "code",
   "execution_count": null,
   "id": "79c65497-7447-4b9e-8977-bf75854f57cf",
   "metadata": {},
   "outputs": [],
   "source": []
  }
 ],
 "metadata": {
  "kernelspec": {
   "display_name": "Python 3",
   "language": "python",
   "name": "python3"
  },
  "language_info": {
   "codemirror_mode": {
    "name": "ipython",
    "version": 3
   },
   "file_extension": ".py",
   "mimetype": "text/x-python",
   "name": "python",
   "nbconvert_exporter": "python",
   "pygments_lexer": "ipython3",
   "version": "3.9.5"
  }
 },
 "nbformat": 4,
 "nbformat_minor": 5
}
