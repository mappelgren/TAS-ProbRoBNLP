{
 "cells": [
  {
   "cell_type": "code",
   "execution_count": 14,
   "id": "a0f7a884-ff15-4027-a9a4-ffd7a4599ad5",
   "metadata": {},
   "outputs": [],
   "source": [
    "import enum\n",
    "from pgmpy.factors.discrete import TabularCPD, DiscreteFactor, State\n",
    "from pgmpy.inference import BeliefPropagation\n",
    "from pgmpy.models import FactorGraph, BayesianModel\n",
    "from pgmpy.factors.continuous import ContinuousFactor\n",
    "import numpy as np\n",
    "from pgmpy.sampling import GibbsSampling, BayesianModelSampling\n",
    "from pgmpy.inference import VariableElimination\n",
    "from pgmpy.models import BayesianNetwork\n",
    "\n"
   ]
  },
  {
   "cell_type": "code",
   "execution_count": 16,
   "id": "a42bf87c-ad85-483e-93bb-583b085bdcbf",
   "metadata": {},
   "outputs": [],
   "source": [
    "\n",
    "\n",
    "class Shape:\n",
    "    \"\"\"Abstract class for shapes to inherit from. \"\"\"\n",
    "    pass\n",
    "\n",
    "class Circle(Shape):\n",
    "    \"\"\"A circle defined by position, circumference, and colour (colour can be anything matplotlib accepts for colour\"\"\"\n",
    "    def __init__(self, position, circumference, colour):\n",
    "        self.position = position\n",
    "        self.circumference = circumference\n",
    "        self.colour = colour\n",
    "        self.type = 'circle'\n",
    "    \n",
    "    def draw(self):\n",
    "        return plt.Circle(self.position, self.circumference, fc=self.colour)\n",
    "    \n",
    "    \n",
    "    \n",
    "class Rectangle(Shape):\n",
    "     \"\"\"A rectangle defined by position, height, width, and colour (colour can be anything matplotlib accepts for colour\"\"\"\n",
    "    def __init__(self, position, height, width, colour):\n",
    "        self.position = position\n",
    "        self.height = height\n",
    "        self.width = width\n",
    "        self.colour = colour\n",
    "        self.type = 'rectangle'\n",
    "        \n",
    "    def draw(self):\n",
    "        return plt.Rectangle(self.position, self.height, self.width, fc=self.colour)\n",
    "    \n",
    "class Scene:\n",
    "    \"\"\"A scene containing a number of shapes (passed in init)\"\"\"\n",
    "    def __init__(self, shapes):\n",
    "        self.shapes = shapes\n",
    "        \n",
    "    def draw(self):\n",
    "        plt.axes()\n",
    "        for shape in self.shapes:\n",
    "            s = shape.draw()\n",
    "            plt.gca().add_patch(s)\n",
    "        plt.axis('scaled')\n",
    "        plt.show()\n",
    "\n",
    "\n",
    "class Perspective(enum.Enum):\n",
    "    \"\"\"here we define the different perspectives which we use. Currently just two perspectives\n",
    "    p1 represents looking at the scene from the \"normal\" direction while p2 represents looking at it \"upside down\" \"\"\"\n",
    "    p1 = 0\n",
    "    p2 = 1"
   ]
  },
  {
   "cell_type": "code",
   "execution_count": 17,
   "id": "1c3e0198-4f74-412f-be12-6b1c8ca0caa4",
   "metadata": {},
   "outputs": [],
   "source": [
    "def left_of(o_1, o_2, perspective):\n",
    "    \"\"\"is o_1 left of o_2 given a particular perspective?\"\"\"\n",
    "    x_1 = o_1.position[0]\n",
    "    x_2 = o_2.position[0]\n",
    "    \n",
    "    if perspective == Perspective.p1:\n",
    "        diff = x_1 - x_2\n",
    "    else:\n",
    "        diff = x_2 - x_1\n",
    "    \n",
    "    return diff < 0\n",
    "\n",
    "def right_of(o_1, o_2, perspective):\n",
    "    \"\"\"is o_1 right of o_2 given a particular perspective?\"\"\"\n",
    "    return not left_of(o_1, o_2, perspective)\n",
    "\n",
    "def is_colour(o, colour):\n",
    "    \"\"\"check if object o has a particular colour. Here we assume the same method of defining colour is used (namely by name)\"\"\"\n",
    "    return o.colour == colour\n",
    "\n",
    "def is_colour_uncertain(o, colour):\n",
    "    return 0.9 if o.colour == colour else 0.1"
   ]
  },
  {
   "cell_type": "markdown",
   "id": "b60a7943-60dc-4816-8b92-3ba930373087",
   "metadata": {},
   "source": [
    "Having set up classes for shapes with colours and a scene we show an example scene and test the functions for checking left or right and the colour of objects"
   ]
  },
  {
   "cell_type": "code",
   "execution_count": 26,
   "id": "4a05561d-f799-4aa6-97db-f5184e683b99",
   "metadata": {},
   "outputs": [
    {
     "data": {
      "image/png": "[encoded data removed]",
      "text/plain": [
       "<Figure size 432x288 with 1 Axes>"
      ]
     },
     "metadata": {
      "needs_background": "light"
     },
     "output_type": "display_data"
    },
    {
     "name": "stdout",
     "output_type": "stream",
     "text": [
      "object 0 left of object 1 with perspective p1? True\n",
      "object 0 left of object 1 with perspective p2? False\n",
      "object 0 right of object 1 with perspective p1? False\n",
      "object 0 right of object 1 with perspective p2? True\n",
      "is object 0 blue? True\n",
      "is object 0 red? False\n",
      "is object 1 blue? False\n",
      "is object 1 red? True\n"
     ]
    }
   ],
   "source": [
    "c = Circle((0, 0), 1.5, 'blue')\n",
    "r = Rectangle((5, 1), 2, 2, 'red')\n",
    "c2 = Circle((10, -1), 1.5, 'blue')\n",
    "c3 = Circle((15, -1), 1.5, 'green')\n",
    "\n",
    "s = Scene([c, r, c2, c3])\n",
    "s.draw()\n",
    "\n",
    "print('object 0 left of object 1 with perspective p1?', left_of(c, r, Perspective.p1))\n",
    "print('object 0 left of object 1 with perspective p2?', left_of(c, r, Perspective.p2))\n",
    "print('object 0 right of object 1 with perspective p1?', right_of(c, r, Perspective.p1))\n",
    "print('object 0 right of object 1 with perspective p2?', right_of(c, r, Perspective.p2))\n",
    "\n",
    "print('is object 0 blue?', is_colour(c, 'blue'))\n",
    "print('is object 0 red?',is_colour(c, 'red'))\n",
    "print('is object 1 blue?',is_colour(r, 'blue'))\n",
    "print('is object 1 red?',is_colour(r, 'red'))"
   ]
  },
  {
   "cell_type": "markdown",
   "id": "29021d96-696d-4238-a9d9-7aa5a6608d2b",
   "metadata": {},
   "source": [
    "In the bayes net each node contains a Conditional Probability Distribution (CPD)\n",
    "This is simply a table which gives a probability for a choice of parameters. \n",
    "When we're looking at colour, direction, perspective we are making a binary decision between e.g. an object being red or not being red for this reason we have two lists: one for the postive outcome, i.e. that the object is red, and one for the negative outcome. \n",
    "The expected format of this decision is:\n",
    "\n",
    "[P(red(o_1))=0, P(red(o_2))=0, ...], \n",
    "[P(red(o_1))=1, P(red(o_2))=1, ...]\n"
   ]
  },
  {
   "cell_type": "code",
   "execution_count": 25,
   "id": "42e55b10-e678-41ff-9344-9d2c442eba34",
   "metadata": {},
   "outputs": [
    {
     "data": {
      "application/vnd.jupyter.widget-view+json": {
       "model_id": "a097d0081a624584908e8cdbc0332902",
       "version_major": 2,
       "version_minor": 0
      },
      "text/plain": [
       "0it [00:00, ?it/s]"
      ]
     },
     "metadata": {},
     "output_type": "display_data"
    },
    {
     "data": {
      "application/vnd.jupyter.widget-view+json": {
       "model_id": "e9325790a2f24e9a88aab5e1a6da5ae5",
       "version_major": 2,
       "version_minor": 0
      },
      "text/plain": [
       "0it [00:00, ?it/s]"
      ]
     },
     "metadata": {},
     "output_type": "display_data"
    },
    {
     "name": "stdout",
     "output_type": "stream",
     "text": [
      "+------+------+------------+\n",
      "| Y    | X    |   phi(Y,X) |\n",
      "+======+======+============+\n",
      "| Y(0) | X(0) |     0.0000 |\n",
      "+------+------+------------+\n",
      "| Y(0) | X(1) |     1.0000 |\n",
      "+------+------+------------+\n",
      "| Y(0) | X(2) |     0.0000 |\n",
      "+------+------+------------+\n",
      "| Y(0) | X(3) |     0.0000 |\n",
      "+------+------+------------+\n",
      "| Y(1) | X(0) |     0.0000 |\n",
      "+------+------+------------+\n",
      "| Y(1) | X(1) |     0.0000 |\n",
      "+------+------+------------+\n",
      "| Y(1) | X(2) |     0.0000 |\n",
      "+------+------+------------+\n",
      "| Y(1) | X(3) |     0.0000 |\n",
      "+------+------+------------+\n",
      "| Y(2) | X(0) |     0.0000 |\n",
      "+------+------+------------+\n",
      "| Y(2) | X(1) |     0.0000 |\n",
      "+------+------+------------+\n",
      "| Y(2) | X(2) |     0.0000 |\n",
      "+------+------+------------+\n",
      "| Y(2) | X(3) |     0.0000 |\n",
      "+------+------+------------+\n",
      "| Y(3) | X(0) |     0.0000 |\n",
      "+------+------+------------+\n",
      "| Y(3) | X(1) |     0.0000 |\n",
      "+------+------+------------+\n",
      "| Y(3) | X(2) |     0.0000 |\n",
      "+------+------+------------+\n",
      "| Y(3) | X(3) |     0.0000 |\n",
      "+------+------+------------+\n"
     ]
    },
    {
     "data": {
      "application/vnd.jupyter.widget-view+json": {
       "model_id": "bcbbfa2eefa44395a5b3fa9d90793698",
       "version_major": 2,
       "version_minor": 0
      },
      "text/plain": [
       "  0%|          | 0/2 [00:00<?, ?it/s]"
      ]
     },
     "metadata": {},
     "output_type": "display_data"
    },
    {
     "data": {
      "application/vnd.jupyter.widget-view+json": {
       "model_id": "7681573c9eee401a94f74803ec309d49",
       "version_major": 2,
       "version_minor": 0
      },
      "text/plain": [
       "  0%|          | 0/2 [00:00<?, ?it/s]"
      ]
     },
     "metadata": {},
     "output_type": "display_data"
    },
    {
     "name": "stdout",
     "output_type": "stream",
     "text": [
      "+------+----------+\n",
      "| X    |   phi(X) |\n",
      "+======+==========+\n",
      "| X(0) |   0.0000 |\n",
      "+------+----------+\n",
      "| X(1) |   1.0000 |\n",
      "+------+----------+\n",
      "| X(2) |   0.0000 |\n",
      "+------+----------+\n",
      "| X(3) |   0.0000 |\n",
      "+------+----------+\n"
     ]
    },
    {
     "data": {
      "application/vnd.jupyter.widget-view+json": {
       "model_id": "731bcad3e74a40bea07e4ed5b25888aa",
       "version_major": 2,
       "version_minor": 0
      },
      "text/plain": [
       "  0%|          | 0/2 [00:00<?, ?it/s]"
      ]
     },
     "metadata": {},
     "output_type": "display_data"
    },
    {
     "data": {
      "application/vnd.jupyter.widget-view+json": {
       "model_id": "ae3504fa72a04c4b85b33bb9d1778fef",
       "version_major": 2,
       "version_minor": 0
      },
      "text/plain": [
       "  0%|          | 0/2 [00:00<?, ?it/s]"
      ]
     },
     "metadata": {},
     "output_type": "display_data"
    },
    {
     "name": "stdout",
     "output_type": "stream",
     "text": [
      "+------+----------+\n",
      "| Y    |   phi(Y) |\n",
      "+======+==========+\n",
      "| Y(0) |   0.3000 |\n",
      "+------+----------+\n",
      "| Y(1) |   0.0000 |\n",
      "+------+----------+\n",
      "| Y(2) |   0.7000 |\n",
      "+------+----------+\n",
      "| Y(3) |   0.0000 |\n",
      "+------+----------+\n"
     ]
    }
   ],
   "source": [
    "def make_colour_cpd(colour, objects):\n",
    "    \"\"\"Gives the probability that each object is the specified colour\n",
    "    In this case the expected output is either 0 or 1 \n",
    "    but we could replace the is_colour function to capture uncertainty\n",
    "    \n",
    "    \"\"\"\n",
    "    object_is_colour = [int(is_colour(o, colour)) for o in objects]\n",
    "    # try using the fucntion below to see what would happen if we simply place a 90% chance of an object being a particular colour if it matches the name\n",
    "    # object_is_colour = [int(is_colour_uncertain(o, colour)) for o in objects]\n",
    "    object_is_not_colour = [1-p for p in object_is_colour]\n",
    "    return [object_is_colour, object_is_not_colour]\n",
    "\n",
    "def make_dir_cpd(direction, objects):\n",
    "    \"\"\"Creates a conditional probability table for left or right using the direction functions \"left_of\" and \"right_of\".\n",
    "    provides 0 or 1 probability. If we want to use logan and sadler we'd include that here\"\"\"\n",
    "    if direction == 'left':\n",
    "        direction_function = left_of\n",
    "    elif direction == 'right':\n",
    "        direction_function = right_of\n",
    "    else:\n",
    "        raise ValueError(f\"expected direction to be left or right not {direction}\")\n",
    "    \n",
    "    t = []\n",
    "    f = []\n",
    "    for o1 in objects:\n",
    "        for o2 in objects:\n",
    "            for p in [Perspective.p1, Perspective.p2]:\n",
    "                if o1 == o2:\n",
    "                    result = False\n",
    "                else:\n",
    "                    result = direction_function(o1, o2, p)\n",
    "                t.append(int(result))\n",
    "                f.append(1-int(result))\n",
    "    return [f, t]\n",
    "\n",
    "def make_perspective_cpd():\n",
    "    \"\"\"This is the conditional \"transition\" probability for perspective. \n",
    "       The idea is simply that if the perspective stays the same then we have higher probability.\"\"\"\n",
    "    return [[0.7, 0.3], \n",
    "            [0.3, 0.7]]\n",
    "            \n",
    "    \n",
    "\n",
    "            \n",
    "            \n",
    "\n",
    "objects = [c, r, c2, c3]\n",
    "\n",
    "# Here we're building the probabilistic model using PGMpy\n",
    "# each CPD has a name which represents a particular node in the network\n",
    "# second we have the number of possible values of that node (2 for binary, for X and Y we use the number of objects)\n",
    "# third we have the actual probability table\n",
    "# evidence is the variables which influence the conditional probability\n",
    "# evidence card is equivalent to the second parameter, i.e. how many possible values the variable has (but for the evidence variables)\n",
    "\n",
    "red_cpd = TabularCPD('red(X)', 2, make_colour_cpd('red', objects), evidence=['X'], evidence_card=[len(objects)])\n",
    "blue_cpd = TabularCPD('blue(Y)', 2, make_colour_cpd('blue', objects), evidence=['Y'], evidence_card=[len(objects)])\n",
    "\n",
    "left_cpd = TabularCPD('left(X,Y)', 2, make_dir_cpd('left', objects), evidence=['X', 'Y', 'p'], evidence_card=[len(objects), len(objects), 2])\n",
    "\n",
    "perspective_cpd = TabularCPD('p', 2, [[.7], [.3]])\n",
    "\n",
    "X_cpd = TabularCPD('X', len(objects), [[1./len(objects)]]*len(objects))\n",
    "Y_cpd = TabularCPD('Y', len(objects), [[1./len(objects)]]*len(objects))\n",
    "\n",
    "# In the model we specify the edges between nodes with (X, red(X)) meaning P(red(X)|X) \n",
    "# and if we have several edges: (X, left(X,Y)) (Y, left(X, Y)) then that implies the conditioning set being larger: P(left(X, Y)|X, Y)\n",
    "model = BayesianNetwork([('X', 'red(X)'), ('Y', 'blue(Y)'), ('X', 'left(X,Y)'), ('Y', 'left(X,Y)'), ('p', 'left(X,Y)')])\n",
    "\n",
    "# Next we add the CPDs to the model. We need to make sure that all variables in the CPDs are covered in the edges\n",
    "model.add_cpds(red_cpd, blue_cpd, left_cpd, perspective_cpd, X_cpd, Y_cpd)\n",
    "model.check_model()\n",
    "\n",
    "# We use variable elimination for inference. \n",
    "# There are a few different inference options in pgmpy, I just picked one that works for the type of model we have (BayesianNetwork)\n",
    "infer = VariableElimination(model)\n",
    "\n",
    "# In the query we specify the variables we want probabilities for and the evidence we have\n",
    "# Evidence fixes the value of a variable, so although red(X) could be true or false we require it to be true here\n",
    "# The variables that aren't mentioned in the query are \"eliminated\" in VariablieElimination\n",
    "# This essentially just means that we sum over the possible values of that variable\n",
    "# In this case that means we're summing over the different values of p\n",
    "# What this means is that the probabilities we see take into account both of the perspectives when producing probabilities. \n",
    "q = infer.query(['X', 'Y'], evidence={'red(X)':1, 'blue(Y)':1, 'left(X,Y)':1})\n",
    "print(q)\n",
    "\n",
    "q = infer.query(['X'], evidence={'red(X)':1, 'blue(Y)':1, 'left(X,Y)':1})\n",
    "print(q)\n",
    "\n",
    "q = infer.query(['Y'], evidence={'red(X)':1, 'blue(Y)':1, 'left(X,Y)':1})\n",
    "print(q)"
   ]
  },
  {
   "cell_type": "code",
   "execution_count": 138,
   "id": "ebc2a8e3-9411-4ae7-b618-8c2c92b490e3",
   "metadata": {},
   "outputs": [
    {
     "data": {
      "application/vnd.jupyter.widget-view+json": {
       "model_id": "fe349094add148519af2e5244376a5be",
       "version_major": 2,
       "version_minor": 0
      },
      "text/plain": [
       "  0%|          | 0/2 [00:00<?, ?it/s]"
      ]
     },
     "metadata": {},
     "output_type": "display_data"
    },
    {
     "data": {
      "application/vnd.jupyter.widget-view+json": {
       "model_id": "42ff20a281c344999d01db8f5da9e81e",
       "version_major": 2,
       "version_minor": 0
      },
      "text/plain": [
       "  0%|          | 0/2 [00:00<?, ?it/s]"
      ]
     },
     "metadata": {},
     "output_type": "display_data"
    },
    {
     "name": "stdout",
     "output_type": "stream",
     "text": [
      "+------+------+------+--------------+\n",
      "| Z    | Y    | X    |   phi(Z,Y,X) |\n",
      "+======+======+======+==============+\n",
      "| Z(0) | Y(0) | X(0) |       0.0000 |\n",
      "+------+------+------+--------------+\n",
      "| Z(0) | Y(0) | X(1) |       0.0000 |\n",
      "+------+------+------+--------------+\n",
      "| Z(0) | Y(0) | X(2) |       0.0000 |\n",
      "+------+------+------+--------------+\n",
      "| Z(0) | Y(0) | X(3) |       0.0000 |\n",
      "+------+------+------+--------------+\n",
      "| Z(0) | Y(1) | X(0) |       0.0000 |\n",
      "+------+------+------+--------------+\n",
      "| Z(0) | Y(1) | X(1) |       0.0000 |\n",
      "+------+------+------+--------------+\n",
      "| Z(0) | Y(1) | X(2) |       0.0000 |\n",
      "+------+------+------+--------------+\n",
      "| Z(0) | Y(1) | X(3) |       0.0000 |\n",
      "+------+------+------+--------------+\n",
      "| Z(0) | Y(2) | X(0) |       0.0000 |\n",
      "+------+------+------+--------------+\n",
      "| Z(0) | Y(2) | X(1) |       0.0000 |\n",
      "+------+------+------+--------------+\n",
      "| Z(0) | Y(2) | X(2) |       0.0000 |\n",
      "+------+------+------+--------------+\n",
      "| Z(0) | Y(2) | X(3) |       0.0000 |\n",
      "+------+------+------+--------------+\n",
      "| Z(0) | Y(3) | X(0) |       0.0000 |\n",
      "+------+------+------+--------------+\n",
      "| Z(0) | Y(3) | X(1) |       0.0000 |\n",
      "+------+------+------+--------------+\n",
      "| Z(0) | Y(3) | X(2) |       0.0000 |\n",
      "+------+------+------+--------------+\n",
      "| Z(0) | Y(3) | X(3) |       0.0000 |\n",
      "+------+------+------+--------------+\n",
      "| Z(1) | Y(0) | X(0) |       0.0000 |\n",
      "+------+------+------+--------------+\n",
      "| Z(1) | Y(0) | X(1) |       0.0000 |\n",
      "+------+------+------+--------------+\n",
      "| Z(1) | Y(0) | X(2) |       0.0000 |\n",
      "+------+------+------+--------------+\n",
      "| Z(1) | Y(0) | X(3) |       0.0000 |\n",
      "+------+------+------+--------------+\n",
      "| Z(1) | Y(1) | X(0) |       0.0000 |\n",
      "+------+------+------+--------------+\n",
      "| Z(1) | Y(1) | X(1) |       0.0000 |\n",
      "+------+------+------+--------------+\n",
      "| Z(1) | Y(1) | X(2) |       0.0000 |\n",
      "+------+------+------+--------------+\n",
      "| Z(1) | Y(1) | X(3) |       0.0000 |\n",
      "+------+------+------+--------------+\n",
      "| Z(1) | Y(2) | X(0) |       0.0000 |\n",
      "+------+------+------+--------------+\n",
      "| Z(1) | Y(2) | X(1) |       0.0000 |\n",
      "+------+------+------+--------------+\n",
      "| Z(1) | Y(2) | X(2) |       0.0000 |\n",
      "+------+------+------+--------------+\n",
      "| Z(1) | Y(2) | X(3) |       0.0000 |\n",
      "+------+------+------+--------------+\n",
      "| Z(1) | Y(3) | X(0) |       0.0000 |\n",
      "+------+------+------+--------------+\n",
      "| Z(1) | Y(3) | X(1) |       0.0000 |\n",
      "+------+------+------+--------------+\n",
      "| Z(1) | Y(3) | X(2) |       0.0000 |\n",
      "+------+------+------+--------------+\n",
      "| Z(1) | Y(3) | X(3) |       0.0000 |\n",
      "+------+------+------+--------------+\n",
      "| Z(2) | Y(0) | X(0) |       0.0000 |\n",
      "+------+------+------+--------------+\n",
      "| Z(2) | Y(0) | X(1) |       0.0000 |\n",
      "+------+------+------+--------------+\n",
      "| Z(2) | Y(0) | X(2) |       0.0000 |\n",
      "+------+------+------+--------------+\n",
      "| Z(2) | Y(0) | X(3) |       0.0000 |\n",
      "+------+------+------+--------------+\n",
      "| Z(2) | Y(1) | X(0) |       0.0000 |\n",
      "+------+------+------+--------------+\n",
      "| Z(2) | Y(1) | X(1) |       0.0000 |\n",
      "+------+------+------+--------------+\n",
      "| Z(2) | Y(1) | X(2) |       0.0000 |\n",
      "+------+------+------+--------------+\n",
      "| Z(2) | Y(1) | X(3) |       0.0000 |\n",
      "+------+------+------+--------------+\n",
      "| Z(2) | Y(2) | X(0) |       0.0000 |\n",
      "+------+------+------+--------------+\n",
      "| Z(2) | Y(2) | X(1) |       0.0000 |\n",
      "+------+------+------+--------------+\n",
      "| Z(2) | Y(2) | X(2) |       0.0000 |\n",
      "+------+------+------+--------------+\n",
      "| Z(2) | Y(2) | X(3) |       0.0000 |\n",
      "+------+------+------+--------------+\n",
      "| Z(2) | Y(3) | X(0) |       0.0000 |\n",
      "+------+------+------+--------------+\n",
      "| Z(2) | Y(3) | X(1) |       0.0000 |\n",
      "+------+------+------+--------------+\n",
      "| Z(2) | Y(3) | X(2) |       0.0000 |\n",
      "+------+------+------+--------------+\n",
      "| Z(2) | Y(3) | X(3) |       0.0000 |\n",
      "+------+------+------+--------------+\n",
      "| Z(3) | Y(0) | X(0) |       0.0000 |\n",
      "+------+------+------+--------------+\n",
      "| Z(3) | Y(0) | X(1) |       0.3000 |\n",
      "+------+------+------+--------------+\n",
      "| Z(3) | Y(0) | X(2) |       0.0000 |\n",
      "+------+------+------+--------------+\n",
      "| Z(3) | Y(0) | X(3) |       0.0000 |\n",
      "+------+------+------+--------------+\n",
      "| Z(3) | Y(1) | X(0) |       0.0000 |\n",
      "+------+------+------+--------------+\n",
      "| Z(3) | Y(1) | X(1) |       0.0000 |\n",
      "+------+------+------+--------------+\n",
      "| Z(3) | Y(1) | X(2) |       0.0000 |\n",
      "+------+------+------+--------------+\n",
      "| Z(3) | Y(1) | X(3) |       0.0000 |\n",
      "+------+------+------+--------------+\n",
      "| Z(3) | Y(2) | X(0) |       0.0000 |\n",
      "+------+------+------+--------------+\n",
      "| Z(3) | Y(2) | X(1) |       0.7000 |\n",
      "+------+------+------+--------------+\n",
      "| Z(3) | Y(2) | X(2) |       0.0000 |\n",
      "+------+------+------+--------------+\n",
      "| Z(3) | Y(2) | X(3) |       0.0000 |\n",
      "+------+------+------+--------------+\n",
      "| Z(3) | Y(3) | X(0) |       0.0000 |\n",
      "+------+------+------+--------------+\n",
      "| Z(3) | Y(3) | X(1) |       0.0000 |\n",
      "+------+------+------+--------------+\n",
      "| Z(3) | Y(3) | X(2) |       0.0000 |\n",
      "+------+------+------+--------------+\n",
      "| Z(3) | Y(3) | X(3) |       0.0000 |\n",
      "+------+------+------+--------------+\n"
     ]
    },
    {
     "data": {
      "application/vnd.jupyter.widget-view+json": {
       "model_id": "3ba97ea4bd55432195da5429a3dafe96",
       "version_major": 2,
       "version_minor": 0
      },
      "text/plain": [
       "  0%|          | 0/4 [00:00<?, ?it/s]"
      ]
     },
     "metadata": {},
     "output_type": "display_data"
    },
    {
     "data": {
      "application/vnd.jupyter.widget-view+json": {
       "model_id": "03ec0a23dc1d440091d00342632513a7",
       "version_major": 2,
       "version_minor": 0
      },
      "text/plain": [
       "  0%|          | 0/4 [00:00<?, ?it/s]"
      ]
     },
     "metadata": {},
     "output_type": "display_data"
    },
    {
     "name": "stdout",
     "output_type": "stream",
     "text": [
      "+------+----------+\n",
      "| X    |   phi(X) |\n",
      "+======+==========+\n",
      "| X(0) |   0.0000 |\n",
      "+------+----------+\n",
      "| X(1) |   1.0000 |\n",
      "+------+----------+\n",
      "| X(2) |   0.0000 |\n",
      "+------+----------+\n",
      "| X(3) |   0.0000 |\n",
      "+------+----------+\n"
     ]
    },
    {
     "data": {
      "application/vnd.jupyter.widget-view+json": {
       "model_id": "bc456c1e058443a7a75d6e00f4e6bc26",
       "version_major": 2,
       "version_minor": 0
      },
      "text/plain": [
       "  0%|          | 0/4 [00:00<?, ?it/s]"
      ]
     },
     "metadata": {},
     "output_type": "display_data"
    },
    {
     "data": {
      "application/vnd.jupyter.widget-view+json": {
       "model_id": "be6f1494c778422f892ecc3ca8b8e84e",
       "version_major": 2,
       "version_minor": 0
      },
      "text/plain": [
       "  0%|          | 0/4 [00:00<?, ?it/s]"
      ]
     },
     "metadata": {},
     "output_type": "display_data"
    },
    {
     "name": "stdout",
     "output_type": "stream",
     "text": [
      "+------+----------+\n",
      "| Y    |   phi(Y) |\n",
      "+======+==========+\n",
      "| Y(0) |   0.3000 |\n",
      "+------+----------+\n",
      "| Y(1) |   0.0000 |\n",
      "+------+----------+\n",
      "| Y(2) |   0.7000 |\n",
      "+------+----------+\n",
      "| Y(3) |   0.0000 |\n",
      "+------+----------+\n"
     ]
    },
    {
     "data": {
      "application/vnd.jupyter.widget-view+json": {
       "model_id": "c92eaf4ba6ac4ee0b42ae1c89850cd98",
       "version_major": 2,
       "version_minor": 0
      },
      "text/plain": [
       "  0%|          | 0/4 [00:00<?, ?it/s]"
      ]
     },
     "metadata": {},
     "output_type": "display_data"
    },
    {
     "data": {
      "application/vnd.jupyter.widget-view+json": {
       "model_id": "cce3c684f79d49c79c8cd9a7d8f3c7a6",
       "version_major": 2,
       "version_minor": 0
      },
      "text/plain": [
       "  0%|          | 0/4 [00:00<?, ?it/s]"
      ]
     },
     "metadata": {},
     "output_type": "display_data"
    },
    {
     "name": "stdout",
     "output_type": "stream",
     "text": [
      "+------+----------+\n",
      "| Z    |   phi(Z) |\n",
      "+======+==========+\n",
      "| Z(0) |   0.0000 |\n",
      "+------+----------+\n",
      "| Z(1) |   0.0000 |\n",
      "+------+----------+\n",
      "| Z(2) |   0.0000 |\n",
      "+------+----------+\n",
      "| Z(3) |   1.0000 |\n",
      "+------+----------+\n"
     ]
    }
   ],
   "source": [
    "green_cpd = TabularCPD('green(Z)', 2, make_colour_cpd('green', objects), evidence=['Z'], evidence_card=[len(objects)])\n",
    "\n",
    "Z_cpd = TabularCPD('Z', len(objects), [[1./len(objects)]]*len(objects))\n",
    "\n",
    "left1_cpd = TabularCPD('left(X,Y)', 2, make_dir_cpd('left', objects), evidence=['X', 'Y', 'p1'], evidence_card=[len(objects), len(objects), 2])\n",
    "left2_cpd = TabularCPD('left(Y,Z)', 2, make_dir_cpd('left', objects), evidence=['Y', 'Z', 'p2'], evidence_card=[len(objects), len(objects), 2])\n",
    "\n",
    "perspective1_cpd = TabularCPD('p1', 2, [[.5], [.5]])\n",
    "perspective2_cpd = TabularCPD('p2', 2, make_perspective_cpd(), evidence=['p1'], evidence_card=[2])\n",
    "\n",
    "\n",
    "\n",
    "model2 = BayesianNetwork([('X', 'red(X)'), ('Y', 'blue(Y)'), ('Z', 'green(Z)'), ('X', 'left(X,Y)'), ('Y', 'left(X,Y)'), ('Y', 'left(Y,Z)'), ('Z', 'left(Y,Z)'),  ('p1', 'left(X,Y)'), ('p1', 'p2'), ('p2', 'left(Y,Z)')])\n",
    "\n",
    "model2.add_cpds(red_cpd, blue_cpd, green_cpd, left1_cpd, left2_cpd, X_cpd, Y_cpd, Z_cpd, perspective1_cpd, perspective2_cpd)\n",
    "\n",
    "infer = VariableElimination(model2)\n",
    "q = infer.query(['X', 'Y', 'Z'], evidence={'red(X)':1, 'blue(Y)':1, 'green(Z)':1, 'left(X,Y)':1, 'left(Y,Z)':1})\n",
    "print(q)\n",
    "\n",
    "q = infer.query(['X'],  evidence={'red(X)':1, 'blue(Y)':1, 'green(Z)':1, 'left(X,Y)':1, 'left(Y,Z)':1})\n",
    "print(q)\n",
    "\n",
    "q = infer.query(['Y'],  evidence={'red(X)':1, 'blue(Y)':1, 'green(Z)':1, 'left(X,Y)':1, 'left(Y,Z)':1})\n",
    "print(q)\n",
    "\n",
    "q = infer.query(['Z'],  evidence={'red(X)':1, 'blue(Y)':1, 'green(Z)':1, 'left(X,Y)':1, 'left(Y,Z)':1})\n",
    "print(q)"
   ]
  },
  {
   "cell_type": "code",
   "execution_count": 76,
   "id": "10f1f9e9-3c88-48f1-bbfc-7d810811e23d",
   "metadata": {},
   "outputs": [
    {
     "name": "stdout",
     "output_type": "stream",
     "text": [
      "+-----------+------+------+------+------+\n",
      "| X         | X(0) | X(1) | X(2) | X(3) |\n",
      "+-----------+------+------+------+------+\n",
      "| red(X)(0) | 1.0  | 0.0  | 1.0  | 1.0  |\n",
      "+-----------+------+------+------+------+\n",
      "| red(X)(1) | 0.0  | 1.0  | 0.0  | 0.0  |\n",
      "+-----------+------+------+------+------+\n"
     ]
    }
   ],
   "source": [
    "print(red_cpd)"
   ]
  },
  {
   "cell_type": "code",
   "execution_count": 77,
   "id": "82eab643-004d-4a5d-b84b-98f102e97154",
   "metadata": {},
   "outputs": [
    {
     "name": "stdout",
     "output_type": "stream",
     "text": [
      "+---------------+------+------+------+-----+------+------+------+------+------+\n",
      "| X             | X(0) | X(0) | X(0) | ... | X(3) | X(3) | X(3) | X(3) | X(3) |\n",
      "+---------------+------+------+------+-----+------+------+------+------+------+\n",
      "| Y             | Y(0) | Y(0) | Y(1) | ... | Y(1) | Y(2) | Y(2) | Y(3) | Y(3) |\n",
      "+---------------+------+------+------+-----+------+------+------+------+------+\n",
      "| p             | p(0) | p(1) | p(0) | ... | p(1) | p(0) | p(1) | p(0) | p(1) |\n",
      "+---------------+------+------+------+-----+------+------+------+------+------+\n",
      "| left(X, Y)(0) | 1.0  | 1.0  | 0.0  | ... | 0.0  | 1.0  | 0.0  | 1.0  | 1.0  |\n",
      "+---------------+------+------+------+-----+------+------+------+------+------+\n",
      "| left(X, Y)(1) | 0.0  | 0.0  | 1.0  | ... | 1.0  | 0.0  | 1.0  | 0.0  | 0.0  |\n",
      "+---------------+------+------+------+-----+------+------+------+------+------+\n"
     ]
    }
   ],
   "source": [
    "print(left_cpd)"
   ]
  },
  {
   "cell_type": "code",
   "execution_count": null,
   "id": "8fede988-6cb7-42b7-897b-a9e0a125fe8f",
   "metadata": {},
   "outputs": [],
   "source": []
  }
 ],
 "metadata": {
  "kernelspec": {
   "display_name": "Python 3",
   "language": "python",
   "name": "python3"
  },
  "language_info": {
   "codemirror_mode": {
    "name": "ipython",
    "version": 3
   },
   "file_extension": ".py",
   "mimetype": "text/x-python",
   "name": "python",
   "nbconvert_exporter": "python",
   "pygments_lexer": "ipython3",
   "version": "3.9.5"
  }
 },
 "nbformat": 4,
 "nbformat_minor": 5
}
