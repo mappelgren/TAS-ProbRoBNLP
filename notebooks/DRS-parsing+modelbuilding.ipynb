{
 "cells": [
  {
   "cell_type": "code",
   "execution_count": 2,
   "id": "87515af7-db47-44df-8c0c-6aee924c0855",
   "metadata": {},
   "outputs": [],
   "source": [
    "import nltk"
   ]
  },
  {
   "cell_type": "code",
   "execution_count": 1,
   "id": "4b8f7043-3bbc-43d3-a7e8-5244075d85e0",
   "metadata": {},
   "outputs": [],
   "source": [
    "\n",
    "from nltk import *\n",
    "from nltk.sem.drt import DrtParser\n",
    "from nltk.sem import logic\n",
    "logic._counter._value = 0\n",
    "from nltk.sem import Expression\n",
    "read_expr = Expression.fromstring\n"
   ]
  },
  {
   "cell_type": "code",
   "execution_count": 3,
   "id": "e4479aa6-b20c-448b-9933-aa9173d45daf",
   "metadata": {},
   "outputs": [
    {
     "name": "stdout",
     "output_type": "stream",
     "text": [
      "True\n",
      "True\n"
     ]
    }
   ],
   "source": [
    "a3 = read_expr('exists x.(man(x) and walks(x))')\n",
    "c1 = read_expr('mortal(socrates)')\n",
    "c2 = read_expr('-mortal(socrates)')\n",
    "mace = Mace()\n",
    "print(mace.build_model(None, [a3, c1]))\n",
    "\n",
    "print(mace.build_model(None, [a3, c2]))"
   ]
  },
  {
   "cell_type": "code",
   "execution_count": 4,
   "id": "94d2bd4e-84fa-4f91-9d56-274bce797bb7",
   "metadata": {},
   "outputs": [
    {
     "name": "stdout",
     "output_type": "stream",
     "text": [
      "False\n"
     ]
    }
   ],
   "source": [
    "a7 = read_expr('all x.(man(x) -> mortal(x))')\n",
    "a8 = read_expr('man(socrates)')\n",
    "g2 = read_expr('mortal(socrates)')\n",
    "print(Mace(end_size=50).build_model(g2, [a7, a8]))\n",
    "\n"
   ]
  },
  {
   "cell_type": "code",
   "execution_count": 5,
   "id": "47dfcf45-2718-4eb3-88cf-fe525b92d7b5",
   "metadata": {},
   "outputs": [
    {
     "data": {
      "text/plain": [
       "<AllExpression all x.(man(x) -> mortal(x))>"
      ]
     },
     "execution_count": 5,
     "metadata": {},
     "output_type": "execute_result"
    }
   ],
   "source": [
    "a7"
   ]
  },
  {
   "cell_type": "code",
   "execution_count": 6,
   "id": "f4e2877e-d46a-4107-b4e1-5b38a79f1958",
   "metadata": {},
   "outputs": [
    {
     "name": "stdout",
     "output_type": "stream",
     "text": [
      "% number = 1\n",
      "% seconds = 0\n",
      "\n",
      "% Interpretation of size 2\n",
      "\n",
      " john : 0\n",
      "\n",
      " mary : 1\n",
      "\n",
      " see : \n",
      "       | 0 1\n",
      "    ---+----\n",
      "     0 | 0 0\n",
      "     1 | 1 0\n",
      "\n"
     ]
    }
   ],
   "source": [
    "a = read_expr('(see(mary,john) & -(mary = john))')\n",
    "mb = MaceCommand(assumptions=[a])\n",
    "mb.build_model()\n",
    "print(mb.model(format='tabular'))"
   ]
  },
  {
   "cell_type": "code",
   "execution_count": 7,
   "id": "55a2e5f0-1635-4c45-9a1f-6f2f2d52e0ad",
   "metadata": {},
   "outputs": [
    {
     "name": "stdout",
     "output_type": "stream",
     "text": [
      "% number = 1\n",
      "% seconds = 0\n",
      "\n",
      "% Interpretation of size 2\n",
      "\n",
      "john = 0.\n",
      "\n",
      "mary = 1.\n",
      "\n",
      "- see(0,0).\n",
      "- see(0,1).\n",
      "  see(1,0).\n",
      "- see(1,1).\n",
      "\n"
     ]
    }
   ],
   "source": [
    "print(mb.model(format='cooked'))"
   ]
  },
  {
   "cell_type": "code",
   "execution_count": 8,
   "id": "36df30db-5e96-42d5-b976-554ab74a12d2",
   "metadata": {},
   "outputs": [
    {
     "name": "stdout",
     "output_type": "stream",
     "text": [
      "{'john': 'a', 'mary': 'b', 'see': {('b', 'a')}}\n"
     ]
    }
   ],
   "source": [
    "print(mb.valuation)"
   ]
  },
  {
   "cell_type": "code",
   "execution_count": 9,
   "id": "48f6b53d-c0d0-4fda-827a-59a4ecbc794a",
   "metadata": {},
   "outputs": [
    {
     "name": "stdout",
     "output_type": "stream",
     "text": [
      "True\n"
     ]
    }
   ],
   "source": [
    "a4 = read_expr('exists y. (woman(y) & all x. (man(x) -> love(x,y)))')\n",
    "a5 = read_expr('man(adam)')\n",
    "a6 = read_expr('woman(eve)')\n",
    "g = read_expr('love(adam,eve)')\n",
    "print(mace.build_model(g, [a4, a5, a6]))\n"
   ]
  },
  {
   "cell_type": "code",
   "execution_count": 10,
   "id": "c344dbf8-9801-40a8-ae7e-b270cec6825a",
   "metadata": {},
   "outputs": [
    {
     "name": "stdout",
     "output_type": "stream",
     "text": [
      "% number = 1\n",
      "% seconds = 0\n",
      "\n",
      "% Interpretation of size 2\n",
      "\n",
      "adam = 0.\n",
      "\n",
      "eve = 0.\n",
      "\n",
      "c1 = 1.\n",
      "\n",
      "  man(0).\n",
      "- man(1).\n",
      "\n",
      "  woman(0).\n",
      "  woman(1).\n",
      "\n",
      "- love(0,0).\n",
      "  love(0,1).\n",
      "- love(1,0).\n",
      "- love(1,1).\n",
      "\n"
     ]
    }
   ],
   "source": [
    "mb = MaceCommand(g, assumptions=[a4, a5, a6])\n",
    "m = mb.build_model()\n",
    "print(mb.model(format='cooked'))"
   ]
  },
  {
   "cell_type": "code",
   "execution_count": 11,
   "id": "ae9bb278-4271-4e3a-b0df-918ce44f6e17",
   "metadata": {},
   "outputs": [],
   "source": [
    "# a4 = read_expr('exists y. (woman(y) & all x. (man(x) -> love(x,y)))')\n",
    "\n",
    "a0 = read_expr(\"forall x. forall y. (on(x, y) -> -on(y, x))\")\n",
    "a1 = read_expr(\"forall x. (table(x) <-> -cup(x))\")\n",
    "a3 = read_expr(\"exists x. (table(x) & all y. (table(y) -> x=y))\")\n",
    "a2 = read_expr(\"exists x. exists y. exists z. ((cup(x) & exists t. (table(t) & on(x, t))) & (cup(y) & exists t. (table(t) & on(y, t))) & (cup(z) & exists t. (table(t) & on(z, t))) & (x !=y) & (x != z) & (z != y)) \")"
   ]
  },
  {
   "cell_type": "code",
   "execution_count": 12,
   "id": "34b6cd74-02ec-4576-868e-acaacfc04ef0",
   "metadata": {},
   "outputs": [
    {
     "name": "stdout",
     "output_type": "stream",
     "text": [
      "% number = 1\n",
      "% seconds = 0\n",
      "\n",
      "% Interpretation of size 4\n",
      "\n",
      "c1 = 0.\n",
      "\n",
      "c2 = 1.\n",
      "\n",
      "c3 = 2.\n",
      "\n",
      "c4 = 3.\n",
      "\n",
      "c5 = 3.\n",
      "\n",
      "c6 = 3.\n",
      "\n",
      "c7 = 3.\n",
      "\n",
      "  cup(0).\n",
      "  cup(1).\n",
      "  cup(2).\n",
      "- cup(3).\n",
      "\n",
      "- table(0).\n",
      "- table(1).\n",
      "- table(2).\n",
      "  table(3).\n",
      "\n",
      "- on(0,0).\n",
      "- on(0,1).\n",
      "- on(0,2).\n",
      "  on(0,3).\n",
      "- on(1,0).\n",
      "- on(1,1).\n",
      "- on(1,2).\n",
      "  on(1,3).\n",
      "- on(2,0).\n",
      "- on(2,1).\n",
      "- on(2,2).\n",
      "  on(2,3).\n",
      "- on(3,0).\n",
      "- on(3,1).\n",
      "- on(3,2).\n",
      "- on(3,3).\n",
      "\n",
      "{'C1': 'a',\n",
      " 'C2': 'b',\n",
      " 'C3': 'c',\n",
      " 'C4': 'd',\n",
      " 'C5': 'd',\n",
      " 'C6': 'd',\n",
      " 'C7': 'd',\n",
      " 'cup': {('b',), ('a',), ('c',)},\n",
      " 'on': {('b', 'd'), ('a', 'd'), ('c', 'd')},\n",
      " 'table': {('d',)}}\n"
     ]
    }
   ],
   "source": [
    "mb = MaceCommand(None, assumptions=[ a1,a2, a3])\n",
    "m = mb.build_model()\n",
    "print(mb.model(format='cooked'))\n",
    "print(mb.valuation)"
   ]
  },
  {
   "cell_type": "code",
   "execution_count": 13,
   "id": "00da38f5-286b-494b-9e3c-517e1aa48265",
   "metadata": {},
   "outputs": [],
   "source": [
    "a2 = read_expr(\"exists x. exists y. exists z. ((cup(x) & exists t. (table(t) & on(x, t))) & (cup(y) & exists t. (table(t) & on(y, t))) & (cup(z) & exists t. (table(t) & on(z, t))) & (x !=y) & (x != z) & (z != y)) \")"
   ]
  },
  {
   "cell_type": "code",
   "execution_count": 16,
   "id": "8c78ca5f-b76a-44cc-8db4-de16af26233a",
   "metadata": {},
   "outputs": [],
   "source": [
    "def count_quantifier(count, expr):\n",
    "    pass\n",
    "\n",
    "def neq_variables(variables, output=[]):\n",
    "    output += helper(variables[0], variables[1:])\n",
    "    if len(variables) == 2:\n",
    "        return \" & \".join(output)\n",
    "    else:\n",
    "        return neq_variables(variables[1:], output)\n",
    "    \n",
    "def helper(var, other):\n",
    "    return [f'({var} != {var2})' for var2 in other]\n",
    "\n",
    "    \n",
    "    "
   ]
  },
  {
   "cell_type": "code",
   "execution_count": 17,
   "id": "f533d41e-00c2-4c02-8c26-9a37249ca763",
   "metadata": {},
   "outputs": [
    {
     "data": {
      "text/plain": [
       "['(x != y)', '(x != z)']"
      ]
     },
     "execution_count": 17,
     "metadata": {},
     "output_type": "execute_result"
    }
   ],
   "source": [
    "helper(\"x\", [\"y\", \"z\"])"
   ]
  },
  {
   "cell_type": "code",
   "execution_count": 18,
   "id": "16438863-657b-446c-a6b2-c3720ed00b07",
   "metadata": {},
   "outputs": [
    {
     "data": {
      "text/plain": [
       "'(x != y) & (x != z) & (y != z)'"
      ]
     },
     "execution_count": 18,
     "metadata": {},
     "output_type": "execute_result"
    }
   ],
   "source": [
    "neq_variables([\"x\", \"y\", \"z\"])"
   ]
  },
  {
   "cell_type": "code",
   "execution_count": 69,
   "id": "ad5be000-fa0f-47b4-a010-55d84737491f",
   "metadata": {},
   "outputs": [
    {
     "name": "stdout",
     "output_type": "stream",
     "text": [
      "showing info https://raw.githubusercontent.com/nltk/nltk_data/gh-pages/index.xml\n"
     ]
    },
    {
     "data": {
      "text/plain": [
       "True"
      ]
     },
     "execution_count": 69,
     "metadata": {},
     "output_type": "execute_result"
    }
   ],
   "source": [
    "\n",
    "nltk.download()"
   ]
  },
  {
   "cell_type": "code",
   "execution_count": 3,
   "id": "c3795514-d7b4-46e1-ae2c-609437ba52d3",
   "metadata": {},
   "outputs": [],
   "source": [
    "from nltk.sem.boxer import Boxer\n",
    "import os\n",
    "os.environ[\"CANDC\"] = \"/home/mappelgren/Desktop/candc-master/candc/bin\""
   ]
  },
  {
   "cell_type": "code",
   "execution_count": 4,
   "id": "c26c73e2-2643-44e1-888f-c87403f789ba",
   "metadata": {},
   "outputs": [],
   "source": [
    "boxer = Boxer()"
   ]
  },
  {
   "cell_type": "code",
   "execution_count": 6,
   "id": "3f651d1f-dcb1-4ca3-9ae3-1044f2765406",
   "metadata": {},
   "outputs": [
    {
     "data": {
      "text/plain": [
       "<DRS ([p1,x1,x2],[n_table(x2), prop(p1, ([],[on(x1,x2)])), n_cup(x1), card_eq_3(x1)])>"
      ]
     },
     "execution_count": 6,
     "metadata": {},
     "output_type": "execute_result"
    }
   ],
   "source": [
    "boxer.interpret(\"Three cups are on the table\", \"u1\")"
   ]
  },
  {
   "cell_type": "code",
   "execution_count": 19,
   "id": "3ac79c40-c7dc-4a74-88db-dfa1760efd6c",
   "metadata": {},
   "outputs": [],
   "source": [
    "drs_obj = boxer.interpret_multi([\"Three cups are on the table.\",\"They are green.\"])"
   ]
  },
  {
   "cell_type": "code",
   "execution_count": 20,
   "id": "15a2ba66-0dc8-4c73-9770-67e4873d27a8",
   "metadata": {},
   "outputs": [
    {
     "name": "stdout",
     "output_type": "stream",
     "text": [
      "([p1,p2,x1,x2],[n_thing(x2), n_table.(x2), prop(p1, ([],[on(x1,x2)])), n_cup(x1), card_eq_3(x1), prop(p2, ([x3],[(x2 = x3), n_green.(x3)]))])\n"
     ]
    }
   ],
   "source": [
    "print(drs_obj)"
   ]
  },
  {
   "cell_type": "code",
   "execution_count": 22,
   "id": "dccf7632-4e60-4ee8-8f3f-e826814634f7",
   "metadata": {},
   "outputs": [
    {
     "data": {
      "text/plain": [
       "<DRS ([p1,p2,x1,x2],[n_thing(x2), n_table.(x2), prop(p1, ([],[on(x1,x2)])), n_cup(x1), card_eq_3(x1), prop(p2, ([x3],[(x2 = x3), n_green.(x3)]))])>"
      ]
     },
     "execution_count": 22,
     "metadata": {},
     "output_type": "execute_result"
    }
   ],
   "source": [
    "drs_obj"
   ]
  },
  {
   "cell_type": "code",
   "execution_count": 28,
   "id": "3c0df80b-e034-4b30-8f64-95b1e19c1739",
   "metadata": {},
   "outputs": [
    {
     "name": "stdout",
     "output_type": "stream",
     "text": [
      "[Variable('x2'), Variable('p1'), Variable('x1'), Variable('p2')]\n",
      "[<DrtApplicationExpression n_thing(x2)>, <DrtApplicationExpression n_table.(x2)>, <DrtProposition prop(p1, ([],[on(x1,x2)]))>, <DrtApplicationExpression n_cup(x1)>, <DrtApplicationExpression card_eq_3(x1)>, <DrtProposition prop(p2, ([x3],[(x2 = x3), n_green.(x3)]))>]\n",
      "None\n"
     ]
    }
   ],
   "source": [
    "print(drs_obj.refs)\n",
    "print(drs_obj.conds)\n",
    "print(drs_obj.consequent)"
   ]
  },
  {
   "cell_type": "code",
   "execution_count": 29,
   "id": "9406fcd7-41ef-41b1-9cca-baed76c7886a",
   "metadata": {},
   "outputs": [
    {
     "data": {
      "text/plain": [
       "<DRS ([p1,p2,x1,x2],[n_thing(x2), n_table.(x2), prop(p1, ([],[on(x1,x2)])), n_cup(x1), card_eq_3(x1), prop(p2, ([x3],[(x2 = x3), n_green.(x3)]))])>"
      ]
     },
     "execution_count": 29,
     "metadata": {},
     "output_type": "execute_result"
    }
   ],
   "source": [
    "drs_obj"
   ]
  },
  {
   "cell_type": "code",
   "execution_count": 30,
   "id": "f1bd2164-b1f9-41c1-bd9e-f9e9970180bc",
   "metadata": {},
   "outputs": [
    {
     "data": {
      "text/plain": [
       "<ExistsExpression exists p1 p2 x1 x2.(n_thing(x2) & n_table.(x2) & on(x1,x2) & n_cup(x1) & card_eq_3(x1) & exists x3.((x2 = x3) & n_green.(x3)))>"
      ]
     },
     "execution_count": 30,
     "metadata": {},
     "output_type": "execute_result"
    }
   ],
   "source": [
    "drs_obj.fol()"
   ]
  },
  {
   "cell_type": "code",
   "execution_count": 31,
   "id": "46a7e0a8-8004-4585-b2dc-9f4328f7e3d6",
   "metadata": {},
   "outputs": [
    {
     "data": {
      "text/plain": [
       "[' _____________________ ',\n",
       " '| p1 p2 x1 x2         |',\n",
       " '|---------------------|',\n",
       " '| n_thing(x2)         |',\n",
       " '| n_table.(x2)        |',\n",
       " '|     ___________     |',\n",
       " '| p1:|           |    |',\n",
       " '|    |-----------|    |',\n",
       " '|    | on(x1,x2) |    |',\n",
       " '|    |___________|    |',\n",
       " '| n_cup(x1)           |',\n",
       " '| card_eq_3(x1)       |',\n",
       " '|     ______________  |',\n",
       " '| p2:| x3           | |',\n",
       " '|    |--------------| |',\n",
       " '|    | (x2 = x3)    | |',\n",
       " '|    | n_green.(x3) | |',\n",
       " '|    |______________| |',\n",
       " '|_____________________|']"
      ]
     },
     "execution_count": 31,
     "metadata": {},
     "output_type": "execute_result"
    }
   ],
   "source": [
    "drs_obj._pretty()"
   ]
  },
  {
   "cell_type": "code",
   "execution_count": 34,
   "id": "9a3cfa85-ed60-4cbb-9136-62719ea94bf9",
   "metadata": {},
   "outputs": [],
   "source": [
    "drs1 = boxer.interpret(\"Three cups are on the table.\")\n",
    "drs2 = boxer.interpret(\"They are green.\")"
   ]
  },
  {
   "cell_type": "code",
   "execution_count": null,
   "id": "f9ecea44-3f59-4235-96df-195b5dc99b50",
   "metadata": {},
   "outputs": [],
   "source": []
  },
  {
   "cell_type": "code",
   "execution_count": 35,
   "id": "296ea4d3-bd1e-465c-8849-2790a1c812b8",
   "metadata": {},
   "outputs": [],
   "source": [
    "drs1_2 = drs1 + drs2"
   ]
  },
  {
   "cell_type": "code",
   "execution_count": 42,
   "id": "44dc763c-c2f4-4421-a8cc-f6dc731ccf4b",
   "metadata": {},
   "outputs": [],
   "source": [
    "drs1_2_simp = drs1_2.simplify()"
   ]
  },
  {
   "cell_type": "code",
   "execution_count": 43,
   "id": "680e2bad-a5a4-4112-af67-aa20c067c6c0",
   "metadata": {},
   "outputs": [
    {
     "name": "stdout",
     "output_type": "stream",
     "text": [
      " __________________ \n",
      "| p1 x1 x2         |\n",
      "|------------------|\n",
      "| n_table.(x2)     |\n",
      "|     ___________  |\n",
      "| p1:|           | |\n",
      "|    |-----------| |\n",
      "|    | on(x1,x2) | |\n",
      "|    |___________| |\n",
      "| n_cup(x1)        |\n",
      "| card_eq_3(x1)    |\n",
      "|__________________|\n",
      " _____________________ \n",
      "| p1 x1               |\n",
      "|---------------------|\n",
      "| n_thing(x1)         |\n",
      "|     ______________  |\n",
      "| p1:| x2           | |\n",
      "|    |--------------| |\n",
      "|    | (x1 = x2)    | |\n",
      "|    | n_green.(x2) | |\n",
      "|    |______________| |\n",
      "|_____________________|\n",
      "  __________________     _____________________  \n",
      " | p1 x1 x2         |   | p1 x1               | \n",
      "(|------------------| + |---------------------|)\n",
      " | n_table.(x2)     |   | n_thing(x1)         | \n",
      " |     ___________  |   |     ______________  | \n",
      " | p1:|           | |   | p1:| x2           | | \n",
      " |    |-----------| |   |    |--------------| | \n",
      " |    | on(x1,x2) | |   |    | (x1 = x2)    | | \n",
      " |    |___________| |   |    | n_green.(x2) | | \n",
      " | n_cup(x1)        |   |    |______________| | \n",
      " | card_eq_3(x1)    |   |_____________________| \n",
      " |__________________|                           \n",
      " _____________________ \n",
      "| p1 x1 x2 z2 z3      |\n",
      "|---------------------|\n",
      "| n_table.(x2)        |\n",
      "|     ___________     |\n",
      "| p1:|           |    |\n",
      "|    |-----------|    |\n",
      "|    | on(x1,x2) |    |\n",
      "|    |___________|    |\n",
      "| n_cup(x1)           |\n",
      "| card_eq_3(x1)       |\n",
      "| n_thing(z3)         |\n",
      "|     ______________  |\n",
      "| z2:| z1           | |\n",
      "|    |--------------| |\n",
      "|    | (z3 = z1)    | |\n",
      "|    | n_green.(z1) | |\n",
      "|    |______________| |\n",
      "|_____________________|\n"
     ]
    }
   ],
   "source": [
    "print(drs1.pretty_format())\n",
    "print(drs2.pretty_format())\n",
    "print(drs1_2.pretty_format())\n",
    "print(drs1_2_simp.pretty_format())"
   ]
  },
  {
   "cell_type": "code",
   "execution_count": 44,
   "id": "0cff08d8-b9c4-4f02-9227-ed6529b83fa0",
   "metadata": {},
   "outputs": [
    {
     "data": {
      "text/plain": [
       "[' _____________________ ',\n",
       " '| p1 p2 x1 x2         |',\n",
       " '|---------------------|',\n",
       " '| n_thing(x2)         |',\n",
       " '| n_table.(x2)        |',\n",
       " '|     ___________     |',\n",
       " '| p1:|           |    |',\n",
       " '|    |-----------|    |',\n",
       " '|    | on(x1,x2) |    |',\n",
       " '|    |___________|    |',\n",
       " '| n_cup(x1)           |',\n",
       " '| card_eq_3(x1)       |',\n",
       " '|     ______________  |',\n",
       " '| p2:| x3           | |',\n",
       " '|    |--------------| |',\n",
       " '|    | (x2 = x3)    | |',\n",
       " '|    | n_green.(x3) | |',\n",
       " '|    |______________| |',\n",
       " '|_____________________|']"
      ]
     },
     "execution_count": 44,
     "metadata": {},
     "output_type": "execute_result"
    }
   ],
   "source": [
    "drs_obj._pretty()"
   ]
  },
  {
   "cell_type": "code",
   "execution_count": 47,
   "id": "0c6c86bd-5669-4930-b57e-cddcac4701d9",
   "metadata": {},
   "outputs": [
    {
     "name": "stdout",
     "output_type": "stream",
     "text": [
      " _____________________ \n",
      "| p1 x1 x2 z2 z3      |\n",
      "|---------------------|\n",
      "| n_table.(x2)        |\n",
      "|     ___________     |\n",
      "| p1:|           |    |\n",
      "|    |-----------|    |\n",
      "|    | on(x1,x2) |    |\n",
      "|    |___________|    |\n",
      "| n_cup(x1)           |\n",
      "| card_eq_3(x1)       |\n",
      "| n_thing(z3)         |\n",
      "|     ______________  |\n",
      "| z2:|              | |\n",
      "|    |--------------| |\n",
      "|    | n_green.(z3) | |\n",
      "|    |______________| |\n",
      "|_____________________|\n"
     ]
    }
   ],
   "source": [
    "print(drs1_2_simp.eliminate_equality().pretty_format())"
   ]
  },
  {
   "cell_type": "code",
   "execution_count": 56,
   "id": "0864cd56-7607-422d-846e-e2da8e0e0bf9",
   "metadata": {},
   "outputs": [
    {
     "name": "stdout",
     "output_type": "stream",
     "text": [
      "([p1,x1,x2,z2,z3],[n_table.(x2), prop(p1, ([],[on(x1,x2)])), n_cup(x1), card_eq_3(x1), n_thing(z3), prop(z2, ([],[n_green.(z3)]))])\n"
     ]
    }
   ],
   "source": [
    "print(drs1_2_simp.eliminate_equality())"
   ]
  },
  {
   "cell_type": "code",
   "execution_count": 53,
   "id": "8692ac7e-f1ed-406b-ba83-d73035881aa1",
   "metadata": {},
   "outputs": [
    {
     "data": {
      "text/plain": [
       "<DRS ([p1,x1,x2,z2,z3],[n_table.(x2), prop(p1, ([],[on(x1,x2)])), n_cup(x1), card_eq_3(x1), n_thing(z3), prop(z2, ([z1],[(z3 = z1), n_green.(z1)]))])>"
      ]
     },
     "execution_count": 53,
     "metadata": {},
     "output_type": "execute_result"
    }
   ],
   "source": [
    "drs1_2_simp.simplify()"
   ]
  },
  {
   "cell_type": "code",
   "execution_count": 76,
   "id": "c7226207-f506-4156-abcf-05c3f130ec97",
   "metadata": {},
   "outputs": [],
   "source": [
    "def parse_and_print_drs(sentences):\n",
    "    drs_obj = boxer.interpret_multi(sentences)\n",
    "    print(drs_obj.pretty_format())\n",
    "    return drs_obj"
   ]
  },
  {
   "cell_type": "code",
   "execution_count": 63,
   "id": "dd9f67c9-33a9-4a1f-ab39-34179adbcb40",
   "metadata": {},
   "outputs": [
    {
     "name": "stdout",
     "output_type": "stream",
     "text": [
      " _________________ \n",
      "| e1 x1 x2        |\n",
      "|-----------------|\n",
      "| ne_per_mary(x2) |\n",
      "| ne_per_john(x1) |\n",
      "| Theme(e1,x2)    |\n",
      "| Actor(e1,x1)    |\n",
      "| v_love(e1)      |\n",
      "|_________________|\n"
     ]
    }
   ],
   "source": [
    "parse_and_print_drs([\"John loves Mary\"])"
   ]
  },
  {
   "cell_type": "code",
   "execution_count": 64,
   "id": "0ae2c96f-5f21-4cb4-b7dd-a25941731761",
   "metadata": {},
   "outputs": [
    {
     "name": "stdout",
     "output_type": "stream",
     "text": [
      " _____________________________________ \n",
      "|                                     |\n",
      "|-------------------------------------|\n",
      "|   ___________      ______________   |\n",
      "|  | x1        |    | e1 x2        |  |\n",
      "| (|-----------| -> |--------------|) |\n",
      "|  | n_man(x1) |    | Theme(e1,x2) |  |\n",
      "|  |___________|    | Actor(e1,x1) |  |\n",
      "|                   | v_love(e1)   |  |\n",
      "|                   | n_woman.(x2) |  |\n",
      "|                   |______________|  |\n",
      "|_____________________________________|\n"
     ]
    }
   ],
   "source": [
    "parse_and_print_drs([\"every man loves a woman.\"])"
   ]
  },
  {
   "cell_type": "code",
   "execution_count": 66,
   "id": "9e2cc1ec-5f72-4f24-9a92-56afffa7132b",
   "metadata": {},
   "outputs": [
    {
     "name": "stdout",
     "output_type": "stream",
     "text": [
      " _____________________________________ \n",
      "| p1 x3 x4 x5                         |\n",
      "|-------------------------------------|\n",
      "| ne_nam_helen.(x5)                   |\n",
      "| n_name(x4)                          |\n",
      "| of(x4,x3)                           |\n",
      "| n_female(x3)                        |\n",
      "|   ___________      ______________   |\n",
      "|  | x1        |    | e1 x2        |  |\n",
      "| (|-----------| -> |--------------|) |\n",
      "|  | n_man(x1) |    | Theme(e1,x2) |  |\n",
      "|  |___________|    | Actor(e1,x1) |  |\n",
      "|                   | v_love(e1)   |  |\n",
      "|                   | n_woman.(x2) |  |\n",
      "|                   |______________|  |\n",
      "|     ___________                     |\n",
      "| p1:|           |                    |\n",
      "|    |-----------|                    |\n",
      "|    | (x4 = x5) |                    |\n",
      "|    |___________|                    |\n",
      "|_____________________________________|\n"
     ]
    }
   ],
   "source": [
    "parse_and_print_drs([\"every man loves a woman.\", \"her name is Helen.\"])"
   ]
  },
  {
   "cell_type": "code",
   "execution_count": 68,
   "id": "7c53dc52-d9cc-4a78-900f-d8f41160feac",
   "metadata": {},
   "outputs": [],
   "source": [
    "def parse_to_fol(sentences):\n",
    "    drs_obj = boxer.interpret_multi(sentences)\n",
    "    return drs_obj.fol()\n",
    "    "
   ]
  },
  {
   "cell_type": "code",
   "execution_count": 72,
   "id": "47fa4a8c-5b08-4dd7-95c9-1e78f0a94cff",
   "metadata": {},
   "outputs": [
    {
     "name": "stdout",
     "output_type": "stream",
     "text": [
      "all x1.(n_man(x1) -> exists e1 x2.(Theme(e1,x2) & Actor(e1,x1) & v_love(e1) & n_woman(x2)))\n"
     ]
    }
   ],
   "source": [
    "exprs = parse_to_fol([\"every man loves a woman\"])\n",
    "print(exprs)"
   ]
  },
  {
   "cell_type": "code",
   "execution_count": 73,
   "id": "03e66fec-5424-436c-a075-d457647438c1",
   "metadata": {},
   "outputs": [
    {
     "name": "stdout",
     "output_type": "stream",
     "text": [
      "exists p1 x1 x2.(n_table(x2) & on(x1,x2) & n_block(x1) & card_eq_3(x1))\n"
     ]
    }
   ],
   "source": [
    "exprs = parse_to_fol([\"three blocks are on the table\"])\n",
    "print(exprs)"
   ]
  },
  {
   "cell_type": "code",
   "execution_count": 74,
   "id": "861601a8-76bf-48d3-baab-bcfbcd39d836",
   "metadata": {},
   "outputs": [
    {
     "name": "stdout",
     "output_type": "stream",
     "text": [
      "exists p1 x1 x3.(n_table(x3) & exists x2.((x1 = x2) & on(x2,x3) & n_block(x2) & card_eq_3(x2)))\n"
     ]
    }
   ],
   "source": [
    "exprs = parse_to_fol([\"there are three blocks on the table\"])\n",
    "print(exprs)"
   ]
  },
  {
   "cell_type": "code",
   "execution_count": 77,
   "id": "dd18f919-9be2-4503-857f-87e2c013ad85",
   "metadata": {},
   "outputs": [
    {
     "name": "stdout",
     "output_type": "stream",
     "text": [
      " ______________________ \n",
      "| p1 x1 x3             |\n",
      "|----------------------|\n",
      "| n_table(x3)          |\n",
      "|     _______________  |\n",
      "| p1:| x2            | |\n",
      "|    |---------------| |\n",
      "|    | (x1 = x2)     | |\n",
      "|    | on(x2,x3)     | |\n",
      "|    | n_block(x2)   | |\n",
      "|    | card_eq_3(x2) | |\n",
      "|    |_______________| |\n",
      "|______________________|\n"
     ]
    }
   ],
   "source": [
    "drs_obj = parse_and_print_drs([\"there are three blocks on the table\"])"
   ]
  },
  {
   "cell_type": "code",
   "execution_count": 80,
   "id": "5ddbeb70-53b5-4556-bd10-ece61e143624",
   "metadata": {},
   "outputs": [
    {
     "name": "stdout",
     "output_type": "stream",
     "text": [
      " ______________________ \n",
      "| p1 x1 x3             |\n",
      "|----------------------|\n",
      "| n_table(x3)          |\n",
      "|     _______________  |\n",
      "| p1:|               | |\n",
      "|    |---------------| |\n",
      "|    | on(x1,x3)     | |\n",
      "|    | n_block(x1)   | |\n",
      "|    | card_eq_3(x1) | |\n",
      "|    |_______________| |\n",
      "|______________________|\n"
     ]
    }
   ],
   "source": [
    "print(drs_obj.eliminate_equality().pretty_format())"
   ]
  },
  {
   "cell_type": "code",
   "execution_count": 81,
   "id": "6ec70dfb-f20b-4a6d-a484-6b5f1872b536",
   "metadata": {},
   "outputs": [
    {
     "name": "stdout",
     "output_type": "stream",
     "text": [
      " __________________ \n",
      "| p1 x1 x2         |\n",
      "|------------------|\n",
      "| n_table.(x2)     |\n",
      "|     ___________  |\n",
      "| p1:|           | |\n",
      "|    |-----------| |\n",
      "|    | on(x1,x2) | |\n",
      "|    |___________| |\n",
      "| n_cup(x1)        |\n",
      "| card_eq_3(x1)    |\n",
      "|__________________|\n"
     ]
    }
   ],
   "source": [
    "print(drs1.pretty_format())\n"
   ]
  },
  {
   "cell_type": "code",
   "execution_count": 84,
   "id": "9093d78e-56f8-44fd-962d-2684f1870b3b",
   "metadata": {},
   "outputs": [
    {
     "name": "stdout",
     "output_type": "stream",
     "text": [
      " ______________________ \n",
      "| p1 s1 x1 x3 x4       |\n",
      "|----------------------|\n",
      "| n_cup(x4)            |\n",
      "| n_table(x3)          |\n",
      "|     _______________  |\n",
      "| p1:| x2            | |\n",
      "|    |---------------| |\n",
      "|    | (x1 = x2)     | |\n",
      "|    | on(x2,x3)     | |\n",
      "|    | n_cup(x2)     | |\n",
      "|    | card_eq_3(x2) | |\n",
      "|    |_______________| |\n",
      "| Theme(s1,x4)         |\n",
      "| a_green(s1)          |\n",
      "|______________________|\n"
     ]
    }
   ],
   "source": [
    "x"
   ]
  },
  {
   "cell_type": "code",
   "execution_count": 86,
   "id": "1d8b7f9a-84a4-4d4a-94bc-32365bba730b",
   "metadata": {},
   "outputs": [
    {
     "name": "stdout",
     "output_type": "stream",
     "text": [
      "exists p1 s1 x1 x3 x4.(n_cup(x4) & n_table(x3) & exists x2.((x1 = x2) & on(x2,x3) & n_cup(x2) & card_eq_3(x2)) & Theme(s1,x4) & a_green(s1))\n"
     ]
    }
   ],
   "source": [
    "print(drs_obj.fol())"
   ]
  },
  {
   "cell_type": "code",
   "execution_count": 92,
   "id": "72a33451-ec3f-4cbe-9da7-66d4c362f344",
   "metadata": {},
   "outputs": [],
   "source": [
    "a0 = read_expr(\"forall x. forall y. (on(x, y) -> -on(y, x))\")\n",
    "a1 = read_expr(\"forall x. (n_table(x) <-> -n_cup(x))\")"
   ]
  },
  {
   "cell_type": "code",
   "execution_count": 93,
   "id": "9b3eb843-412c-4298-b46b-bd663c6fd660",
   "metadata": {},
   "outputs": [
    {
     "name": "stdout",
     "output_type": "stream",
     "text": [
      "% number = 1\n",
      "% seconds = 0\n",
      "\n",
      "% Interpretation of size 2\n",
      "\n",
      "c2 = 0.\n",
      "\n",
      "c3 = 0.\n",
      "\n",
      "c4 = 1.\n",
      "\n",
      "c5 = 0.\n",
      "\n",
      "c6 = 0.\n",
      "\n",
      "  a_green(0).\n",
      "- a_green(1).\n",
      "\n",
      "  card_eq_3(0).\n",
      "- card_eq_3(1).\n",
      "\n",
      "  n_cup(0).\n",
      "- n_cup(1).\n",
      "\n",
      "- n_table(0).\n",
      "  n_table(1).\n",
      "\n",
      "  Theme(0,0).\n",
      "- Theme(0,1).\n",
      "- Theme(1,0).\n",
      "- Theme(1,1).\n",
      "\n",
      "- on(0,0).\n",
      "  on(0,1).\n",
      "- on(1,0).\n",
      "- on(1,1).\n",
      "\n",
      "{'C2': 'a',\n",
      " 'C3': 'a',\n",
      " 'C4': 'b',\n",
      " 'C5': 'a',\n",
      " 'C6': 'a',\n",
      " 'Theme': {('a', 'a')},\n",
      " 'a_green': {('a',)},\n",
      " 'card_eq_3': {('a',)},\n",
      " 'n_cup': {('a',)},\n",
      " 'n_table': {('b',)},\n",
      " 'on': {('a', 'b')}}\n"
     ]
    }
   ],
   "source": [
    "mb = MaceCommand(None , assumptions=[a0, a1, drs_obj.fol()])\n",
    "m = mb.build_model()\n",
    "print(mb.model(format='cooked'))\n",
    "print(mb.valuation)"
   ]
  },
  {
   "cell_type": "code",
   "execution_count": 153,
   "id": "f6b60ba6-d855-4c5d-bc95-e13182103d39",
   "metadata": {},
   "outputs": [
    {
     "name": "stdout",
     "output_type": "stream",
     "text": [
      " _____________________ \n",
      "| p1 p2 x1 x2         |\n",
      "|---------------------|\n",
      "|     ______________  |\n",
      "| p2:| s1           | |\n",
      "|    |--------------| |\n",
      "|    | Theme(s1,x1) | |\n",
      "|    | a_green(s1)  | |\n",
      "|    |______________| |\n",
      "| Topic(x2,p2)        |\n",
      "| n_table.(x2)        |\n",
      "|     ___________     |\n",
      "| p1:|           |    |\n",
      "|    |-----------|    |\n",
      "|    | on(x1,x2) |    |\n",
      "|    |___________|    |\n",
      "| n_cup(x1)           |\n",
      "| n_cup(x1)           |\n",
      "|_____________________|\n"
     ]
    }
   ],
   "source": [
    "drs_obj = parse_and_print_drs([\"a cup is on the table. the cup is green\"])"
   ]
  },
  {
   "cell_type": "code",
   "execution_count": 154,
   "id": "8e1c8069-52af-4d49-9317-ca6ee9b06662",
   "metadata": {},
   "outputs": [
    {
     "name": "stdout",
     "output_type": "stream",
     "text": [
      " __________________ \n",
      "| p1 s1 x1 x2      |\n",
      "|------------------|\n",
      "| n_table(x2)      |\n",
      "| n_cup(x1)        |\n",
      "| n_cup(x1)        |\n",
      "|     ___________  |\n",
      "| p1:|           | |\n",
      "|    |-----------| |\n",
      "|    | on(x1,x2) | |\n",
      "|    |___________| |\n",
      "| Theme(s1,x1)     |\n",
      "| a_green(s1)      |\n",
      "|__________________|\n"
     ]
    }
   ],
   "source": [
    "drs_obj = parse_and_print_drs([\"a cup is on the table\", \"the cup is green\"])"
   ]
  },
  {
   "cell_type": "code",
   "execution_count": 156,
   "id": "541a9e16-f89f-4488-a97a-9cbeb0afe395",
   "metadata": {},
   "outputs": [
    {
     "name": "stdout",
     "output_type": "stream",
     "text": [
      " __________________ \n",
      "| p1 s1 x1 x2      |\n",
      "|------------------|\n",
      "| n_table(x2)      |\n",
      "| n_cup(x1)        |\n",
      "| n_cup(x1)        |\n",
      "|     ___________  |\n",
      "| p1:|           | |\n",
      "|    |-----------| |\n",
      "|    | on(x1,x2) | |\n",
      "|    |___________| |\n",
      "| card_eq_3(x1)    |\n",
      "| Theme(s1,x1)     |\n",
      "| a_green(s1)      |\n",
      "|__________________|\n"
     ]
    }
   ],
   "source": [
    "drs_obj = parse_and_print_drs([\"three cups are on the table\", \"the cups are green\"])"
   ]
  },
  {
   "cell_type": "code",
   "execution_count": 158,
   "id": "70dd23d4-3bd4-4aba-8662-9fd112a6f249",
   "metadata": {},
   "outputs": [
    {
     "name": "stdout",
     "output_type": "stream",
     "text": [
      " ______________________ \n",
      "| p1 s1 x1 x3 x4       |\n",
      "|----------------------|\n",
      "| n_cup(x4)            |\n",
      "| n_table(x3)          |\n",
      "|     _______________  |\n",
      "| p1:| x2            | |\n",
      "|    |---------------| |\n",
      "|    | (x1 = x2)     | |\n",
      "|    | on(x2,x3)     | |\n",
      "|    | n_cup(x2)     | |\n",
      "|    | card_eq_3(x2) | |\n",
      "|    |_______________| |\n",
      "| Theme(s1,x4)         |\n",
      "| a_green(s1)          |\n",
      "|______________________|\n"
     ]
    }
   ],
   "source": [
    "drs_obj = parse_and_print_drs([\"there are three cups on the table\", \"the cups are green\"])"
   ]
  },
  {
   "cell_type": "code",
   "execution_count": 157,
   "id": "8815d4fb-e129-449e-be61-00667c62a7f0",
   "metadata": {},
   "outputs": [
    {
     "name": "stdout",
     "output_type": "stream",
     "text": [
      " ____________________________ \n",
      "| p1 x1 x3                   |\n",
      "|----------------------------|\n",
      "| n_table.(x3)               |\n",
      "|     _____________________  |\n",
      "| p1:| p2 x2               | |\n",
      "|    |---------------------| |\n",
      "|    | (x1 = x2)           | |\n",
      "|    | on(x2,x3)           | |\n",
      "|    |     ______________  | |\n",
      "|    | p2:| s1           | | |\n",
      "|    |    |--------------| | |\n",
      "|    |    | Theme(s1,x2) | | |\n",
      "|    |    | a_green(s1)  | | |\n",
      "|    |    |______________| | |\n",
      "|    | n_cup(x2)           | |\n",
      "|    | n_cup(x2)           | |\n",
      "|    | that(x3,p2)         | |\n",
      "|    | card_eq_3(x2)       | |\n",
      "|    |_____________________| |\n",
      "|____________________________|\n"
     ]
    }
   ],
   "source": [
    "drs_obj = parse_and_print_drs([\"there are three cups on the table. the cups are green\"])"
   ]
  },
  {
   "cell_type": "code",
   "execution_count": 149,
   "id": "8f8d01ff-bfb1-4090-aa30-b321e607432e",
   "metadata": {},
   "outputs": [
    {
     "name": "stdout",
     "output_type": "stream",
     "text": [
      " __________________ \n",
      "| p1 s1 x1 x2      |\n",
      "|------------------|\n",
      "| n_thing(x2)      |\n",
      "| n_table(x2)      |\n",
      "|     ___________  |\n",
      "| p1:|           | |\n",
      "|    |-----------| |\n",
      "|    | on(x1,x2) | |\n",
      "|    |___________| |\n",
      "| n_cup(x1)        |\n",
      "| Theme(s1,x2)     |\n",
      "| a_green(s1)      |\n",
      "|__________________|\n"
     ]
    }
   ],
   "source": [
    "drs_obj = parse_and_print_drs([\"a cup is on the table\", \"it is green\"])"
   ]
  },
  {
   "cell_type": "code",
   "execution_count": 150,
   "id": "983eb0f5-73ec-4e38-a0b3-782a0980132d",
   "metadata": {},
   "outputs": [
    {
     "name": "stdout",
     "output_type": "stream",
     "text": [
      " __________________ \n",
      "| p1 s1 x1 x2      |\n",
      "|------------------|\n",
      "| n_thing(x2)      |\n",
      "| n_table(x2)      |\n",
      "|     ___________  |\n",
      "| p1:|           | |\n",
      "|    |-----------| |\n",
      "|    | on(x1,x2) | |\n",
      "|    |___________| |\n",
      "| n_cup(x1)        |\n",
      "| Theme(s1,x2)     |\n",
      "| a_green(s1)      |\n",
      "|__________________|\n"
     ]
    }
   ],
   "source": [
    "drs_obj = parse_and_print_drs([\"some cups are on the table\", \"they are green\"])"
   ]
  },
  {
   "cell_type": "code",
   "execution_count": 152,
   "id": "a554741c-9f01-48da-a549-7ddccf6f9496",
   "metadata": {},
   "outputs": [
    {
     "name": "stdout",
     "output_type": "stream",
     "text": [
      " ____________________________ \n",
      "| p1 x1 x2                   |\n",
      "|----------------------------|\n",
      "| n_thing(x2)                |\n",
      "| n_table.(x2)               |\n",
      "|     _____________________  |\n",
      "| p1:| p2                  | |\n",
      "|    |---------------------| |\n",
      "|    | on(x1,x2)           | |\n",
      "|    |     ______________  | |\n",
      "|    | p2:| s1           | | |\n",
      "|    |    |--------------| | |\n",
      "|    |    | Theme(s1,x2) | | |\n",
      "|    |    | a_green(s1)  | | |\n",
      "|    |    |______________| | |\n",
      "|    | that(x2,p2)         | |\n",
      "|    |_____________________| |\n",
      "| n_cup(x1)                  |\n",
      "| card_eq_3(x1)              |\n",
      "|____________________________|\n"
     ]
    }
   ],
   "source": [
    "drs_obj = parse_and_print_drs([\"three cups are on the table. they are green\"])"
   ]
  },
  {
   "cell_type": "code",
   "execution_count": 103,
   "id": "fbba08a4-039f-48ac-be7f-a7628751ed2f",
   "metadata": {},
   "outputs": [
    {
     "name": "stdout",
     "output_type": "stream",
     "text": [
      " _______________ \n",
      "| e1 x1 x2 x3   |\n",
      "|---------------|\n",
      "| n_toast(x2)   |\n",
      "| on(e1,x3)     |\n",
      "| n_tuesday(x3) |\n",
      "| Theme(e1,x2)  |\n",
      "| Actor(e1,x1)  |\n",
      "| v_butter(e1)  |\n",
      "| n_john(x1)    |\n",
      "|_______________|\n"
     ]
    }
   ],
   "source": [
    "drs_obj = parse_and_print_drs([\"john buttered the toast on tuesday\"])"
   ]
  },
  {
   "cell_type": "code",
   "execution_count": 104,
   "id": "07d22792-8fc9-4383-b762-7d1ee643bf60",
   "metadata": {},
   "outputs": [
    {
     "name": "stdout",
     "output_type": "stream",
     "text": [
      " __________________ \n",
      "| p1 s1 x1 x2      |\n",
      "|------------------|\n",
      "| n_table(x2)      |\n",
      "| n_cup(x1)        |\n",
      "| a_green(s1)      |\n",
      "| Theme(s1,x1)     |\n",
      "|     ___________  |\n",
      "| p1:|           | |\n",
      "|    |-----------| |\n",
      "|    | on(x1,x2) | |\n",
      "|    |___________| |\n",
      "|__________________|\n"
     ]
    }
   ],
   "source": [
    "drs_obj = parse_and_print_drs([\"the green cup is on the table\"])"
   ]
  },
  {
   "cell_type": "code",
   "execution_count": 105,
   "id": "3010e133-1ff9-4977-aea0-67c2d8e70873",
   "metadata": {},
   "outputs": [
    {
     "name": "stdout",
     "output_type": "stream",
     "text": [
      " ______________ \n",
      "| s1 x1        |\n",
      "|--------------|\n",
      "| n_cup(x1)    |\n",
      "| Theme(s1,x1) |\n",
      "| a_green(s1)  |\n",
      "|______________|\n"
     ]
    }
   ],
   "source": [
    "drs_obj = parse_and_print_drs([\"the cup is green\"])"
   ]
  },
  {
   "cell_type": "code",
   "execution_count": 113,
   "id": "9f54f9ff-f7ec-4455-8b59-b4d6215d3bd9",
   "metadata": {},
   "outputs": [
    {
     "name": "stdout",
     "output_type": "stream",
     "text": [
      " _________________ \n",
      "| e1 s1 x1 x2     |\n",
      "|-----------------|\n",
      "| ne_per_mary(x2) |\n",
      "| n_cup(x1)       |\n",
      "| n_cup(x1)       |\n",
      "| Theme(s1,x1)    |\n",
      "| a_green(s1)     |\n",
      "| Theme(e1,x1)    |\n",
      "| Actor(e1,x2)    |\n",
      "| v_kick(e1)      |\n",
      "|_________________|\n"
     ]
    }
   ],
   "source": [
    "drs_obj = parse_and_print_drs([\"a cup is green\", \"Mary kicked the cup\"])"
   ]
  },
  {
   "cell_type": "code",
   "execution_count": 111,
   "id": "a5f18e46-cadc-4014-875e-6a67ef6d91e0",
   "metadata": {},
   "outputs": [
    {
     "name": "stdout",
     "output_type": "stream",
     "text": [
      " _________________ \n",
      "| e1 s1 x1 x2     |\n",
      "|-----------------|\n",
      "| ne_per_mary(x1) |\n",
      "| Theme(e1,x2)    |\n",
      "| Actor(e1,x1)    |\n",
      "| v_kick(e1)      |\n",
      "| n_cup(x2)       |\n",
      "| a_green(s1)     |\n",
      "| Theme(s1,x2)    |\n",
      "|_________________|\n"
     ]
    }
   ],
   "source": [
    "drs_obj = parse_and_print_drs([\"Mary kicked a green cup\"])"
   ]
  },
  {
   "cell_type": "code",
   "execution_count": 117,
   "id": "e244cdab-35e8-41a5-836e-32d3b2220014",
   "metadata": {},
   "outputs": [
    {
     "name": "stdout",
     "output_type": "stream",
     "text": [
      " _________________ \n",
      "| e1 s1 x1 x2     |\n",
      "|-----------------|\n",
      "| ne_per_mary(x2) |\n",
      "| n_thing(x1)     |\n",
      "| Theme(s1,x1)    |\n",
      "| a_green(s1)     |\n",
      "| n_cup(x1)       |\n",
      "| Theme(e1,x1)    |\n",
      "| Actor(e1,x2)    |\n",
      "| v_kick(e1)      |\n",
      "|_________________|\n"
     ]
    }
   ],
   "source": []
  },
  {
   "cell_type": "code",
   "execution_count": 119,
   "id": "70c772c6-048b-4c66-8411-75fd8ea479b1",
   "metadata": {},
   "outputs": [
    {
     "name": "stdout",
     "output_type": "stream",
     "text": [
      " __________________ \n",
      "| p1 s1 x1 x2      |\n",
      "|------------------|\n",
      "| n_thing(x2)      |\n",
      "| n_table.(x2)     |\n",
      "|     ___________  |\n",
      "| p1:|           | |\n",
      "|    |-----------| |\n",
      "|    | on(x1,x2) | |\n",
      "|    |___________| |\n",
      "| n_cup(x1)        |\n",
      "| card_eq_3(x1)    |\n",
      "| Theme(s1,x2)     |\n",
      "| a_green(s1)      |\n",
      "|__________________|\n"
     ]
    }
   ],
   "source": [
    "drs_obj = parse_and_print_drs([\"Three cups are on the table.\", \"they are green\"])\n",
    "# drs1 = boxer.interpret(\"Three cups are on the table.\")\n",
    "# drs2 = boxer.interpret(\"They are green.\")"
   ]
  },
  {
   "cell_type": "code",
   "execution_count": 121,
   "id": "44f3713b-282a-4169-9e2d-59b3ec930154",
   "metadata": {},
   "outputs": [
    {
     "name": "stdout",
     "output_type": "stream",
     "text": [
      " __________________ \n",
      "| p1 s1 x1 x2      |\n",
      "|------------------|\n",
      "| n_thing(x2)      |\n",
      "| n_beach.(x2)     |\n",
      "|     ___________  |\n",
      "| p1:|           | |\n",
      "|    |-----------| |\n",
      "|    | at(x1,x2) | |\n",
      "|    |___________| |\n",
      "| n_cup(x1)        |\n",
      "| card_eq_3(x1)    |\n",
      "| Theme(s1,x2)     |\n",
      "| a_green(s1)      |\n",
      "|__________________|\n"
     ]
    }
   ],
   "source": [
    "drs_obj = parse_and_print_drs([\"Three cups are at the beach.\", \"they are green\"])\n"
   ]
  },
  {
   "cell_type": "code",
   "execution_count": 124,
   "id": "cc1968a9-c4a8-42eb-b164-bf9f13150583",
   "metadata": {},
   "outputs": [
    {
     "name": "stdout",
     "output_type": "stream",
     "text": [
      " ________________________ \n",
      "| e1 p1 x1 x2            |\n",
      "|------------------------|\n",
      "| n_unicorn(x2)          |\n",
      "| ne_per_john(x1)        |\n",
      "| Topic(e1,p1)           |\n",
      "| Actor(e1,x1)           |\n",
      "| v_believe(e1)          |\n",
      "|     _________________  |\n",
      "| p1:| e2 x3           | |\n",
      "|    |-----------------| |\n",
      "|    | on(e2,x3)       | |\n",
      "|    | ne_per_mary(x3) | |\n",
      "|    | Actor(e2,x2)    | |\n",
      "|    | v_kick(e2)      | |\n",
      "|    |_________________| |\n",
      "|________________________|\n"
     ]
    }
   ],
   "source": [
    "drs_obj = parse_and_print_drs([\"John believes that the unicorn kicked Mary\"])\n"
   ]
  },
  {
   "cell_type": "code",
   "execution_count": 128,
   "id": "ce4f08c1-f7c4-4b9a-b23b-6415d6d83c7c",
   "metadata": {},
   "outputs": [
    {
     "name": "stdout",
     "output_type": "stream",
     "text": [
      " __________________ \n",
      "| p1 x1 x2         |\n",
      "|------------------|\n",
      "| n_cup(x2)        |\n",
      "| n_box(x1)        |\n",
      "|     ___________  |\n",
      "| p1:|           | |\n",
      "|    |-----------| |\n",
      "|    | in(x1,x2) | |\n",
      "|    |___________| |\n",
      "|__________________|\n"
     ]
    }
   ],
   "source": [
    "drs_obj = parse_and_print_drs([\"the box is in the cup\"])\n"
   ]
  },
  {
   "cell_type": "code",
   "execution_count": 130,
   "id": "daa00e40-0e9d-4b8f-98b6-17aa7d07e040",
   "metadata": {},
   "outputs": [
    {
     "name": "stdout",
     "output_type": "stream",
     "text": [
      " _________________________ \n",
      "| e1 p1 x1                |\n",
      "|-------------------------|\n",
      "| ne_per_john(x1)         |\n",
      "| Topic(e1,p1)            |\n",
      "| Actor(e1,x1)            |\n",
      "| v_believe(e1)           |\n",
      "|     __________________  |\n",
      "| p1:| p2 x2            | |\n",
      "|    |------------------| |\n",
      "|    |     ___________  | |\n",
      "|    | p2:| x3        | | |\n",
      "|    |    |-----------| | |\n",
      "|    |    | in(x2,x3) | | |\n",
      "|    |    | n_cup(x3) | | |\n",
      "|    |    |___________| | |\n",
      "|    | n_box(x2)        | |\n",
      "|    |__________________| |\n",
      "|_________________________|\n"
     ]
    }
   ],
   "source": [
    "drs_obj = parse_and_print_drs([\"John believes that a box is in a cup\"])\n"
   ]
  },
  {
   "cell_type": "code",
   "execution_count": 132,
   "id": "0ea003b9-b293-4b32-a8a0-cbcaeefa9118",
   "metadata": {},
   "outputs": [
    {
     "name": "stdout",
     "output_type": "stream",
     "text": [
      " ________________________________________ \n",
      "|                                        |\n",
      "|----------------------------------------|\n",
      "|   ______________      ______________   |\n",
      "|  | x1           |    | e1 e2 x2 x3  |  |\n",
      "| (|--------------| -> |--------------|) |\n",
      "|  | n_farmer(x1) |    | Theme(e2,x3) |  |\n",
      "|  |______________|    | Actor(e2,x1) |  |\n",
      "|                      | v_beat(e2)   |  |\n",
      "|                      | n_thing(x3)  |  |\n",
      "|                      | Theme(e1,x3) |  |\n",
      "|                      | Actor(e1,x2) |  |\n",
      "|                      | v_own(e1)    |  |\n",
      "|                      | n_donkey(x3) |  |\n",
      "|                      | (x1 = x2)    |  |\n",
      "|                      |______________|  |\n",
      "|________________________________________|\n"
     ]
    }
   ],
   "source": [
    "drs_obj = parse_and_print_drs([\"Every farmer who owns a donkey beats it\"])\n"
   ]
  },
  {
   "cell_type": "code",
   "execution_count": 133,
   "id": "007dbcd6-76ef-4644-ab24-fa558e811ef7",
   "metadata": {},
   "outputs": [
    {
     "name": "stdout",
     "output_type": "stream",
     "text": [
      " _____________________ \n",
      "| e1 e2 p1 x1 x2 x3   |\n",
      "|---------------------|\n",
      "|     ______________  |\n",
      "| p1:| e3 x4        | |\n",
      "|    |--------------| |\n",
      "|    | Theme(e3,x4) | |\n",
      "|    | Actor(e3,x1) | |\n",
      "|    | v_hit(e3)    | |\n",
      "|    | n_donkey(x4) | |\n",
      "|    |______________| |\n",
      "| Topic(e2,p1)        |\n",
      "| Actor(e2,x1)        |\n",
      "| v_doesn't(e2)       |\n",
      "| Theme(e1,x3)        |\n",
      "| Actor(e1,x2)        |\n",
      "| v_love(e1)          |\n",
      "| n_animal(x3)        |\n",
      "| (x1 = x2)           |\n",
      "| n_farmer(x1)        |\n",
      "|_____________________|\n"
     ]
    }
   ],
   "source": [
    "drs_obj = parse_and_print_drs([\"A farmer who loves animals doesn't hit donkeys\"])"
   ]
  },
  {
   "cell_type": "code",
   "execution_count": 140,
   "id": "4a024187-810f-4cff-aff2-649e0fe680b5",
   "metadata": {},
   "outputs": [
    {
     "name": "stdout",
     "output_type": "stream",
     "text": [
      " ___________________ \n",
      "| e1 x1 x2 x3 x4 x5 |\n",
      "|-------------------|\n",
      "| a_topic(x1)       |\n",
      "| Theme(e1,x3)      |\n",
      "| Actor(e1,x2)      |\n",
      "| v_love(e1)        |\n",
      "| Time(x3,x5)       |\n",
      "| n_donkey(x5)      |\n",
      "| n_hit(x3)         |\n",
      "| of(x3,x4)         |\n",
      "| n_animal(x4)      |\n",
      "| (x1 = x2)         |\n",
      "| n_farmer(x1)      |\n",
      "|___________________|\n"
     ]
    }
   ],
   "source": [
    "drs_obj = parse_and_print_drs([\"A farmer who loves animals hits donkeys\"])"
   ]
  },
  {
   "cell_type": "code",
   "execution_count": 159,
   "id": "0c7cd33e-8fd6-4a7e-8885-edccf2ebd2ba",
   "metadata": {},
   "outputs": [
    {
     "name": "stdout",
     "output_type": "stream",
     "text": [
      " ___________________ \n",
      "| e1 x1 x2 x3 x4 x5 |\n",
      "|-------------------|\n",
      "| a_topic(x1)       |\n",
      "| Theme(e1,x3)      |\n",
      "| Actor(e1,x2)      |\n",
      "| v_love(e1)        |\n",
      "| Time(x3,x5)       |\n",
      "| n_donkey(x5)      |\n",
      "| n_hit(x3)         |\n",
      "| of(x3,x4)         |\n",
      "| n_animal(x4)      |\n",
      "| (x1 = x2)         |\n",
      "| n_farmer(x1)      |\n",
      "|___________________|\n"
     ]
    }
   ],
   "source": [
    "drs_obj = parse_and_print_drs([\"A farmer who loves animals hits donkeys\"])"
   ]
  },
  {
   "cell_type": "code",
   "execution_count": 136,
   "id": "9963dfb1-f2b1-4c3e-94f5-576fb7d5280b",
   "metadata": {},
   "outputs": [
    {
     "name": "stdout",
     "output_type": "stream",
     "text": [
      " ________________ \n",
      "| e1 e2 x1 x3 x4 |\n",
      "|----------------|\n",
      "| Theme(e2,x4)   |\n",
      "| Actor(e2,x1)   |\n",
      "| v_eat(e2)      |\n",
      "| n_donkey(x4)   |\n",
      "| Theme(e1,x3)   |\n",
      "| Actor(e1,x1)   |\n",
      "| v_love(e1)     |\n",
      "| n_animal(x3)   |\n",
      "| n_farmer(x1)   |\n",
      "|________________|\n"
     ]
    }
   ],
   "source": [
    "print(drs_obj.eliminate_equality().pretty_format())"
   ]
  },
  {
   "cell_type": "code",
   "execution_count": 137,
   "id": "c7fae22e-d777-465f-bcb2-d71b2776239e",
   "metadata": {},
   "outputs": [
    {
     "name": "stdout",
     "output_type": "stream",
     "text": [
      " ________________________________________________ \n",
      "| x1 x2                                          |\n",
      "|------------------------------------------------|\n",
      "| n_thing(x2)                                    |\n",
      "| n_person(x1)                                   |\n",
      "|   ______________      ______________________   |\n",
      "|  | e1           |    | p1 x3                |  |\n",
      "| (|--------------| -> |----------------------|) |\n",
      "|  | Theme(e1,x2) |    |     _______________  |  |\n",
      "|  | Actor(e1,x1) |    | p1:| x4            | |  |\n",
      "|  | v_want(e1)   |    |    |---------------| |  |\n",
      "|  |______________|    |    | (x3 = x4)     | |  |\n",
      "|                      |    | n_biscuit(x4) | |  |\n",
      "|                      |    |_______________| |  |\n",
      "|                      |______________________|  |\n",
      "|________________________________________________|\n"
     ]
    }
   ],
   "source": [
    "drs_obj = parse_and_print_drs([\"There are biscuits if you want them\"])"
   ]
  },
  {
   "cell_type": "code",
   "execution_count": 138,
   "id": "80ede0d5-871c-4879-a497-eda7589c0e5e",
   "metadata": {},
   "outputs": [
    {
     "name": "stdout",
     "output_type": "stream",
     "text": [
      " ______________________ \n",
      "| p1 p2 p3 x1 x2 x3 x4 |\n",
      "|----------------------|\n",
      "| n_barracks(x4)       |\n",
      "| n_soldier(x3)        |\n",
      "| n_orders,(x2)        |\n",
      "| of(x2,x1)            |\n",
      "| n_male(x1)           |\n",
      "| n_male(x1)           |\n",
      "|     ______________   |\n",
      "| p3:| e2           |  |\n",
      "|    |--------------|  |\n",
      "|    | Theme(e2,x4) |  |\n",
      "|    | Actor(e2,x3) |  |\n",
      "|    | v_leave(e2)  |  |\n",
      "|    |______________|  |\n",
      "|     _______________  |\n",
      "| p2:| e1            | |\n",
      "|    |---------------| |\n",
      "|    | Theme(e1,x2)  | |\n",
      "|    | Actor(e1,x1)  | |\n",
      "|    | v_receive(e1) | |\n",
      "|    |_______________| |\n",
      "|     ______________   |\n",
      "| p1:|              |  |\n",
      "|    |--------------|  |\n",
      "|    | after(p2,p3) |  |\n",
      "|    |______________|  |\n",
      "|______________________|\n"
     ]
    }
   ],
   "source": [
    "drs_obj = parse_and_print_drs([\"After he had received his orders, the soldier left the barracks\"])"
   ]
  },
  {
   "cell_type": "code",
   "execution_count": 139,
   "id": "2dc4dc55-8fc1-4d37-8e74-711db2417019",
   "metadata": {},
   "outputs": [
    {
     "name": "stdout",
     "output_type": "stream",
     "text": [
      "exists p1 p2 p3 x1 x2 x3 x4.(n_barracks(x4) & n_soldier(x3) & n_orders,(x2) & of(x2,x1) & n_male(x1) & n_male(x1) & exists e2.(Theme(e2,x4) & Actor(e2,x3) & v_leave(e2)) & exists e1.(Theme(e1,x2) & Actor(e1,x1) & v_receive(e1)) & after(p2,p3))\n"
     ]
    }
   ],
   "source": [
    "print(drs_obj.fol())"
   ]
  },
  {
   "cell_type": "code",
   "execution_count": 142,
   "id": "34a44555-019f-42cf-b96d-d0356984aa54",
   "metadata": {},
   "outputs": [
    {
     "name": "stdout",
     "output_type": "stream",
     "text": [
      " ___________________________________________________________________________________________ \n",
      "| e1 e3 e2 e5 e4 p1 s1 s2 x1 x2 x3 x4 x5 x9 x10 x11 x12 x13 x14 x15 x16 x17 x18 x19 x20 x21 |\n",
      "|-------------------------------------------------------------------------------------------|\n",
      "| n_controller.(x21)                                                                        |\n",
      "| n_ground(x9)                                                                              |\n",
      "| ne_org_dji(x1)                                                                            |\n",
      "| n_thing(x2)                                                                               |\n",
      "| with(e1,x2)                                                                               |\n",
      "| of(x2,x5)                                                                                 |\n",
      "| n_kg.(x5)                                                                                 |\n",
      "| card_eq_6.14(x5)                                                                          |\n",
      "| n_mass(x2)                                                                                |\n",
      "| of(x2,x4)                                                                                 |\n",
      "| n_takeoff(x4)                                                                             |\n",
      "| of(x2,x3)                                                                                 |\n",
      "| n_maximum(x3)                                                                             |\n",
      "| Actor(e1,x1)                                                                              |\n",
      "| v_ua(e1)                                                                                  |\n",
      "|     _________________________                                                             |\n",
      "| p1:| p2 x6 x7                |                                                            |\n",
      "|    |-------------------------|                                                            |\n",
      "|    |     __________________  |                                                            |\n",
      "|    | p2:| x8               | |                                                            |\n",
      "|    |    |------------------| |                                                            |\n",
      "|    |    | (x6 = x8)        | |                                                            |\n",
      "|    |    | n_quadcopter(x8) | |                                                            |\n",
      "|    |    |__________________| |                                                            |\n",
      "|    | n_thing(x6)             |                                                            |\n",
      "|    | card_eq_200(x6)         |                                                            |\n",
      "|    | (x6 = x7)               |                                                            |\n",
      "|    | ne_org_matrice(x7)      |                                                            |\n",
      "|    |_________________________|                                                            |\n",
      "| that(x1,p1)                                                                               |\n",
      "| for(e2,e3)                                                                                |\n",
      "| via(e3,x12)                                                                               |\n",
      "| subset_of(x15,x12)                                                                        |\n",
      "| on(e4,x19)                                                                                |\n",
      "| to(e5,x21)                                                                                |\n",
      "| Theme(e5,x20)                                                                             |\n",
      "| v_attach(e5)                                                                              |\n",
      "| (x19 = x20)                                                                               |\n",
      "| n_device(x19)                                                                             |\n",
      "| a_tablet(s2)                                                                              |\n",
      "| Theme(s2,x19)                                                                             |\n",
      "| Actor(e4,x18)                                                                             |\n",
      "| v_run(e4)                                                                                 |\n",
      "| (x15 = x18)                                                                               |\n",
      "| n_(app)(x15)                                                                              |\n",
      "| of(x15,x17)                                                                               |\n",
      "| n_application(x17)                                                                        |\n",
      "| of(x15,x16)                                                                               |\n",
      "| n_software(x16)                                                                           |\n",
      "| subset_of(x13,x12)                                                                        |\n",
      "| n_frequency(x13)                                                                          |\n",
      "| of(x13,x14)                                                                               |\n",
      "| n_radio(x14)                                                                              |\n",
      "| Theme(e3,x10)                                                                             |\n",
      "| Actor(e3,x2)                                                                              |\n",
      "| v_use(e3)                                                                                 |\n",
      "| n_controller(x10)                                                                         |\n",
      "| of(x10,x11)                                                                               |\n",
      "| n_flight(x11)                                                                             |\n",
      "| a_handheld(s1)                                                                            |\n",
      "| Theme(s1,x10)                                                                             |\n",
      "| on(e2,x9)                                                                                 |\n",
      "| Theme(e2,x2)                                                                              |\n",
      "| v_control(e2)                                                                             |\n",
      "|___________________________________________________________________________________________|\n"
     ]
    }
   ],
   "source": [
    "drs_obj = parse_and_print_drs([\"The DJI Matrice 200 is a quadcopter UAS with a maximum takeoff mass of 6.14 kg.\", \n",
    "                               \"It is controlled on the ground using a handheld flight controller via radio frequency and a software application (app) running on a tablet device attached to the controller.\",]) \n",
    "                               \n",
    "#                                \"For the\n",
    "# accident flight the takeoff mass was 5.5 kg, which included an underslung camera, two\n",
    "# TB55 batteries and a ballistic parachute recovery system."
   ]
  },
  {
   "cell_type": "code",
   "execution_count": 148,
   "id": "7115717e-efbd-4fb6-a068-6c37f4a0cd63",
   "metadata": {},
   "outputs": [
    {
     "name": "stdout",
     "output_type": "stream",
     "text": [
      "% this file was generated by the following command(s):\n",
      "%   /home/mappelgren/Desktop/candc-master/candc/bin/candc --models /home/mappelgren/Desktop/candc-master/candc/models/boxer --candc-printer boxer\n",
      "\n",
      ":- op(601, xfx, (/)).\n",
      ":- op(601, xfx, (\\)).\n",
      ":- multifile ccg/2, id/2.\n",
      ":- discontiguous ccg/2, id/2.\n",
      "\n",
      "ccg(1,\n",
      " ba(s:dcl,\n",
      "  ba(np,\n",
      "   fa(np:nb,\n",
      "    t(np:nb/n, 'The', 'the', 'DT', 'I-NP', 'O'),\n",
      "    t(n, 'DJI', 'DJI', 'NNP', 'I-NP', 'I-ORG')),\n",
      "   lx(np\\np, s:dcl,\n",
      "    ba(s:dcl,\n",
      "     lx(np, n,\n",
      "      fa(n,\n",
      "       t(n/n, 'Matrice', 'Matrice', 'NNP', 'I-NP', 'I-ORG'),\n",
      "       t(n, '200', '200', 'CD', 'I-NP', 'O'))),\n",
      "     fa(s:dcl\\np,\n",
      "      t((s:dcl\\np)/np, 'is', 'be', 'VBZ', 'I-VP', 'O'),\n",
      "      fa(np:nb,\n",
      "       t(np:nb/n, 'a', 'a', 'DT', 'I-NP', 'O'),\n",
      "       t(n, 'quadcopter', 'quadcopter', 'NN', 'I-NP', 'O')))))),\n",
      "  fa(s:dcl\\np,\n",
      "   t((s:dcl\\np)/pp, 'UAS', 'ua', 'VBZ', 'I-VP', 'O'),\n",
      "   fa(pp,\n",
      "    t(pp/np, 'with', 'with', 'IN', 'I-PP', 'O'),\n",
      "    ba(np,\n",
      "     fa(np:nb,\n",
      "      t(np:nb/n, 'a', 'a', 'DT', 'I-NP', 'O'),\n",
      "      fa(n,\n",
      "       t(n/n, 'maximum', 'maximum', 'NN', 'I-NP', 'O'),\n",
      "       fa(n,\n",
      "        t(n/n, 'takeoff', 'takeoff', 'NN', 'I-NP', 'O'),\n",
      "        t(n, 'mass', 'mass', 'NN', 'I-NP', 'O')))),\n",
      "     fa(np\\np,\n",
      "      t((np\\np)/np, 'of', 'of', 'IN', 'I-PP', 'O'),\n",
      "      lx(np, n,\n",
      "       fa(n,\n",
      "        t(n/n, '6.14', '6.14', 'CD', 'I-NP', 'I-PCT'),\n",
      "        t(n, 'kg.', 'kg.', 'NN', 'I-NP', 'I-PCT'))))))))).\n",
      "\n",
      "id('1', [1]).\n",
      "\n",
      "\n"
     ]
    }
   ],
   "source": [
    "print(boxer._call_candc([[\"The DJI Matrice 200 is a quadcopter UAS with a maximum takeoff mass of 6.14 kg.\"]], [1], False))"
   ]
  },
  {
   "cell_type": "code",
   "execution_count": null,
   "id": "94da4b0b-da5a-4c34-9107-20401e7e20de",
   "metadata": {},
   "outputs": [],
   "source": []
  }
 ],
 "metadata": {
  "kernelspec": {
   "display_name": "Python 3",
   "language": "python",
   "name": "python3"
  },
  "language_info": {
   "codemirror_mode": {
    "name": "ipython",
    "version": 3
   },
   "file_extension": ".py",
   "mimetype": "text/x-python",
   "name": "python",
   "nbconvert_exporter": "python",
   "pygments_lexer": "ipython3",
   "version": "3.9.5"
  }
 },
 "nbformat": 4,
 "nbformat_minor": 5
}
