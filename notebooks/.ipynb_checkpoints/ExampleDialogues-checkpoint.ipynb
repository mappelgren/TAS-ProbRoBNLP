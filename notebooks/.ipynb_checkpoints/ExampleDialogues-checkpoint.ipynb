{
 "cells": [
  {
   "cell_type": "code",
   "execution_count": 1,
   "id": "38b9cc1e-dfc9-4600-88e2-308385bcf842",
   "metadata": {},
   "outputs": [],
   "source": [
    "import spacy"
   ]
  },
  {
   "cell_type": "code",
   "execution_count": 2,
   "id": "af62c4e9-c1a3-4ad6-842b-0dd15c769200",
   "metadata": {},
   "outputs": [],
   "source": [
    "dialogue1 = [\"there is a table in the centre\", \"put a green tray on the table\", \"put a cube on that\"]\n",
    "dialogue2 = [\"There is a cup on a table\", \"put another cup next to the first one\", \"it should face to the left\"]\n",
    "dialogue3 = [\"There is a table\", \"put a cup on it\", \"put another cup on it to the left of the first cup\"]"
   ]
  },
  {
   "cell_type": "code",
   "execution_count": 3,
   "id": "e69cfcdf-ed89-464d-96bd-d1edb001eb41",
   "metadata": {},
   "outputs": [],
   "source": [
    "from ProbRobNLP import FeatureExtraction"
   ]
  },
  {
   "cell_type": "code",
   "execution_count": 24,
   "id": "fa9b536a-23ae-40f7-ad56-ea1b81d63783",
   "metadata": {},
   "outputs": [],
   "source": [
    "class Sentence:\n",
    "    \n",
    "    def __init__(self, sentence):\n",
    "        self.sentence = list(FeatureExtraction.get_words_and_tags(sentence))\n",
    "        \n",
    "    def get_head(self):\n",
    "        for word in self.sentence:\n",
    "            if word['id'] == word['head']:\n",
    "                return word\n",
    "    \n",
    "    def get_children(self, id_):\n",
    "        for word in self.sentence:\n",
    "            if word['head'] == id_:\n",
    "                yield word\n",
    "    \n",
    "    def __repr__(self):\n",
    "        return '\\n'.join([str(d) for d in self.sentence])\n",
    "    \n",
    "    \n",
    "    def get_entities(self):\n",
    "\n",
    "        sentence = self.sentence\n",
    "        for word in sentence:\n",
    "            out = []\n",
    "            if 'obj' in word['dep'] or 'subj' in word['dep'] or 'dative' in word['dep'] or 'attr' in word['dep']:\n",
    "\n",
    "                for w in sentence:\n",
    "                    if w['head'] == word['id'] and w['dep'] != 'acl' and w['dep'] != 'prep':\n",
    "                        out.append(w)\n",
    "                out.append(word)\n",
    "                yield Entity(out)\n",
    "                \n",
    "reference_id = 0\n",
    "def get_reference():\n",
    "    global reference_id\n",
    "    x = f'x{reference_id}'\n",
    "    reference_id += 1\n",
    "    return x\n",
    "\n",
    "class Entity:\n",
    "    def __init__(self, wordlist):\n",
    "        self.head = wordlist[-1]\n",
    "        self.wordlist = wordlist\n",
    "        \n",
    "    def __repr__(self):\n",
    "        return ' '.join([w['word'] for w in self.wordlist])\n",
    "    \n",
    "    def get_semantics(self):\n",
    "        ref = []\n",
    "        log = []\n",
    "        for word in self.word_list:\n",
    "            if word['dep'] == 'det':\n",
    "                pass"
   ]
  },
  {
   "cell_type": "code",
   "execution_count": 25,
   "id": "74177176-3050-46dd-9fe4-3fef75f61b34",
   "metadata": {},
   "outputs": [
    {
     "ename": "UnboundLocalError",
     "evalue": "local variable 'refrence_id' referenced before assignment",
     "output_type": "error",
     "traceback": [
      "\u001b[0;31m---------------------------------------------------------------------------\u001b[0m",
      "\u001b[0;31mUnboundLocalError\u001b[0m                         Traceback (most recent call last)",
      "\u001b[0;32m<ipython-input-25-295730a54c82>\u001b[0m in \u001b[0;36m<module>\u001b[0;34m\u001b[0m\n\u001b[0;32m----> 1\u001b[0;31m \u001b[0mget_reference\u001b[0m\u001b[0;34m(\u001b[0m\u001b[0;34m)\u001b[0m\u001b[0;34m\u001b[0m\u001b[0;34m\u001b[0m\u001b[0m\n\u001b[0m",
      "\u001b[0;32m<ipython-input-24-a6c63fe4758d>\u001b[0m in \u001b[0;36mget_reference\u001b[0;34m()\u001b[0m\n\u001b[1;32m     35\u001b[0m     \u001b[0;32mglobal\u001b[0m \u001b[0mreference_id\u001b[0m\u001b[0;34m\u001b[0m\u001b[0;34m\u001b[0m\u001b[0m\n\u001b[1;32m     36\u001b[0m     \u001b[0mx\u001b[0m \u001b[0;34m=\u001b[0m \u001b[0;34mf'x{reference_id}'\u001b[0m\u001b[0;34m\u001b[0m\u001b[0;34m\u001b[0m\u001b[0m\n\u001b[0;32m---> 37\u001b[0;31m     \u001b[0mrefrence_id\u001b[0m \u001b[0;34m+=\u001b[0m \u001b[0;36m1\u001b[0m\u001b[0;34m\u001b[0m\u001b[0;34m\u001b[0m\u001b[0m\n\u001b[0m\u001b[1;32m     38\u001b[0m     \u001b[0;32mreturn\u001b[0m \u001b[0mx\u001b[0m\u001b[0;34m\u001b[0m\u001b[0;34m\u001b[0m\u001b[0m\n\u001b[1;32m     39\u001b[0m \u001b[0;34m\u001b[0m\u001b[0m\n",
      "\u001b[0;31mUnboundLocalError\u001b[0m: local variable 'refrence_id' referenced before assignment"
     ]
    }
   ],
   "source": [
    "get_reference()"
   ]
  },
  {
   "cell_type": "code",
   "execution_count": 16,
   "id": "fcc030c7-34e2-4be5-9af8-d8568206f071",
   "metadata": {},
   "outputs": [
    {
     "data": {
      "text/plain": [
       "{'id': 0, 'word': 'there', 'tag': 'EX', 'dep': 'expl', 'pos': 'PRON', 'head': 1}\n",
       "{'id': 1, 'word': 'is', 'tag': 'VBZ', 'dep': 'ROOT', 'pos': 'AUX', 'head': 1}\n",
       "{'id': 2, 'word': 'a', 'tag': 'DT', 'dep': 'det', 'pos': 'DET', 'head': 3}\n",
       "{'id': 3, 'word': 'table', 'tag': 'NN', 'dep': 'attr', 'pos': 'NOUN', 'head': 1}\n",
       "{'id': 4, 'word': 'in', 'tag': 'IN', 'dep': 'prep', 'pos': 'ADP', 'head': 3}\n",
       "{'id': 5, 'word': 'the', 'tag': 'DT', 'dep': 'det', 'pos': 'DET', 'head': 6}\n",
       "{'id': 6, 'word': 'centre', 'tag': 'NN', 'dep': 'pobj', 'pos': 'NOUN', 'head': 4}"
      ]
     },
     "execution_count": 16,
     "metadata": {},
     "output_type": "execute_result"
    }
   ],
   "source": [
    "d11 = Sentence(dialogue1[0])\n",
    "d11"
   ]
  },
  {
   "cell_type": "code",
   "execution_count": 17,
   "id": "ada0fcbf-608f-4cce-bde8-59f3f05d264c",
   "metadata": {},
   "outputs": [
    {
     "data": {
      "text/plain": [
       "[a table, the centre]"
      ]
     },
     "execution_count": 17,
     "metadata": {},
     "output_type": "execute_result"
    }
   ],
   "source": [
    "list(d11.get_entities())"
   ]
  },
  {
   "cell_type": "code",
   "execution_count": 19,
   "id": "47f25f93-3bbb-4e33-a759-3989f365f121",
   "metadata": {},
   "outputs": [
    {
     "data": {
      "text/plain": [
       "[a green tray, the table]"
      ]
     },
     "execution_count": 19,
     "metadata": {},
     "output_type": "execute_result"
    }
   ],
   "source": [
    "d12 = Sentence(dialogue1[1])\n",
    "d12\n",
    "list(d12.get_entities())"
   ]
  },
  {
   "cell_type": "code",
   "execution_count": 20,
   "id": "d4e62e8c-3692-46d2-908d-08c0dab13b29",
   "metadata": {},
   "outputs": [
    {
     "data": {
      "text/plain": [
       "[a cube, that]"
      ]
     },
     "execution_count": 20,
     "metadata": {},
     "output_type": "execute_result"
    }
   ],
   "source": [
    "d13 = Sentence(dialogue1[2])\n",
    "d13\n",
    "list(d13.get_entities())"
   ]
  },
  {
   "cell_type": "code",
   "execution_count": 22,
   "id": "d79033cd-bf7d-445d-a656-f2b7fee3aba5",
   "metadata": {},
   "outputs": [],
   "source": [
    "dialogue1_parsed = [d11, d12, d13]"
   ]
  },
  {
   "cell_type": "code",
   "execution_count": 23,
   "id": "ce3c6536-e0fe-478a-89cd-25b7a62b9c71",
   "metadata": {},
   "outputs": [
    {
     "name": "stdout",
     "output_type": "stream",
     "text": [
      "0 {'id': 1, 'word': 'is', 'tag': 'VBZ', 'dep': 'ROOT', 'pos': 'AUX', 'head': 1}\n",
      "1 {'id': 0, 'word': 'put', 'tag': 'VB', 'dep': 'ROOT', 'pos': 'VERB', 'head': 0}\n",
      "2 {'id': 0, 'word': 'put', 'tag': 'VB', 'dep': 'ROOT', 'pos': 'VERB', 'head': 0}\n"
     ]
    }
   ],
   "source": [
    "for i, d in enumerate(dialogue1_parsed):\n",
    "    print(i, d.get_head())"
   ]
  },
  {
   "cell_type": "code",
   "execution_count": null,
   "id": "e099b03d-3b97-4b16-b90e-c9f739a89709",
   "metadata": {},
   "outputs": [],
   "source": []
  }
 ],
 "metadata": {
  "kernelspec": {
   "display_name": "Python 3",
   "language": "python",
   "name": "python3"
  },
  "language_info": {
   "codemirror_mode": {
    "name": "ipython",
    "version": 3
   },
   "file_extension": ".py",
   "mimetype": "text/x-python",
   "name": "python",
   "nbconvert_exporter": "python",
   "pygments_lexer": "ipython3",
   "version": "3.9.5"
  }
 },
 "nbformat": 4,
 "nbformat_minor": 5
}
