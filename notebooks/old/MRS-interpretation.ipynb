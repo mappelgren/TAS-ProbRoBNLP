{
 "cells": [
  {
   "cell_type": "code",
   "execution_count": 3,
   "id": "a551200d-4e76-4007-8cea-f679926765d6",
   "metadata": {},
   "outputs": [],
   "source": [
    "from delphin import ace\n",
    "from delphin import dmrs"
   ]
  },
  {
   "cell_type": "code",
   "execution_count": 4,
   "id": "bac6a6e8-e146-40fa-97ab-64db425dfc0f",
   "metadata": {},
   "outputs": [
    {
     "ename": "ACEProcessError",
     "evalue": "ACE process closed on startup",
     "output_type": "error",
     "traceback": [
      "\u001b[0;31m---------------------------------------------------------------------------\u001b[0m",
      "\u001b[0;31mACEProcessError\u001b[0m                           Traceback (most recent call last)",
      "\u001b[0;32m<ipython-input-4-e5f7ac82a0f3>\u001b[0m in \u001b[0;36m<module>\u001b[0;34m\u001b[0m\n\u001b[1;32m      1\u001b[0m \u001b[0mgrm\u001b[0m \u001b[0;34m=\u001b[0m \u001b[0;34m'/Users/mattiasappelgren/Desktop/ace-0.9.30/erg-2018-osx-0.9.31.dat'\u001b[0m\u001b[0;34m\u001b[0m\u001b[0;34m\u001b[0m\u001b[0m\n\u001b[0;32m----> 2\u001b[0;31m \u001b[0mresponse\u001b[0m \u001b[0;34m=\u001b[0m \u001b[0mace\u001b[0m\u001b[0;34m.\u001b[0m\u001b[0mparse\u001b[0m\u001b[0;34m(\u001b[0m\u001b[0mgrm\u001b[0m\u001b[0;34m,\u001b[0m \u001b[0;34m'Add three cups'\u001b[0m\u001b[0;34m)\u001b[0m\u001b[0;34m\u001b[0m\u001b[0;34m\u001b[0m\u001b[0m\n\u001b[0m",
      "\u001b[0;32m~/miniconda3/envs/probrobnlp/lib/python3.9/site-packages/delphin/ace.py\u001b[0m in \u001b[0;36mparse\u001b[0;34m(grm, datum, **kwargs)\u001b[0m\n\u001b[1;32m    493\u001b[0m         \u001b[0mNOTE\u001b[0m\u001b[0;34m:\u001b[0m \u001b[0mparsed\u001b[0m \u001b[0;36m1\u001b[0m \u001b[0;34m/\u001b[0m \u001b[0;36m1\u001b[0m \u001b[0msentences\u001b[0m\u001b[0;34m,\u001b[0m \u001b[0mavg\u001b[0m \u001b[0;36m797\u001b[0m\u001b[0mk\u001b[0m\u001b[0;34m,\u001b[0m \u001b[0mtime\u001b[0m \u001b[0;36m0.00707\u001b[0m\u001b[0ms\u001b[0m\u001b[0;34m\u001b[0m\u001b[0;34m\u001b[0m\u001b[0m\n\u001b[1;32m    494\u001b[0m     \"\"\"\n\u001b[0;32m--> 495\u001b[0;31m     \u001b[0;32mreturn\u001b[0m \u001b[0mnext\u001b[0m\u001b[0;34m(\u001b[0m\u001b[0mparse_from_iterable\u001b[0m\u001b[0;34m(\u001b[0m\u001b[0mgrm\u001b[0m\u001b[0;34m,\u001b[0m \u001b[0;34m[\u001b[0m\u001b[0mdatum\u001b[0m\u001b[0;34m]\u001b[0m\u001b[0;34m,\u001b[0m \u001b[0;34m**\u001b[0m\u001b[0mkwargs\u001b[0m\u001b[0;34m)\u001b[0m\u001b[0;34m)\u001b[0m\u001b[0;34m\u001b[0m\u001b[0;34m\u001b[0m\u001b[0m\n\u001b[0m\u001b[1;32m    496\u001b[0m \u001b[0;34m\u001b[0m\u001b[0m\n\u001b[1;32m    497\u001b[0m \u001b[0;34m\u001b[0m\u001b[0m\n",
      "\u001b[0;32m~/miniconda3/envs/probrobnlp/lib/python3.9/site-packages/delphin/ace.py\u001b[0m in \u001b[0;36mparse_from_iterable\u001b[0;34m(grm, data, **kwargs)\u001b[0m\n\u001b[1;32m    472\u001b[0m         \u001b[0mNOTE\u001b[0m\u001b[0;34m:\u001b[0m \u001b[0mparsed\u001b[0m \u001b[0;36m2\u001b[0m \u001b[0;34m/\u001b[0m \u001b[0;36m2\u001b[0m \u001b[0msentences\u001b[0m\u001b[0;34m,\u001b[0m \u001b[0mavg\u001b[0m \u001b[0;36m723\u001b[0m\u001b[0mk\u001b[0m\u001b[0;34m,\u001b[0m \u001b[0mtime\u001b[0m \u001b[0;36m0.01026\u001b[0m\u001b[0ms\u001b[0m\u001b[0;34m\u001b[0m\u001b[0;34m\u001b[0m\u001b[0m\n\u001b[1;32m    473\u001b[0m     \"\"\"\n\u001b[0;32m--> 474\u001b[0;31m     \u001b[0;32mwith\u001b[0m \u001b[0mACEParser\u001b[0m\u001b[0;34m(\u001b[0m\u001b[0mgrm\u001b[0m\u001b[0;34m,\u001b[0m \u001b[0;34m**\u001b[0m\u001b[0mkwargs\u001b[0m\u001b[0;34m)\u001b[0m \u001b[0;32mas\u001b[0m \u001b[0mparser\u001b[0m\u001b[0;34m:\u001b[0m\u001b[0;34m\u001b[0m\u001b[0;34m\u001b[0m\u001b[0m\n\u001b[0m\u001b[1;32m    475\u001b[0m         \u001b[0;32mfor\u001b[0m \u001b[0mdatum\u001b[0m \u001b[0;32min\u001b[0m \u001b[0mdata\u001b[0m\u001b[0;34m:\u001b[0m\u001b[0;34m\u001b[0m\u001b[0;34m\u001b[0m\u001b[0m\n\u001b[1;32m    476\u001b[0m             \u001b[0;32myield\u001b[0m \u001b[0mparser\u001b[0m\u001b[0;34m.\u001b[0m\u001b[0minteract\u001b[0m\u001b[0;34m(\u001b[0m\u001b[0mdatum\u001b[0m\u001b[0;34m)\u001b[0m\u001b[0;34m\u001b[0m\u001b[0;34m\u001b[0m\u001b[0m\n",
      "\u001b[0;32m~/miniconda3/envs/probrobnlp/lib/python3.9/site-packages/delphin/ace.py\u001b[0m in \u001b[0;36m__init__\u001b[0;34m(self, grm, cmdargs, executable, env, tsdbinfo, full_forest, stderr)\u001b[0m\n\u001b[1;32m    108\u001b[0m         \u001b[0mself\u001b[0m\u001b[0;34m.\u001b[0m\u001b[0mrun_infos\u001b[0m\u001b[0;34m:\u001b[0m \u001b[0mList\u001b[0m\u001b[0;34m[\u001b[0m\u001b[0mDict\u001b[0m\u001b[0;34m[\u001b[0m\u001b[0mstr\u001b[0m\u001b[0;34m,\u001b[0m \u001b[0mAny\u001b[0m\u001b[0;34m]\u001b[0m\u001b[0;34m]\u001b[0m \u001b[0;34m=\u001b[0m \u001b[0;34m[\u001b[0m\u001b[0;34m]\u001b[0m\u001b[0;34m\u001b[0m\u001b[0;34m\u001b[0m\u001b[0m\n\u001b[1;32m    109\u001b[0m         \u001b[0mself\u001b[0m\u001b[0;34m.\u001b[0m\u001b[0m_stderr\u001b[0m \u001b[0;34m=\u001b[0m \u001b[0mstderr\u001b[0m\u001b[0;34m\u001b[0m\u001b[0;34m\u001b[0m\u001b[0m\n\u001b[0;32m--> 110\u001b[0;31m         \u001b[0mself\u001b[0m\u001b[0;34m.\u001b[0m\u001b[0m_open\u001b[0m\u001b[0;34m(\u001b[0m\u001b[0;34m)\u001b[0m\u001b[0;34m\u001b[0m\u001b[0;34m\u001b[0m\u001b[0m\n\u001b[0m\u001b[1;32m    111\u001b[0m \u001b[0;34m\u001b[0m\u001b[0m\n\u001b[1;32m    112\u001b[0m     \u001b[0;34m@\u001b[0m\u001b[0mproperty\u001b[0m\u001b[0;34m\u001b[0m\u001b[0;34m\u001b[0m\u001b[0m\n",
      "\u001b[0;32m~/miniconda3/envs/probrobnlp/lib/python3.9/site-packages/delphin/ace.py\u001b[0m in \u001b[0;36m_open\u001b[0;34m(self)\u001b[0m\n\u001b[1;32m    141\u001b[0m         })\n\u001b[1;32m    142\u001b[0m         \u001b[0;32mif\u001b[0m \u001b[0mself\u001b[0m\u001b[0;34m.\u001b[0m\u001b[0m_p\u001b[0m\u001b[0;34m.\u001b[0m\u001b[0mpoll\u001b[0m\u001b[0;34m(\u001b[0m\u001b[0;34m)\u001b[0m \u001b[0;32mis\u001b[0m \u001b[0;32mnot\u001b[0m \u001b[0;32mNone\u001b[0m \u001b[0;32mand\u001b[0m \u001b[0mself\u001b[0m\u001b[0;34m.\u001b[0m\u001b[0m_p\u001b[0m\u001b[0;34m.\u001b[0m\u001b[0mreturncode\u001b[0m \u001b[0;34m!=\u001b[0m \u001b[0;36m0\u001b[0m\u001b[0;34m:\u001b[0m\u001b[0;34m\u001b[0m\u001b[0;34m\u001b[0m\u001b[0m\n\u001b[0;32m--> 143\u001b[0;31m             \u001b[0;32mraise\u001b[0m \u001b[0mACEProcessError\u001b[0m\u001b[0;34m(\u001b[0m\u001b[0;34m\"ACE process closed on startup\"\u001b[0m\u001b[0;34m)\u001b[0m\u001b[0;34m\u001b[0m\u001b[0;34m\u001b[0m\u001b[0m\n\u001b[0m\u001b[1;32m    144\u001b[0m \u001b[0;34m\u001b[0m\u001b[0m\n\u001b[1;32m    145\u001b[0m     \u001b[0;32mdef\u001b[0m \u001b[0m__enter__\u001b[0m\u001b[0;34m(\u001b[0m\u001b[0mself\u001b[0m\u001b[0;34m)\u001b[0m\u001b[0;34m:\u001b[0m\u001b[0;34m\u001b[0m\u001b[0;34m\u001b[0m\u001b[0m\n",
      "\u001b[0;31mACEProcessError\u001b[0m: ACE process closed on startup"
     ]
    }
   ],
   "source": [
    "\n",
    "grm = '/Users/mattiasappelgren/Desktop/ace-0.9.30/erg-2018-osx-0.9.31.dat'\n",
    "response = ace.parse(grm, 'Add three cups')"
   ]
  },
  {
   "cell_type": "code",
   "execution_count": 3,
   "id": "d5a601d4-78da-4e23-9cb3-e85f67a35a20",
   "metadata": {},
   "outputs": [
    {
     "ename": "ACEProcessError",
     "evalue": "ACE process closed on startup",
     "output_type": "error",
     "traceback": [
      "\u001b[0;31m---------------------------------------------------------------------------\u001b[0m",
      "\u001b[0;31mACEProcessError\u001b[0m                           Traceback (most recent call last)",
      "\u001b[0;32m<ipython-input-3-df8e1a808a95>\u001b[0m in \u001b[0;36m<module>\u001b[0;34m\u001b[0m\n\u001b[0;32m----> 1\u001b[0;31m \u001b[0;32mwith\u001b[0m \u001b[0mace\u001b[0m\u001b[0;34m.\u001b[0m\u001b[0mACEParser\u001b[0m\u001b[0;34m(\u001b[0m\u001b[0;34m'/Users/mattiasappelgren/Desktop/ace-0.9.30/erg-2018-osx-0.9.31.dat'\u001b[0m\u001b[0;34m)\u001b[0m \u001b[0;32mas\u001b[0m \u001b[0mparser\u001b[0m\u001b[0;34m:\u001b[0m\u001b[0;34m\u001b[0m\u001b[0;34m\u001b[0m\u001b[0m\n\u001b[0m\u001b[1;32m      2\u001b[0m     \u001b[0mprint\u001b[0m\u001b[0;34m(\u001b[0m\u001b[0;34m)\u001b[0m\u001b[0;34m\u001b[0m\u001b[0;34m\u001b[0m\u001b[0m\n",
      "\u001b[0;32m~/miniconda3/envs/probrobnlp/lib/python3.9/site-packages/delphin/ace.py\u001b[0m in \u001b[0;36m__init__\u001b[0;34m(self, grm, cmdargs, executable, env, tsdbinfo, full_forest, stderr)\u001b[0m\n\u001b[1;32m    108\u001b[0m         \u001b[0mself\u001b[0m\u001b[0;34m.\u001b[0m\u001b[0mrun_infos\u001b[0m\u001b[0;34m:\u001b[0m \u001b[0mList\u001b[0m\u001b[0;34m[\u001b[0m\u001b[0mDict\u001b[0m\u001b[0;34m[\u001b[0m\u001b[0mstr\u001b[0m\u001b[0;34m,\u001b[0m \u001b[0mAny\u001b[0m\u001b[0;34m]\u001b[0m\u001b[0;34m]\u001b[0m \u001b[0;34m=\u001b[0m \u001b[0;34m[\u001b[0m\u001b[0;34m]\u001b[0m\u001b[0;34m\u001b[0m\u001b[0;34m\u001b[0m\u001b[0m\n\u001b[1;32m    109\u001b[0m         \u001b[0mself\u001b[0m\u001b[0;34m.\u001b[0m\u001b[0m_stderr\u001b[0m \u001b[0;34m=\u001b[0m \u001b[0mstderr\u001b[0m\u001b[0;34m\u001b[0m\u001b[0;34m\u001b[0m\u001b[0m\n\u001b[0;32m--> 110\u001b[0;31m         \u001b[0mself\u001b[0m\u001b[0;34m.\u001b[0m\u001b[0m_open\u001b[0m\u001b[0;34m(\u001b[0m\u001b[0;34m)\u001b[0m\u001b[0;34m\u001b[0m\u001b[0;34m\u001b[0m\u001b[0m\n\u001b[0m\u001b[1;32m    111\u001b[0m \u001b[0;34m\u001b[0m\u001b[0m\n\u001b[1;32m    112\u001b[0m     \u001b[0;34m@\u001b[0m\u001b[0mproperty\u001b[0m\u001b[0;34m\u001b[0m\u001b[0;34m\u001b[0m\u001b[0m\n",
      "\u001b[0;32m~/miniconda3/envs/probrobnlp/lib/python3.9/site-packages/delphin/ace.py\u001b[0m in \u001b[0;36m_open\u001b[0;34m(self)\u001b[0m\n\u001b[1;32m    141\u001b[0m         })\n\u001b[1;32m    142\u001b[0m         \u001b[0;32mif\u001b[0m \u001b[0mself\u001b[0m\u001b[0;34m.\u001b[0m\u001b[0m_p\u001b[0m\u001b[0;34m.\u001b[0m\u001b[0mpoll\u001b[0m\u001b[0;34m(\u001b[0m\u001b[0;34m)\u001b[0m \u001b[0;32mis\u001b[0m \u001b[0;32mnot\u001b[0m \u001b[0;32mNone\u001b[0m \u001b[0;32mand\u001b[0m \u001b[0mself\u001b[0m\u001b[0;34m.\u001b[0m\u001b[0m_p\u001b[0m\u001b[0;34m.\u001b[0m\u001b[0mreturncode\u001b[0m \u001b[0;34m!=\u001b[0m \u001b[0;36m0\u001b[0m\u001b[0;34m:\u001b[0m\u001b[0;34m\u001b[0m\u001b[0;34m\u001b[0m\u001b[0m\n\u001b[0;32m--> 143\u001b[0;31m             \u001b[0;32mraise\u001b[0m \u001b[0mACEProcessError\u001b[0m\u001b[0;34m(\u001b[0m\u001b[0;34m\"ACE process closed on startup\"\u001b[0m\u001b[0;34m)\u001b[0m\u001b[0;34m\u001b[0m\u001b[0;34m\u001b[0m\u001b[0m\n\u001b[0m\u001b[1;32m    144\u001b[0m \u001b[0;34m\u001b[0m\u001b[0m\n\u001b[1;32m    145\u001b[0m     \u001b[0;32mdef\u001b[0m \u001b[0m__enter__\u001b[0m\u001b[0;34m(\u001b[0m\u001b[0mself\u001b[0m\u001b[0;34m)\u001b[0m\u001b[0;34m:\u001b[0m\u001b[0;34m\u001b[0m\u001b[0;34m\u001b[0m\u001b[0m\n",
      "\u001b[0;31mACEProcessError\u001b[0m: ACE process closed on startup"
     ]
    }
   ],
   "source": [
    "with ace.ACEParser('/Users/mattiasappelgren/Desktop/ace-0.9.30/erg-2018-osx-0.9.31.dat') as parser: \n",
    "    print()"
   ]
  },
  {
   "cell_type": "code",
   "execution_count": 87,
   "id": "44f1b3d4-fdb0-47d3-856d-9caab7142d10",
   "metadata": {},
   "outputs": [],
   "source": [
    "mrs = response.result(0).mrs()"
   ]
  },
  {
   "cell_type": "code",
   "execution_count": 82,
   "id": "f6c8478e-ee8a-4d50-80ef-7fb9088c6f86",
   "metadata": {},
   "outputs": [
    {
     "data": {
      "text/plain": [
       "{'ARG0': 'x3', 'RSTR': 'h5', 'BODY': 'h6'}"
      ]
     },
     "execution_count": 82,
     "metadata": {},
     "output_type": "execute_result"
    }
   ],
   "source": [
    "mrs.predications[0].args"
   ]
  },
  {
   "cell_type": "code",
   "execution_count": 85,
   "id": "d38bbe8f-4d52-4d70-ae5f-3fe52433e5eb",
   "metadata": {},
   "outputs": [
    {
     "data": {
      "text/plain": [
       "[<EP object (h4:pronoun_q(ARG0 x3, RSTR h5, BODY h6)) at 139884642792160>,\n",
       " <EP object (h7:pron(ARG0 x3)) at 139884642792256>,\n",
       " <EP object (h1:_add_v_to(ARG0 e2, ARG1 x3, ARG2 x8)) at 139884642791584>,\n",
       " <EP object (h9:udef_q(ARG0 x8, RSTR h10, BODY h11)) at 139884642792448>,\n",
       " <EP object (h12:card(CARG 3, ARG0 e14, ARG1 x8)) at 139884642792544>,\n",
       " <EP object (h12:_cup_n_1(ARG0 x8)) at 139884642792640>]"
      ]
     },
     "execution_count": 85,
     "metadata": {},
     "output_type": "execute_result"
    }
   ],
   "source": [
    "mrs.predications"
   ]
  },
  {
   "cell_type": "code",
   "execution_count": 79,
   "id": "943b1067-b431-43db-8471-f875bbb0de23",
   "metadata": {},
   "outputs": [
    {
     "data": {
      "text/plain": [
       "[<EP object (h4:pronoun_q(ARG0 x3, RSTR h5, BODY h6)) at 139884642792160>,\n",
       " <EP object (h7:pron(ARG0 x3)) at 139884642792256>,\n",
       " <EP object (h1:_add_v_to(ARG0 e2, ARG1 x3, ARG2 x8)) at 139884642791584>,\n",
       " <EP object (h9:udef_q(ARG0 x8, RSTR h10, BODY h11)) at 139884642792448>,\n",
       " <EP object (h12:card(CARG 3, ARG0 e14, ARG1 x8)) at 139884642792544>,\n",
       " <EP object (h12:_cup_n_1(ARG0 x8)) at 139884642792640>]"
      ]
     },
     "execution_count": 79,
     "metadata": {},
     "output_type": "execute_result"
    }
   ],
   "source": [
    "mrs.rels"
   ]
  },
  {
   "cell_type": "code",
   "execution_count": 21,
   "id": "577bc779-73d3-4f2f-a886-eb42e0d95ac5",
   "metadata": {},
   "outputs": [],
   "source": [
    "sentence_dmrs = dmrs.from_mrs(mrs)"
   ]
  },
  {
   "cell_type": "code",
   "execution_count": 27,
   "id": "9351aa0d-133a-4e11-9df2-c8b1ea410aa3",
   "metadata": {},
   "outputs": [
    {
     "data": {
      "text/plain": [
       "{10000: [('RSTR', 10001)],\n",
       " 10001: [],\n",
       " 10002: [('ARG1', 10001), ('ARG2', 10005)],\n",
       " 10003: [('RSTR', 10005)],\n",
       " 10004: [('ARG1', 10005)],\n",
       " 10005: []}"
      ]
     },
     "execution_count": 27,
     "metadata": {},
     "output_type": "execute_result"
    }
   ],
   "source": [
    "sentence_dmrs.arguments()"
   ]
  },
  {
   "cell_type": "code",
   "execution_count": 34,
   "id": "c07db1ab-021b-4338-9a70-cd87d218fdc5",
   "metadata": {},
   "outputs": [
    {
     "data": {
      "text/plain": [
       "False"
      ]
     },
     "execution_count": 34,
     "metadata": {},
     "output_type": "execute_result"
    }
   ],
   "source": [
    "sentence_dmrs.is_quantifier(1005)"
   ]
  },
  {
   "cell_type": "code",
   "execution_count": 39,
   "id": "648614c5-6422-44dd-a862-66b492e6b66d",
   "metadata": {},
   "outputs": [
    {
     "name": "stdout",
     "output_type": "stream",
     "text": [
      "{}\n",
      "{'PERS': '2', 'PT': 'zero'}\n",
      "{'SF': 'comm', 'TENSE': 'pres', 'MOOD': 'indicative', 'PROG': '-', 'PERF': '-'}\n",
      "{}\n",
      "{'SF': 'prop', 'TENSE': 'untensed', 'MOOD': 'indicative', 'PROG': '-', 'PERF': '-'}\n",
      "{'PERS': '3', 'NUM': 'pl', 'IND': '+'}\n"
     ]
    }
   ],
   "source": [
    "for id_ in sentence_dmrs.arguments().keys():\n",
    "    print(sentence_dmrs.properties(id_))"
   ]
  },
  {
   "cell_type": "code",
   "execution_count": 40,
   "id": "23a9e133-5c0e-4c2a-ae5a-065272519a42",
   "metadata": {},
   "outputs": [
    {
     "data": {
      "text/plain": [
       "[(<Node object (10001:pron<0:14>[x]) at 139884642795232>,\n",
       "  <Node object (10000:pronoun_q<0:14>[?]) at 139884642794944>),\n",
       " (<Node object (10002:_add_v_to<0:3>[e]) at 139884642795328>, None),\n",
       " (<Node object (10004:card<4:9>[e]) at 139884640059456>, None),\n",
       " (<Node object (10005:_cup_n_1<10:14>[x]) at 139884640059552>,\n",
       "  <Node object (10003:udef_q<4:14>[?]) at 139884642795424>)]"
      ]
     },
     "execution_count": 40,
     "metadata": {},
     "output_type": "execute_result"
    }
   ],
   "source": [
    "sentence_dmrs.quantification_pairs()"
   ]
  },
  {
   "cell_type": "code",
   "execution_count": 41,
   "id": "274f5d4f-bcbd-4426-ab5c-3c3525c16d2c",
   "metadata": {},
   "outputs": [
    {
     "data": {
      "text/plain": [
       "{10000: [('RSTR', 'qeq', 10001)],\n",
       " 10001: [],\n",
       " 10002: [],\n",
       " 10003: [('RSTR', 'qeq', 10005)],\n",
       " 10004: [],\n",
       " 10005: []}"
      ]
     },
     "execution_count": 41,
     "metadata": {},
     "output_type": "execute_result"
    }
   ],
   "source": [
    "sentence_dmrs.scopal_arguments()"
   ]
  },
  {
   "cell_type": "code",
   "execution_count": 42,
   "id": "f58eb2c8-171b-4d0e-803b-b1fc89493a7e",
   "metadata": {},
   "outputs": [
    {
     "data": {
      "text/plain": [
       "('h3',\n",
       " {'h1': [<Node object (10000:pronoun_q<0:14>[?]) at 139884642794944>],\n",
       "  'h2': [<Node object (10001:pron<0:14>[x]) at 139884642795232>],\n",
       "  'h3': [<Node object (10002:_add_v_to<0:3>[e]) at 139884642795328>],\n",
       "  'h4': [<Node object (10003:udef_q<4:14>[?]) at 139884642795424>],\n",
       "  'h6': [<Node object (10005:_cup_n_1<10:14>[x]) at 139884640059552>,\n",
       "   <Node object (10004:card<4:9>[e]) at 139884640059456>]})"
      ]
     },
     "execution_count": 42,
     "metadata": {},
     "output_type": "execute_result"
    }
   ],
   "source": [
    "sentence_dmrs.scopes()"
   ]
  },
  {
   "cell_type": "code",
   "execution_count": 43,
   "id": "bfd17bf6-521e-4b6e-86ca-32b6d5de7cba",
   "metadata": {},
   "outputs": [],
   "source": [
    "top, scopes = sentence_dmrs.scopes()"
   ]
  },
  {
   "cell_type": "code",
   "execution_count": 46,
   "id": "0ca4582f-bb08-4d54-b25d-74ef6773bb47",
   "metadata": {},
   "outputs": [],
   "source": [
    "top_node = scopes[top][0]"
   ]
  },
  {
   "cell_type": "code",
   "execution_count": 48,
   "id": "09efc18c-711d-4e4d-8a8f-954afb669b03",
   "metadata": {},
   "outputs": [
    {
     "data": {
      "text/plain": [
       "'_add_v_to'"
      ]
     },
     "execution_count": 48,
     "metadata": {},
     "output_type": "execute_result"
    }
   ],
   "source": [
    "top_node.predicate"
   ]
  },
  {
   "cell_type": "code",
   "execution_count": 56,
   "id": "4a206ab6-a82c-47a6-a07f-5591b28402d6",
   "metadata": {},
   "outputs": [],
   "source": [
    "link = top_node.lnk"
   ]
  },
  {
   "cell_type": "code",
   "execution_count": 67,
   "id": "5aaad133-aa7e-4c2d-b4fd-fe9eac3af2d4",
   "metadata": {},
   "outputs": [
    {
     "name": "stdout",
     "output_type": "stream",
     "text": [
      "10002\n",
      "10001\n"
     ]
    }
   ],
   "source": [
    "print(sentence_dmrs.links[1].start)\n",
    "print(sentence_dmrs.links[1].end)"
   ]
  },
  {
   "cell_type": "code",
   "execution_count": 69,
   "id": "791362f7-5585-4fa4-913a-cdb6f4030440",
   "metadata": {},
   "outputs": [
    {
     "data": {
      "text/plain": [
       "[<Node object (10000:pronoun_q<0:14>[?]) at 139884642794944>,\n",
       " <Node object (10001:pron<0:14>[x]) at 139884642795232>,\n",
       " <Node object (10002:_add_v_to<0:3>[e]) at 139884642795328>,\n",
       " <Node object (10003:udef_q<4:14>[?]) at 139884642795424>,\n",
       " <Node object (10004:card<4:9>[e]) at 139884640059456>,\n",
       " <Node object (10005:_cup_n_1<10:14>[x]) at 139884640059552>]"
      ]
     },
     "execution_count": 69,
     "metadata": {},
     "output_type": "execute_result"
    }
   ],
   "source": [
    "sentence_dmrs.predications"
   ]
  },
  {
   "cell_type": "code",
   "execution_count": null,
   "id": "520ff435-4e5c-4cc7-a6b7-1878536f219f",
   "metadata": {},
   "outputs": [],
   "source": []
  }
 ],
 "metadata": {
  "kernelspec": {
   "display_name": "Python 3",
   "language": "python",
   "name": "python3"
  },
  "language_info": {
   "codemirror_mode": {
    "name": "ipython",
    "version": 3
   },
   "file_extension": ".py",
   "mimetype": "text/x-python",
   "name": "python",
   "nbconvert_exporter": "python",
   "pygments_lexer": "ipython3",
   "version": "3.9.5"
  }
 },
 "nbformat": 4,
 "nbformat_minor": 5
}
