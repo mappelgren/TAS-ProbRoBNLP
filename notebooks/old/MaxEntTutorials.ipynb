{
 "cells": [
  {
   "cell_type": "code",
   "execution_count": 3,
   "id": "6e8e3175-5755-41b6-ab6e-574c973c3be5",
   "metadata": {},
   "outputs": [
    {
     "ename": "ModuleNotFoundError",
     "evalue": "No module named 'scipy.maxentropy'",
     "output_type": "error",
     "traceback": [
      "\u001b[0;31m---------------------------------------------------------------------------\u001b[0m",
      "\u001b[0;31mModuleNotFoundError\u001b[0m                       Traceback (most recent call last)",
      "\u001b[0;32m<ipython-input-3-2b5154b6874c>\u001b[0m in \u001b[0;36m<module>\u001b[0;34m\u001b[0m\n\u001b[0;32m----> 1\u001b[0;31m \u001b[0;32mfrom\u001b[0m \u001b[0mscipy\u001b[0m\u001b[0;34m.\u001b[0m\u001b[0mmaxentropy\u001b[0m \u001b[0;32mimport\u001b[0m \u001b[0mmodel\u001b[0m\u001b[0;34m\u001b[0m\u001b[0;34m\u001b[0m\u001b[0m\n\u001b[0m",
      "\u001b[0;31mModuleNotFoundError\u001b[0m: No module named 'scipy.maxentropy'"
     ]
    }
   ],
   "source": [
    "from scipy.maxentropy import model"
   ]
  },
  {
   "cell_type": "code",
   "execution_count": 2,
   "id": "9db8d5b6-587c-4174-a2aa-ff3874ad9729",
   "metadata": {},
   "outputs": [],
   "source": [
    "import scipy"
   ]
  },
  {
   "cell_type": "code",
   "execution_count": 5,
   "id": "356b6787-4020-4832-b537-9406b2ece428",
   "metadata": {},
   "outputs": [],
   "source": [
    "%matplotlib inline\n",
    "import numpy as np\n",
    "import seaborn as sns\n",
    "import matplotlib.pyplot as plt\n",
    "import maxentropy"
   ]
  },
  {
   "cell_type": "code",
   "execution_count": 38,
   "id": "585beb42-1f5a-431e-af8d-2af4dc155682",
   "metadata": {},
   "outputs": [],
   "source": [
    "s = np.arange(6) + 1\n",
    "\n",
    "def f0(x):\n",
    "    return x\n",
    "\n",
    "f = [f0]"
   ]
  },
  {
   "cell_type": "code",
   "execution_count": 39,
   "id": "51f59f9d-b4d2-4acb-978b-3658504c0b1f",
   "metadata": {},
   "outputs": [],
   "source": [
    "model = maxentropy.Model(f, s)\n",
    "model.verbose = True"
   ]
  },
  {
   "cell_type": "code",
   "execution_count": 40,
   "id": "d08a210c-b3be-4fbe-a3c3-4ee7fd64a27e",
   "metadata": {},
   "outputs": [
    {
     "data": {
      "text/plain": [
       "1e-07"
      ]
     },
     "execution_count": 40,
     "metadata": {},
     "output_type": "execute_result"
    }
   ],
   "source": [
    "model.avegtol"
   ]
  },
  {
   "cell_type": "code",
   "execution_count": 43,
   "id": "b6fd1a2f-e330-430e-97b5-459d3305807f",
   "metadata": {},
   "outputs": [
    {
     "name": "stdout",
     "output_type": "stream",
     "text": [
      "Function eval # 141\n",
      "  dual is  1.9846300362256937\n",
      "Grad eval #136\n",
      "  norm of gradient = 0.9999999999789289\n",
      "Function eval # 142\n",
      "  dual is  2.3108919057604806\n",
      "Grad eval #137\n",
      "  norm of gradient = 1.499020847105169\n",
      "Function eval # 143\n",
      "  dual is  1.792014928388545\n",
      "Grad eval #138\n",
      "  norm of gradient = 0.03859970217618525\n",
      "Iteration # 4\n",
      "Function eval # 144\n",
      "  dual is  1.792014928388545\n",
      "Function eval # 145\n",
      "  dual is  1.7926974829977853\n",
      "Grad eval #139\n",
      "  norm of gradient = 0.07394925987742873\n",
      "Function eval # 146\n",
      "  dual is  1.7917594692303505\n",
      "Grad eval #140\n",
      "  norm of gradient = 3.6592105518984397e-06\n",
      "Iteration # 5\n",
      "Function eval # 147\n",
      "  dual is  1.7917594692303505\n",
      "Function eval # 148\n",
      "  dual is  1.7917594692364875\n",
      "Grad eval #141\n",
      "  norm of gradient = 7.013486891249698e-06\n",
      "Function eval # 149\n",
      "  dual is  1.7917594692280552\n",
      "Grad eval #142\n",
      "  norm of gradient = 3.2934099891690494e-11\n",
      "Iteration # 6\n",
      "Function eval # 150\n",
      "  dual is  1.7917594692280552\n",
      "Optimization terminated successfully.\n",
      "         Current function value: 1.791759\n",
      "         Iterations: 3\n",
      "         Function evaluations: 7\n",
      "         Gradient evaluations: 7\n"
     ]
    }
   ],
   "source": [
    "# Now set the desired feature expectations\n",
    "K = [3.5]\n",
    "\n",
    "# Fit the model\n",
    "model.fit(K)"
   ]
  },
  {
   "cell_type": "code",
   "execution_count": 44,
   "id": "b094cfc5-8d8f-4c0c-812f-50d545a3782d",
   "metadata": {},
   "outputs": [
    {
     "data": {
      "text/plain": [
       "array([1.12918571e-11])"
      ]
     },
     "execution_count": 44,
     "metadata": {},
     "output_type": "execute_result"
    }
   ],
   "source": [
    "model.params"
   ]
  },
  {
   "cell_type": "code",
   "execution_count": 45,
   "id": "68b4f553-a14e-431b-8da8-c142b69a5b7f",
   "metadata": {},
   "outputs": [
    {
     "name": "stdout",
     "output_type": "stream",
     "text": [
      "\n",
      "Fitted model parameters are:\n",
      "[1.12918571e-11]\n",
      "The fitted distribution is:\n",
      "\tx = 1               \tp(x) = 0.1667\n",
      "\tx = 2               \tp(x) = 0.1667\n",
      "\tx = 3               \tp(x) = 0.1667\n",
      "\tx = 4               \tp(x) = 0.1667\n",
      "\tx = 5               \tp(x) = 0.1667\n",
      "\tx = 6               \tp(x) = 0.1667\n"
     ]
    }
   ],
   "source": [
    "print(\"\\nFitted model parameters are:\\n\" + str(model.params))\n",
    "print(\"The fitted distribution is:\")\n",
    "model.showdist()"
   ]
  },
  {
   "cell_type": "code",
   "execution_count": 30,
   "id": "1f7f0838-a598-46b7-b5bd-98556a9baf25",
   "metadata": {},
   "outputs": [
    {
     "name": "stdout",
     "output_type": "stream",
     "text": [
      "\n",
      "Desired constraints:\n",
      "\tE(X) = 4.5\n",
      "\n",
      "Actual expectations under the fitted model:\n",
      "\t\\hat{X} =  [1.5]\n"
     ]
    }
   ],
   "source": [
    "print()\n",
    "print(\"Desired constraints:\")\n",
    "print(\"\\tE(X) = 4.5\")\n",
    "print()\n",
    "print(\"Actual expectations under the fitted model:\")\n",
    "print(\"\\t\\hat{X} = \", model.expectations())"
   ]
  },
  {
   "cell_type": "code",
   "execution_count": 31,
   "id": "e08ea62f-75c1-4e46-bc73-54ecb04150c6",
   "metadata": {},
   "outputs": [
    {
     "data": {
      "text/plain": [
       "True"
      ]
     },
     "execution_count": 31,
     "metadata": {},
     "output_type": "execute_result"
    }
   ],
   "source": [
    "np.allclose(K, model.expectations())"
   ]
  },
  {
   "cell_type": "code",
   "execution_count": 32,
   "id": "2f6b08b6-7d88-4046-b567-a40baaf422f0",
   "metadata": {},
   "outputs": [
    {
     "data": {
      "text/plain": [
       "array([-1.08696375])"
      ]
     },
     "execution_count": 32,
     "metadata": {},
     "output_type": "execute_result"
    }
   ],
   "source": [
    "model.params"
   ]
  },
  {
   "cell_type": "code",
   "execution_count": 33,
   "id": "92f4a691-de7d-4f0f-83af-0fdce6b90efd",
   "metadata": {},
   "outputs": [
    {
     "data": {
      "text/plain": [
       "array([0.6637375 , 0.22383809, 0.07548691, 0.02545712, 0.00858513,\n",
       "       0.00289524])"
      ]
     },
     "execution_count": 33,
     "metadata": {},
     "output_type": "execute_result"
    }
   ],
   "source": [
    "model.probdist()"
   ]
  },
  {
   "cell_type": "code",
   "execution_count": 34,
   "id": "849d883a-9d2b-4079-a54d-0740f2dda569",
   "metadata": {},
   "outputs": [
    {
     "name": "stderr",
     "output_type": "stream",
     "text": [
      "/Users/mattiasappelgren/miniconda3/envs/probrobnlp/lib/python3.9/site-packages/seaborn/_decorators.py:36: FutureWarning: Pass the following variables as keyword args: x, y. From version 0.12, the only valid positional argument will be `data`, and passing other arguments without an explicit keyword will result in an error or misinterpretation.\n",
      "  warnings.warn(\n"
     ]
    },
    {
     "data": {
      "text/plain": [
       "Text(0.5, 1.0, 'Probability $p(x)$ of each die face $x$')"
      ]
     },
     "execution_count": 34,
     "metadata": {},
     "output_type": "execute_result"
    },
    {
     "data": {
      "image/png": "[encoded data removed]",
      "text/plain": [
       "<Figure size 432x288 with 1 Axes>"
      ]
     },
     "metadata": {
      "needs_background": "light"
     },
     "output_type": "display_data"
    }
   ],
   "source": [
    "sns.barplot(np.arange(1, 7), model.probdist())\n",
    "plt.title('Probability $p(x)$ of each die face $x$')"
   ]
  },
  {
   "cell_type": "code",
   "execution_count": 26,
   "id": "9a0c3406-e0a9-4b25-8971-ce5f38f8032e",
   "metadata": {},
   "outputs": [
    {
     "data": {
      "text/plain": [
       "array([1, 2, 3, 4, 5, 6])"
      ]
     },
     "execution_count": 26,
     "metadata": {},
     "output_type": "execute_result"
    }
   ],
   "source": [
    "samplespace"
   ]
  },
  {
   "cell_type": "code",
   "execution_count": 46,
   "id": "a8188e27-80b6-44af-8303-413fd0b78245",
   "metadata": {},
   "outputs": [],
   "source": [
    "import numpy as np\n",
    "from sklearn.preprocessing import FunctionTransformer\n",
    "from sklearn.pipeline import make_pipeline"
   ]
  },
  {
   "cell_type": "code",
   "execution_count": 47,
   "id": "3d37bf09-9c0e-427b-983e-90a57816f019",
   "metadata": {},
   "outputs": [],
   "source": [
    "from itertools import product\n",
    "\n",
    "samplespace = list(product(['left-handed', 'right-handed'], ['blue-eyed', 'green-eyed']))"
   ]
  },
  {
   "cell_type": "code",
   "execution_count": 49,
   "id": "3ae2856c-62c0-40c3-90d5-96e1affed9a8",
   "metadata": {},
   "outputs": [
    {
     "data": {
      "text/plain": [
       "[('left-handed', 'blue-eyed'),\n",
       " ('left-handed', 'green-eyed'),\n",
       " ('right-handed', 'blue-eyed'),\n",
       " ('right-handed', 'green-eyed')]"
      ]
     },
     "execution_count": 49,
     "metadata": {},
     "output_type": "execute_result"
    }
   ],
   "source": [
    "samplespace"
   ]
  },
  {
   "cell_type": "code",
   "execution_count": 50,
   "id": "963c4bfe-43f5-4a20-8d92-57878e1cd8c2",
   "metadata": {},
   "outputs": [],
   "source": [
    "def f0(x):\n",
    "    return x in samplespace\n",
    "\n",
    "def f1(x):\n",
    "    return x[1] == 'blue-eyed'\n",
    "\n",
    "def f2(x):\n",
    "    return x[0] == 'left-handed'\n",
    "\n",
    "f = [f0, f1, f2]\n",
    "\n",
    "# Now set the desired feature expectations\n",
    "K = [1., 1./3, 1./4]"
   ]
  },
  {
   "cell_type": "code",
   "execution_count": 70,
   "id": "8c56e8f5-a21c-470d-8d70-4919bf31d89d",
   "metadata": {},
   "outputs": [],
   "source": [
    "model = maxentropy.Model(f, samplespace, vectorized=False)\n",
    "model.verbose = True"
   ]
  },
  {
   "cell_type": "code",
   "execution_count": 71,
   "id": "b6d2faed-e1e4-4ffc-9023-f7bc17e1e803",
   "metadata": {},
   "outputs": [
    {
     "name": "stdout",
     "output_type": "stream",
     "text": [
      "Function eval # 0\n",
      "  dual is  1.3862943611198906\n",
      "Grad eval #0\n",
      "  norm of gradient = 0.3004626062886658\n",
      "Function eval # 1\n",
      "  dual is  1.3072770335340367\n",
      "Grad eval #1\n",
      "  norm of gradient = 0.22566949712627374\n",
      "Function eval # 2\n",
      "  dual is  1.199377068150267\n",
      "Grad eval #2\n",
      "  norm of gradient = 0.01426250945857896\n",
      "Iteration # 0\n",
      "Function eval # 3\n",
      "  dual is  1.199377068150267\n",
      "Function eval # 4\n",
      "  dual is  1.1991934428962512\n",
      "Grad eval #3\n",
      "  norm of gradient = 0.011490042511728577\n",
      "Function eval # 5\n",
      "  dual is  1.1988505019969886\n",
      "Grad eval #4\n",
      "  norm of gradient = 0.0006753103915259268\n",
      "Iteration # 1\n",
      "Function eval # 6\n",
      "  dual is  1.1988505019969886\n",
      "Function eval # 7\n",
      "  dual is  1.1988500898416308\n",
      "Grad eval #5\n",
      "  norm of gradient = 0.0005453929276967377\n",
      "Function eval # 8\n",
      "  dual is  1.19884931862867\n",
      "Grad eval #6\n",
      "  norm of gradient = 4.756860613626983e-05\n",
      "Iteration # 2\n",
      "Function eval # 9\n",
      "  dual is  1.19884931862867\n",
      "Function eval # 10\n",
      "  dual is  1.1988493165913283\n",
      "Grad eval #7\n",
      "  norm of gradient = 3.809852053056005e-05\n",
      "Function eval # 11\n",
      "  dual is  1.1988493129504525\n",
      "Grad eval #8\n",
      "  norm of gradient = 3.909952575958311e-06\n",
      "Iteration # 3\n",
      "Function eval # 12\n",
      "  dual is  1.1988493129504525\n",
      "Function eval # 13\n",
      "  dual is  1.1988493129367346\n",
      "Grad eval #9\n",
      "  norm of gradient = 3.0942086424797626e-06\n",
      "Function eval # 14\n",
      "  dual is  1.1988493129137026\n",
      "Grad eval #10\n",
      "  norm of gradient = 1.809834873869462e-07\n",
      "Iteration # 4\n",
      "Function eval # 15\n",
      "  dual is  1.1988493129137026\n",
      "Function eval # 16\n",
      "  dual is  1.1988493129136732\n",
      "Grad eval #11\n",
      "  norm of gradient = 1.4468748415940418e-07\n",
      "Function eval # 17\n",
      "  dual is  1.1988493129136213\n",
      "Grad eval #12\n",
      "  norm of gradient = 2.2794993757819066e-09\n",
      "Iteration # 5\n",
      "Function eval # 18\n",
      "  dual is  1.1988493129136213\n",
      "Optimization terminated successfully.\n",
      "         Current function value: 1.198849\n",
      "         Iterations: 6\n",
      "         Function evaluations: 13\n",
      "         Gradient evaluations: 13\n"
     ]
    }
   ],
   "source": [
    "model.fit(K)"
   ]
  },
  {
   "cell_type": "code",
   "execution_count": 72,
   "id": "a685de33-3e02-4d37-958e-5bbacc4dbab1",
   "metadata": {},
   "outputs": [
    {
     "name": "stdout",
     "output_type": "stream",
     "text": [
      "Actual expectations under the fitted model:\n",
      "\t\\hat{X} =  [1.         0.33333333 0.25      ]\n"
     ]
    }
   ],
   "source": [
    "print(\"Actual expectations under the fitted model:\")\n",
    "print(\"\\t\\hat{X} = \", model.expectations())"
   ]
  },
  {
   "cell_type": "code",
   "execution_count": 74,
   "id": "79b5edff-15ec-4449-8d90-614e6aaaddb3",
   "metadata": {},
   "outputs": [
    {
     "data": {
      "text/plain": [
       "array([0.08333333, 0.16666667, 0.25      , 0.5       ])"
      ]
     },
     "execution_count": 74,
     "metadata": {},
     "output_type": "execute_result"
    }
   ],
   "source": [
    "model.probdist()"
   ]
  },
  {
   "cell_type": "code",
   "execution_count": 78,
   "id": "a894fbc5-215c-4e73-adaa-b2b6b786f8ca",
   "metadata": {},
   "outputs": [],
   "source": [
    "from scipy.stats import entropy"
   ]
  },
  {
   "cell_type": "code",
   "execution_count": 79,
   "id": "b7b2c502-3f93-4eeb-bebe-01f69520e4cc",
   "metadata": {},
   "outputs": [],
   "source": [
    "def kangaroo_prob_matrix(x):\n",
    "    assert 0 <= x <= 0.25\n",
    "    p = np.zeros((2, 2))\n",
    "    p[0, 0] = x\n",
    "    p[0, 1] = 1/3 - x\n",
    "    p[1, 0] = 1/4 - x\n",
    "    p[1, 1] = 5/12 + x\n",
    "    return p"
   ]
  },
  {
   "cell_type": "code",
   "execution_count": 80,
   "id": "cdc6648f-820a-4005-b6dc-c30aa1918ffb",
   "metadata": {},
   "outputs": [
    {
     "data": {
      "text/plain": [
       "array([[0.2       , 0.13333333],\n",
       "       [0.05      , 0.61666667]])"
      ]
     },
     "execution_count": 80,
     "metadata": {},
     "output_type": "execute_result"
    }
   ],
   "source": [
    "kangaroo_prob_matrix(0.2)\n"
   ]
  },
  {
   "cell_type": "code",
   "execution_count": 81,
   "id": "cb76b58f-2fda-4568-bb1a-d44a463c575d",
   "metadata": {},
   "outputs": [],
   "source": [
    "params = np.linspace(0, 0.25, num=100)\n",
    "entropies = [entropy(kangaroo_prob_matrix(x).flatten()) for x in params]"
   ]
  },
  {
   "cell_type": "code",
   "execution_count": 88,
   "id": "67335c33-d07c-41d6-a6d8-cff310d55b18",
   "metadata": {},
   "outputs": [
    {
     "data": {
      "text/plain": [
       "0.08333333333333334"
      ]
     },
     "execution_count": 88,
     "metadata": {},
     "output_type": "execute_result"
    }
   ],
   "source": [
    "x_opt = params[np.argmax(entropies)]\n",
    "x_opt"
   ]
  },
  {
   "cell_type": "code",
   "execution_count": 85,
   "id": "5cb17bd9-f345-4322-89e9-8eb725311a1e",
   "metadata": {},
   "outputs": [],
   "source": [
    "import matplotlib.pyplot as plt\n",
    "import seaborn as sns\n",
    "%matplotlib inline"
   ]
  },
  {
   "cell_type": "code",
   "execution_count": 89,
   "id": "03c819c1-2108-4833-8b50-14e9414c03a9",
   "metadata": {},
   "outputs": [
    {
     "data": {
      "image/png": "[encoded data removed]",
      "text/plain": [
       "<Figure size 432x288 with 1 Axes>"
      ]
     },
     "metadata": {
      "needs_background": "light"
     },
     "output_type": "display_data"
    }
   ],
   "source": [
    "\n",
    "plt.plot(params, entropies)\n",
    "plt.xlabel('$x$')\n",
    "plt.ylabel('entropy $H(p)$')\n",
    "plt.scatter(x_opt, np.max(entropies), color='red')\n",
    "plt.text(x_opt, np.max(entropies)+0.01, f'$x={x_opt:.3f}$')\n",
    "plt.title('Entropy $H(p)$ for different probability distributions $p$ parametrized by $x$');"
   ]
  },
  {
   "cell_type": "code",
   "execution_count": 90,
   "id": "2ceaeae0-03f5-4c6b-a392-8ff74e95c68a",
   "metadata": {},
   "outputs": [],
   "source": [
    "from itertools import product\n",
    "\n",
    "samplespace = list(product(['left-handed', 'right-handed'], ['blue-eyed', 'green-eyed']))"
   ]
  },
  {
   "cell_type": "code",
   "execution_count": 91,
   "id": "2b8fd747-efe4-42eb-a51d-63bfe168a074",
   "metadata": {},
   "outputs": [],
   "source": [
    "def f0(x):\n",
    "    return x in samplespace\n",
    "\n",
    "def f1(x):\n",
    "    return x[1] == 'blue-eyed'\n",
    "\n",
    "def f2(x):\n",
    "    return x[0] == 'left-handed'\n",
    "\n",
    "f = [f0, f1, f2]"
   ]
  },
  {
   "cell_type": "code",
   "execution_count": 96,
   "id": "f8f1dacd-806a-4d9b-b4a5-270d83a7cb7e",
   "metadata": {},
   "outputs": [],
   "source": [
    "from maxentropy import MinDivergenceModel\n",
    "model = maxentropy.Model(f, samplespace, vectorized=False, verbose=False)"
   ]
  },
  {
   "cell_type": "code",
   "execution_count": 97,
   "id": "ff0462c2-5e2d-4718-93ac-a0489ec9427c",
   "metadata": {},
   "outputs": [
    {
     "data": {
      "text/plain": [
       "array([[1., 1., 1., 1.],\n",
       "       [1., 0., 1., 0.],\n",
       "       [1., 1., 0., 0.]])"
      ]
     },
     "execution_count": 97,
     "metadata": {},
     "output_type": "execute_result"
    }
   ],
   "source": [
    "model.F.A"
   ]
  },
  {
   "cell_type": "code",
   "execution_count": 98,
   "id": "2d9d6b44-dc89-478a-b58d-355c1aaa4915",
   "metadata": {},
   "outputs": [],
   "source": [
    "K = np.array([1., 1./3, 1./4]).reshape(1, 3)"
   ]
  },
  {
   "cell_type": "code",
   "execution_count": 99,
   "id": "a6741dc6-10b4-470c-b187-f70d8f444be6",
   "metadata": {},
   "outputs": [],
   "source": [
    "model.fit(K)"
   ]
  },
  {
   "cell_type": "code",
   "execution_count": 100,
   "id": "f9c4ed8f-e6d1-47d2-99d3-68bb284365e3",
   "metadata": {},
   "outputs": [
    {
     "data": {
      "text/plain": [
       "matrix([[1., 1., 1., 1.],\n",
       "        [1., 0., 1., 0.],\n",
       "        [1., 1., 0., 0.]])"
      ]
     },
     "execution_count": 100,
     "metadata": {},
     "output_type": "execute_result"
    }
   ],
   "source": [
    "model.F.todense()"
   ]
  },
  {
   "cell_type": "code",
   "execution_count": 101,
   "id": "7124a165-8773-4a44-8336-4ca6572657c0",
   "metadata": {},
   "outputs": [
    {
     "data": {
      "text/plain": [
       "array([ 0.        , -0.69314717, -1.0986123 ])"
      ]
     },
     "execution_count": 101,
     "metadata": {},
     "output_type": "execute_result"
    }
   ],
   "source": [
    "model.params"
   ]
  },
  {
   "cell_type": "code",
   "execution_count": 102,
   "id": "f2733b4b-2357-4cae-9bff-7e50e48253ef",
   "metadata": {},
   "outputs": [
    {
     "data": {
      "text/plain": [
       "array([0.08333333, 0.16666667, 0.25      , 0.5       ])"
      ]
     },
     "execution_count": 102,
     "metadata": {},
     "output_type": "execute_result"
    }
   ],
   "source": [
    "model.probdist()"
   ]
  },
  {
   "cell_type": "code",
   "execution_count": 104,
   "id": "7247c8a7-92b8-438e-99c4-5b8246e865ed",
   "metadata": {},
   "outputs": [
    {
     "name": "stdout",
     "output_type": "stream",
     "text": [
      "\n",
      "Fitted model parameters are:\n",
      "[ 0.         -0.69314717 -1.0986123 ]\n",
      "The fitted distribution is:\n",
      "\tx = ('left-handed', 'blue-eyed') \tp(x) = 0.0833\n",
      "\tx = ('left-handed', 'green-eyed') \tp(x) = 0.1667\n",
      "\tx = ('right-handed', 'blue-eyed') \tp(x) = 0.2500\n",
      "\tx = ('right-handed', 'green-eyed') \tp(x) = 0.5000\n"
     ]
    }
   ],
   "source": [
    "print(\"\\nFitted model parameters are:\\n\" + str(model.params))\n",
    "print(\"The fitted distribution is:\")\n",
    "model.show()"
   ]
  },
  {
   "cell_type": "code",
   "execution_count": 105,
   "id": "4fcf4546-ca1b-40d3-8fad-0887b525af66",
   "metadata": {},
   "outputs": [
    {
     "data": {
      "text/plain": [
       "array([1.        , 0.33333333, 0.25      ])"
      ]
     },
     "execution_count": 105,
     "metadata": {},
     "output_type": "execute_result"
    }
   ],
   "source": [
    "model.expectations()"
   ]
  },
  {
   "cell_type": "code",
   "execution_count": 106,
   "id": "0c82af9b-d6dd-4e0e-9614-0ba601b03b1d",
   "metadata": {},
   "outputs": [],
   "source": [
    "postcodes_by_state = dict((\n",
    "    ('Australian Capital Territory', set(range(2600, 2620)) | set(range(2900, 2920))),\n",
    "    ('New South Wales', set(range(2000, 3000)) - set(range(2600, 2620)) - set(range(2900, 2920))),\n",
    "    ('Victoria', set(range(3000, 4000))),\n",
    "    ('Queensland', set(range(4000, 5000))),\n",
    "    ('South Australia', set(range(5000, 5800))),\n",
    "    ('Western Australia', set(range(6000, 6798))),\n",
    "    ('Tasmania', set(range(7000, 7800))),\n",
    "    ('Northern Territory', set(range(800, 900)))\n",
    "))"
   ]
  },
  {
   "cell_type": "code",
   "execution_count": 107,
   "id": "47517997-8262-4231-af06-f5e442a9685f",
   "metadata": {},
   "outputs": [],
   "source": [
    "import pandas as pd"
   ]
  },
  {
   "cell_type": "code",
   "execution_count": 110,
   "id": "ffcf6083-cb92-4221-aa08-2c1924928251",
   "metadata": {},
   "outputs": [],
   "source": [
    "def fetch_state_populations():\n",
    "    url = 'http://www.ausstats.abs.gov.au/Ausstats/subscriber.nsf/0/D52DEAAFCEDF7B2ACA2580EB00133359/$File/31010do001_201609.xls'\n",
    "\n",
    "    state_populations = pd.read_excel(url, sheet_name='Table_8', skiprows=6,\n",
    "                  names=['State', 'Population', '%'])\n",
    "\n",
    "    state_populations.set_index('State', inplace=True)\n",
    "\n",
    "    drop_row_idx = list(state_populations.index).index('Other Territories')\n",
    "\n",
    "    state_populations.drop(state_populations.index[drop_row_idx:], inplace=True)\n",
    "\n",
    "    state_populations['Population'] = state_populations['Population'].astype(int)\n",
    "    # state_populations.to_hdf('state_populations.h5', key='populations')\n",
    "    return state_populations"
   ]
  },
  {
   "cell_type": "code",
   "execution_count": 111,
   "id": "42c46a84-046c-4fd9-b2bd-1c015616650c",
   "metadata": {},
   "outputs": [],
   "source": [
    "state_populations = fetch_state_populations()\n"
   ]
  },
  {
   "cell_type": "code",
   "execution_count": 112,
   "id": "0addb5a2-9a4f-46dc-8569-71d70481434b",
   "metadata": {},
   "outputs": [
    {
     "data": {
      "text/html": [
       "<div>\n",
       "<style scoped>\n",
       "    .dataframe tbody tr th:only-of-type {\n",
       "        vertical-align: middle;\n",
       "    }\n",
       "\n",
       "    .dataframe tbody tr th {\n",
       "        vertical-align: top;\n",
       "    }\n",
       "\n",
       "    .dataframe thead th {\n",
       "        text-align: right;\n",
       "    }\n",
       "</style>\n",
       "<table border=\"1\" class=\"dataframe\">\n",
       "  <thead>\n",
       "    <tr style=\"text-align: right;\">\n",
       "      <th></th>\n",
       "      <th>Population</th>\n",
       "      <th>%</th>\n",
       "    </tr>\n",
       "    <tr>\n",
       "      <th>State</th>\n",
       "      <th></th>\n",
       "      <th></th>\n",
       "    </tr>\n",
       "  </thead>\n",
       "  <tbody>\n",
       "    <tr>\n",
       "      <th>New South Wales</th>\n",
       "      <td>7757843</td>\n",
       "      <td>32.0</td>\n",
       "    </tr>\n",
       "    <tr>\n",
       "      <th>Victoria</th>\n",
       "      <td>6100877</td>\n",
       "      <td>25.2</td>\n",
       "    </tr>\n",
       "    <tr>\n",
       "      <th>Queensland</th>\n",
       "      <td>4860448</td>\n",
       "      <td>20.1</td>\n",
       "    </tr>\n",
       "    <tr>\n",
       "      <th>South Australia</th>\n",
       "      <td>1710804</td>\n",
       "      <td>7.1</td>\n",
       "    </tr>\n",
       "    <tr>\n",
       "      <th>Western Australia</th>\n",
       "      <td>2623164</td>\n",
       "      <td>10.8</td>\n",
       "    </tr>\n",
       "    <tr>\n",
       "      <th>Tasmania</th>\n",
       "      <td>519783</td>\n",
       "      <td>2.1</td>\n",
       "    </tr>\n",
       "    <tr>\n",
       "      <th>Northern Territory</th>\n",
       "      <td>245657</td>\n",
       "      <td>1.0</td>\n",
       "    </tr>\n",
       "    <tr>\n",
       "      <th>Australian Capital Territory</th>\n",
       "      <td>398349</td>\n",
       "      <td>1.6</td>\n",
       "    </tr>\n",
       "  </tbody>\n",
       "</table>\n",
       "</div>"
      ],
      "text/plain": [
       "                              Population     %\n",
       "State                                         \n",
       "New South Wales                  7757843  32.0\n",
       "Victoria                         6100877  25.2\n",
       "Queensland                       4860448  20.1\n",
       "South Australia                  1710804   7.1\n",
       "Western Australia                2623164  10.8\n",
       "Tasmania                          519783   2.1\n",
       "Northern Territory                245657   1.0\n",
       "Australian Capital Territory      398349   1.6"
      ]
     },
     "execution_count": 112,
     "metadata": {},
     "output_type": "execute_result"
    }
   ],
   "source": [
    "state_populations"
   ]
  },
  {
   "cell_type": "code",
   "execution_count": 113,
   "id": "440e277a-fc3d-44bd-9211-b5d38792f030",
   "metadata": {},
   "outputs": [
    {
     "data": {
      "text/plain": [
       "99.9"
      ]
     },
     "execution_count": 113,
     "metadata": {},
     "output_type": "execute_result"
    }
   ],
   "source": [
    "state_populations['%'].sum()"
   ]
  },
  {
   "cell_type": "code",
   "execution_count": 114,
   "id": "4cb9d129-6545-499e-8a10-11e32e18f91b",
   "metadata": {},
   "outputs": [],
   "source": [
    "def prior_state(state):\n",
    "    return state_populations['%'].loc[state] / 100"
   ]
  },
  {
   "cell_type": "code",
   "execution_count": 115,
   "id": "adbb9ab1-afa3-4783-9aa9-c3ee62996483",
   "metadata": {},
   "outputs": [
    {
     "data": {
      "text/plain": [
       "0.32"
      ]
     },
     "execution_count": 115,
     "metadata": {},
     "output_type": "execute_result"
    }
   ],
   "source": [
    "prior_state('New South Wales')"
   ]
  },
  {
   "cell_type": "code",
   "execution_count": 116,
   "id": "4fa24bc4-9512-45ef-98a5-ae60bd504f5d",
   "metadata": {},
   "outputs": [
    {
     "data": {
      "text/plain": [
       "['New South Wales',\n",
       " 'Victoria',\n",
       " 'Queensland',\n",
       " 'South Australia',\n",
       " 'Western Australia',\n",
       " 'Tasmania',\n",
       " 'Northern Territory',\n",
       " 'Australian Capital Territory']"
      ]
     },
     "execution_count": 116,
     "metadata": {},
     "output_type": "execute_result"
    }
   ],
   "source": [
    "all_states = list(state_populations.index)\n",
    "all_states"
   ]
  },
  {
   "cell_type": "code",
   "execution_count": 131,
   "id": "a78d29df-d140-4a75-a6be-bc739675bedc",
   "metadata": {},
   "outputs": [],
   "source": [
    "def prior_postcode(postcode):\n",
    "    return sum([prior_postcode_given_state(postcode, state) * prior_state(state) for state in all_states])"
   ]
  },
  {
   "cell_type": "code",
   "execution_count": 132,
   "id": "50b5669f-0439-4b6d-9bcf-08347704340b",
   "metadata": {},
   "outputs": [],
   "source": [
    "def prior_postcode_given_state(postcode, state):\n",
    "    postcodes = postcodes_by_state[state]\n",
    "    return 1/len(postcodes) if postcode in postcodes else 0"
   ]
  },
  {
   "cell_type": "code",
   "execution_count": 133,
   "id": "7f60e817-a300-443e-8fe2-32e395fa3b7b",
   "metadata": {},
   "outputs": [
    {
     "data": {
      "text/plain": [
       "0.001"
      ]
     },
     "execution_count": 133,
     "metadata": {},
     "output_type": "execute_result"
    }
   ],
   "source": [
    "prior_postcode_given_state(3122, 'Victoria')"
   ]
  },
  {
   "cell_type": "code",
   "execution_count": 134,
   "id": "00530881-2ea7-431c-b6f5-29dd46d884f6",
   "metadata": {},
   "outputs": [
    {
     "data": {
      "text/plain": [
       "0.000252"
      ]
     },
     "execution_count": 134,
     "metadata": {},
     "output_type": "execute_result"
    }
   ],
   "source": [
    "prior_postcode_mine(3122)"
   ]
  },
  {
   "cell_type": "code",
   "execution_count": 135,
   "id": "8f4503ab-09f7-4733-b498-b6a5ba0e32a0",
   "metadata": {},
   "outputs": [],
   "source": [
    "import numpy as np\n",
    "samplespace = np.arange(10000, dtype=np.uint16)"
   ]
  },
  {
   "cell_type": "code",
   "execution_count": 136,
   "id": "2d964d97-96e7-44d8-8f08-35272ea69075",
   "metadata": {},
   "outputs": [
    {
     "data": {
      "text/plain": [
       "array([   0,    1,    2, ..., 9997, 9998, 9999], dtype=uint16)"
      ]
     },
     "execution_count": 136,
     "metadata": {},
     "output_type": "execute_result"
    }
   ],
   "source": [
    "samplespace"
   ]
  },
  {
   "cell_type": "code",
   "execution_count": 137,
   "id": "f9f2cf1d-b2e7-483a-aac9-010c0da9ac42",
   "metadata": {},
   "outputs": [],
   "source": [
    "def is_valid(postcodes):\n",
    "    return [200 <= postcode < 10000 for postcode in postcodes]"
   ]
  },
  {
   "cell_type": "code",
   "execution_count": 138,
   "id": "4801ae8e-9ca2-4e84-9887-c6c80fe1785b",
   "metadata": {},
   "outputs": [],
   "source": [
    "def in_given_state(state):\n",
    "    def in_state(postcodes):\n",
    "        return [postcode in postcodes_by_state[state] for postcode in postcodes]\n",
    "    return in_state"
   ]
  },
  {
   "cell_type": "code",
   "execution_count": 139,
   "id": "e2ffcb48-3c29-43b4-b311-3f77cab15a22",
   "metadata": {},
   "outputs": [
    {
     "data": {
      "text/plain": [
       "Index(['New South Wales', 'Victoria', 'Queensland', 'South Australia',\n",
       "       'Western Australia', 'Tasmania', 'Northern Territory',\n",
       "       'Australian Capital Territory'],\n",
       "      dtype='object', name='State')"
      ]
     },
     "execution_count": 139,
     "metadata": {},
     "output_type": "execute_result"
    }
   ],
   "source": [
    "state_populations.index"
   ]
  },
  {
   "cell_type": "code",
   "execution_count": 140,
   "id": "126c75f7-8b35-4897-ad9c-b22664640bea",
   "metadata": {},
   "outputs": [],
   "source": [
    "features = [is_valid] + \\\n",
    "           [in_given_state(state) for state in state_populations.index]"
   ]
  },
  {
   "cell_type": "code",
   "execution_count": 141,
   "id": "1770fb63-7407-4278-8819-b3d0d59ac383",
   "metadata": {},
   "outputs": [
    {
     "data": {
      "text/plain": [
       "[<function __main__.is_valid(postcodes)>,\n",
       " <function __main__.in_given_state.<locals>.in_state(postcodes)>,\n",
       " <function __main__.in_given_state.<locals>.in_state(postcodes)>,\n",
       " <function __main__.in_given_state.<locals>.in_state(postcodes)>,\n",
       " <function __main__.in_given_state.<locals>.in_state(postcodes)>,\n",
       " <function __main__.in_given_state.<locals>.in_state(postcodes)>,\n",
       " <function __main__.in_given_state.<locals>.in_state(postcodes)>,\n",
       " <function __main__.in_given_state.<locals>.in_state(postcodes)>,\n",
       " <function __main__.in_given_state.<locals>.in_state(postcodes)>]"
      ]
     },
     "execution_count": 141,
     "metadata": {},
     "output_type": "execute_result"
    }
   ],
   "source": [
    "features"
   ]
  },
  {
   "cell_type": "code",
   "execution_count": 143,
   "id": "e70eb6de-b47d-4712-8319-b0e9228c0ee3",
   "metadata": {},
   "outputs": [],
   "source": [
    "model = maxentropy.Model(features, samplespace, vectorized=True)\n"
   ]
  },
  {
   "cell_type": "code",
   "execution_count": 144,
   "id": "4b12366a-f173-4eb4-b5d5-b2a9a107bfc9",
   "metadata": {},
   "outputs": [
    {
     "data": {
      "text/plain": [
       "State\n",
       "New South Wales                 0.320\n",
       "Victoria                        0.252\n",
       "Queensland                      0.201\n",
       "South Australia                 0.071\n",
       "Western Australia               0.108\n",
       "Tasmania                        0.021\n",
       "Northern Territory              0.010\n",
       "Australian Capital Territory    0.016\n",
       "Name: %, dtype: float64"
      ]
     },
     "execution_count": 144,
     "metadata": {},
     "output_type": "execute_result"
    }
   ],
   "source": [
    "pop = state_populations['%'] / 100\n",
    "pop"
   ]
  },
  {
   "cell_type": "code",
   "execution_count": 161,
   "id": "162726a9-5c85-43bc-94e3-4f170853ebcc",
   "metadata": {},
   "outputs": [],
   "source": [
    "k = target_expectations = np.r_[0.999, pop.values].reshape(1, -1)"
   ]
  },
  {
   "cell_type": "code",
   "execution_count": 146,
   "id": "f51463eb-08f6-4ffa-ab00-2fe161cdbd6c",
   "metadata": {},
   "outputs": [
    {
     "data": {
      "text/plain": [
       "array([[0.999, 0.32 , 0.252, 0.201, 0.071, 0.108, 0.021, 0.01 , 0.016]])"
      ]
     },
     "execution_count": 146,
     "metadata": {},
     "output_type": "execute_result"
    }
   ],
   "source": [
    "target_expectations"
   ]
  },
  {
   "cell_type": "code",
   "execution_count": 149,
   "id": "8ae071e9-04c6-408b-9a31-4cd95174fced",
   "metadata": {},
   "outputs": [
    {
     "data": {
      "text/plain": [
       "True"
      ]
     },
     "execution_count": 149,
     "metadata": {},
     "output_type": "execute_result"
    }
   ],
   "source": [
    "len(features) == target_expectations.shape[1]"
   ]
  },
  {
   "cell_type": "code",
   "execution_count": 150,
   "id": "ec5270e9-ff8b-446e-a1b3-6fe00f93dfd2",
   "metadata": {},
   "outputs": [],
   "source": [
    "model.fit(target_expectations)"
   ]
  },
  {
   "cell_type": "code",
   "execution_count": 151,
   "id": "410b2480-ad38-4533-a364-89c03a2114a3",
   "metadata": {},
   "outputs": [
    {
     "data": {
      "text/plain": [
       "array([[-9.31964403e-07, -1.72357784e-05,  1.85636911e-05,\n",
       "         3.42262833e-06, -5.26970558e-06,  4.21062136e-06,\n",
       "        -1.07885983e-06, -2.54384300e-06, -2.43560157e-06]])"
      ]
     },
     "execution_count": 151,
     "metadata": {},
     "output_type": "execute_result"
    }
   ],
   "source": [
    "model.expectations() - target_expectations"
   ]
  },
  {
   "cell_type": "code",
   "execution_count": 152,
   "id": "c45b6a6c-445a-4ddc-a072-aa1987197dd0",
   "metadata": {},
   "outputs": [
    {
     "data": {
      "text/plain": [
       "array([5.00465982e-06, 5.00465982e-06, 5.00465982e-06, ...,\n",
       "       3.33538598e-10, 3.33538598e-10, 3.33538598e-10])"
      ]
     },
     "execution_count": 152,
     "metadata": {},
     "output_type": "execute_result"
    }
   ],
   "source": [
    "model.probdist()"
   ]
  },
  {
   "cell_type": "code",
   "execution_count": 153,
   "id": "22f588df-dc36-4ff7-afed-df5267b2d265",
   "metadata": {},
   "outputs": [
    {
     "data": {
      "text/plain": [
       "array([2913, 2608, 2601, ..., 8838, 8839, 9999])"
      ]
     },
     "execution_count": 153,
     "metadata": {},
     "output_type": "execute_result"
    }
   ],
   "source": [
    "p = model.probdist()\n",
    "np.argsort(p)[::-1]"
   ]
  },
  {
   "cell_type": "code",
   "execution_count": 154,
   "id": "a7ca5fc1-1b02-4a75-8c08-2b1bfa1a1111",
   "metadata": {},
   "outputs": [],
   "source": [
    "%matplotlib inline"
   ]
  },
  {
   "cell_type": "code",
   "execution_count": 155,
   "id": "837dddaf-7413-4b44-8a0c-e2c5089ec05c",
   "metadata": {},
   "outputs": [],
   "source": [
    "import matplotlib.pyplot as plt\n"
   ]
  },
  {
   "cell_type": "code",
   "execution_count": 156,
   "id": "69a6c58c-bd24-4685-a1a8-d18969445a3e",
   "metadata": {},
   "outputs": [
    {
     "data": {
      "image/png": "[encoded data removed]",
      "text/plain": [
       "<Figure size 864x360 with 1 Axes>"
      ]
     },
     "metadata": {
      "needs_background": "light"
     },
     "output_type": "display_data"
    }
   ],
   "source": [
    "fig, axes = plt.subplots(1, figsize=(12, 5))\n",
    "plt.plot(samplespace, p, '.', )\n",
    "axes.set_xlabel('postcode')\n",
    "axes.set_ylabel('probability')\n",
    "plt.title('prior model for postcodes');"
   ]
  },
  {
   "cell_type": "code",
   "execution_count": 157,
   "id": "276ef702-1ac8-40dc-8da7-4c3ae80c432b",
   "metadata": {},
   "outputs": [],
   "source": [
    "CBD_POSTCODES = {2000, 2001, 3000, 3001, 4000, 4001, 5000, 5001, 6000, 6001}"
   ]
  },
  {
   "cell_type": "code",
   "execution_count": 158,
   "id": "032db249-5ba6-455b-9c5a-09365e346cb2",
   "metadata": {},
   "outputs": [],
   "source": [
    "def in_cbd(postcodes):\n",
    "    return [postcode in CBD_POSTCODES for postcode in postcodes]"
   ]
  },
  {
   "cell_type": "code",
   "execution_count": 159,
   "id": "14c36437-db5f-4a56-95f1-8d6f7d6669d7",
   "metadata": {},
   "outputs": [],
   "source": [
    "features2 = features + [in_cbd]"
   ]
  },
  {
   "cell_type": "code",
   "execution_count": 162,
   "id": "019c4fe8-c103-4149-8d37-db6774b1e719",
   "metadata": {},
   "outputs": [],
   "source": [
    "k2 = np.c_[k, 0.25]"
   ]
  },
  {
   "cell_type": "code",
   "execution_count": 163,
   "id": "690111f2-4c92-4c9a-a6c2-6c6a4edc9d79",
   "metadata": {},
   "outputs": [
    {
     "data": {
      "text/plain": [
       "array([[0.999, 0.32 , 0.252, 0.201, 0.071, 0.108, 0.021, 0.01 , 0.016,\n",
       "        0.25 ]])"
      ]
     },
     "execution_count": 163,
     "metadata": {},
     "output_type": "execute_result"
    }
   ],
   "source": [
    "k2"
   ]
  },
  {
   "cell_type": "code",
   "execution_count": 164,
   "id": "7bbd2e4f-a800-48b4-8307-ff062a0223f5",
   "metadata": {},
   "outputs": [],
   "source": [
    "model2 = maxentropy.Model(features2, samplespace, vectorized=True)"
   ]
  },
  {
   "cell_type": "code",
   "execution_count": 165,
   "id": "16f7fba8-6a15-4cb3-a004-31c42afc994a",
   "metadata": {},
   "outputs": [],
   "source": [
    "model2.fit(k2)"
   ]
  },
  {
   "cell_type": "code",
   "execution_count": 166,
   "id": "c52b64cf-9887-4e5f-a7c7-d8a6aa4c454a",
   "metadata": {},
   "outputs": [],
   "source": [
    "p2 = model2.probdist()"
   ]
  },
  {
   "cell_type": "code",
   "execution_count": 167,
   "id": "20006890-5419-4412-b35a-5ecb754f0f69",
   "metadata": {},
   "outputs": [
    {
     "data": {
      "text/plain": [
       "Text(0, 0.5, 'probability')"
      ]
     },
     "execution_count": 167,
     "metadata": {},
     "output_type": "execute_result"
    },
    {
     "data": {
      "image/png": "[encoded data removed]",
      "text/plain": [
       "<Figure size 864x360 with 1 Axes>"
      ]
     },
     "metadata": {
      "needs_background": "light"
     },
     "output_type": "display_data"
    }
   ],
   "source": [
    "fig, axes = plt.subplots(1, figsize=(12, 5))\n",
    "plt.plot(samplespace, p2, '.', )\n",
    "axes.set_xlabel('postcode')\n",
    "axes.set_ylabel('probability')"
   ]
  },
  {
   "cell_type": "code",
   "execution_count": 168,
   "id": "f859c38f-4f16-4579-8e04-9f7303d34acf",
   "metadata": {},
   "outputs": [
    {
     "data": {
      "text/plain": [
       "Text(0, 0.5, 'probability')"
      ]
     },
     "execution_count": 168,
     "metadata": {},
     "output_type": "execute_result"
    },
    {
     "data": {
      "image/png": "[encoded data removed]",
      "text/plain": [
       "<Figure size 864x360 with 1 Axes>"
      ]
     },
     "metadata": {
      "needs_background": "light"
     },
     "output_type": "display_data"
    }
   ],
   "source": [
    "fig, axes = plt.subplots(1, figsize=(12, 5))\n",
    "plt.semilogy(samplespace, p2, '.', )\n",
    "axes.set_xlabel('postcode')\n",
    "axes.set_ylabel('probability')"
   ]
  },
  {
   "cell_type": "code",
   "execution_count": 169,
   "id": "d912f1ea-b628-4122-9a80-6a13bcb7069c",
   "metadata": {},
   "outputs": [],
   "source": [
    "import numpy as np\n",
    "import maxentropy"
   ]
  },
  {
   "cell_type": "code",
   "execution_count": 170,
   "id": "cd890f9e-88fb-46c5-85c9-454f3bb24abb",
   "metadata": {},
   "outputs": [],
   "source": [
    "def f0(x):\n",
    "    return x in samplespace\n",
    "\n",
    "def f1(x):\n",
    "    return x=='dans' or x=='en'\n",
    "\n",
    "def f2(x):\n",
    "    return x=='dans' or x=='à'"
   ]
  },
  {
   "cell_type": "code",
   "execution_count": 171,
   "id": "ba998209-610c-46d2-bcb0-7e32143230d3",
   "metadata": {},
   "outputs": [],
   "source": [
    "features = [f0, f1, f2]\n",
    "\n",
    "samplespace = ['dans', 'en', 'à', 'au cours de', 'pendant']\n",
    "\n",
    "# Now set the desired feature expectations\n",
    "target_expectations = [1.0, 0.3, 0.5]\n",
    "\n",
    "X = np.atleast_2d(target_expectations)"
   ]
  },
  {
   "cell_type": "code",
   "execution_count": 173,
   "id": "994f9dd4-a187-4521-b0a6-9792f4076fa8",
   "metadata": {},
   "outputs": [],
   "source": [
    "smallmodel = maxentropy.Model(features, samplespace,\n",
    "                                           vectorized=False,\n",
    "                                           verbose=False)"
   ]
  },
  {
   "cell_type": "code",
   "execution_count": 174,
   "id": "909d42b4-4f8b-47ef-8e19-bab81775d8a5",
   "metadata": {},
   "outputs": [],
   "source": [
    "smallmodel.fit(X)"
   ]
  },
  {
   "cell_type": "code",
   "execution_count": 175,
   "id": "0bb2f501-416a-4906-b21e-f26ed61e13d2",
   "metadata": {},
   "outputs": [],
   "source": [
    "assert np.allclose(X[0, :], smallmodel.expectations())"
   ]
  },
  {
   "cell_type": "code",
   "execution_count": 176,
   "id": "40969f9d-5a09-4084-b1d4-54190f9eaaea",
   "metadata": {},
   "outputs": [],
   "source": [
    "p = smallmodel.probdist()\n",
    "assert np.isclose(p.sum(), target_expectations[0])\n",
    "assert np.isclose(p[0] + p[1], target_expectations[1])\n",
    "assert np.isclose(p[0] + p[2], target_expectations[2])"
   ]
  },
  {
   "cell_type": "code",
   "execution_count": 177,
   "id": "92c6c682-346f-4045-8f43-9c7635eded59",
   "metadata": {},
   "outputs": [
    {
     "name": "stdout",
     "output_type": "stream",
     "text": [
      "\n",
      "Fitted model parameters are:\n",
      "[ 6.88841437e-16 -5.24869398e-01  4.87527722e-01]\n",
      "\n",
      "Fitted distribution is:\n",
      "\tx = dans           : p(x) = 0.1859\n",
      "\tx = en             : p(x) = 0.1141\n",
      "\tx = à              : p(x) = 0.3141\n",
      "\tx = au cours de    : p(x) = 0.1929\n",
      "\tx = pendant        : p(x) = 0.1929\n"
     ]
    }
   ],
   "source": [
    "print(\"\\nFitted model parameters are:\\n\" + str(smallmodel.params))\n",
    "print(\"\\nFitted distribution is:\")\n",
    "for j, x in enumerate(smallmodel.samplespace):\n",
    "    print(f\"\\tx = {x:15s}: p(x) = {p[j]:.4f}\")"
   ]
  },
  {
   "cell_type": "code",
   "execution_count": 178,
   "id": "002eebb7-44f3-4b79-84b0-d1c1f3691800",
   "metadata": {},
   "outputs": [
    {
     "name": "stdout",
     "output_type": "stream",
     "text": [
      "\n",
      "Desired constraints:\n",
      "\tp['dans'] + p['en'] = 0.3\n",
      "\tp['dans'] + p['à']  = 0.5\n",
      "\n",
      "Actual expectations under the fitted model:\n",
      "\tp['dans'] + p['en'] = 0.2999999977092281\n",
      "\tp['dans'] + p['à']  = 0.49999999652678284\n"
     ]
    }
   ],
   "source": [
    "print()\n",
    "print(\"Desired constraints:\")\n",
    "print(\"\\tp['dans'] + p['en'] = 0.3\")\n",
    "print(\"\\tp['dans'] + p['à']  = 0.5\")\n",
    "print()\n",
    "print(\"Actual expectations under the fitted model:\")\n",
    "print(\"\\tp['dans'] + p['en'] =\", p[0] + p[1])\n",
    "print(\"\\tp['dans'] + p['à']  =\", p[0] + p[2])"
   ]
  },
  {
   "cell_type": "code",
   "execution_count": null,
   "id": "098950b1-22d0-4798-ba01-46c89b145f68",
   "metadata": {},
   "outputs": [],
   "source": []
  }
 ],
 "metadata": {
  "kernelspec": {
   "display_name": "Python 3",
   "language": "python",
   "name": "python3"
  },
  "language_info": {
   "codemirror_mode": {
    "name": "ipython",
    "version": 3
   },
   "file_extension": ".py",
   "mimetype": "text/x-python",
   "name": "python",
   "nbconvert_exporter": "python",
   "pygments_lexer": "ipython3",
   "version": "3.9.5"
  }
 },
 "nbformat": 4,
 "nbformat_minor": 5
}
