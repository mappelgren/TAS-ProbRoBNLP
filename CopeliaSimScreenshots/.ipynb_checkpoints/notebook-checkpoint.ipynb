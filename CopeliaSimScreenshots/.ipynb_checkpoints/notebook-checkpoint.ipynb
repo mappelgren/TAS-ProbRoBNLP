{
 "cells": [
  {
   "cell_type": "code",
   "execution_count": 5,
   "metadata": {},
   "outputs": [],
   "source": [
    "import probRobScene\n",
    "import numpy as np\n",
    "from pyrep import PyRep\n",
    "from pyrep.objects.object import Object\n",
    "from probRobScene.wrappers.coppelia.prbCoppeliaWrapper import cop_from_prs"
   ]
  },
  {
   "cell_type": "code",
   "execution_count": 6,
   "metadata": {},
   "outputs": [],
   "source": [
    "def get4Corners(height = 2):    \n",
    "    floor = Object.get_object('ResizableFloor_5_25')\n",
    "    floorBoundary = floor.get_model_bounding_box()\n",
    "    xmin = floorBoundary[0]\n",
    "    xmax = floorBoundary[1]\n",
    "    ymin = floorBoundary[2]\n",
    "    ymax = floorBoundary[3]\n",
    "    \n",
    "    return [[xmax, ymin, height], \n",
    "            [xmax, ymax, height],\n",
    "            [xmin, ymax, height],\n",
    "            [xmin, ymin, height]]"
   ]
  },
  {
   "cell_type": "code",
   "execution_count": 7,
   "metadata": {},
   "outputs": [],
   "source": [
    "def normalize(v):\n",
    "    norm = np.linalg.norm(v)\n",
    "    if norm == 0: \n",
    "        return v\n",
    "    return v / norm\n",
    "\n",
    "# Places camera at a position and points it towards the origin\n",
    "def lookFrom(cameraPos, target = [0, 0, 0], up = [0, 0, 1]):\n",
    "    defaultCamera = Object.get_object('DefaultCamera')\n",
    "    defaultCamera.set_position(cameraPos)\n",
    "    \n",
    "    cameraPos = np.array(cameraPos)\n",
    "    target = np.array(target)\n",
    "    up = np.array(up)\n",
    "    \n",
    "    zaxis = normalize(target - cameraPos)    \n",
    "    xaxis = normalize(np.cross(up, zaxis))\n",
    "    yaxis = np.cross(zaxis, xaxis)\n",
    "    \n",
    "    # Arrange transformation matrix according to Coppelia's documentation\n",
    "    # https://www.coppeliarobotics.com/helpFiles/en/positionOrientationTransformation.htm\n",
    "    camToWorld = np.column_stack((xaxis, yaxis, zaxis, cameraPos))\n",
    "    camToWorld = np.row_stack((camToWorld, np.array([0,0,0,1])))\n",
    "    \n",
    "    defaultCamera.set_matrix(camToWorld)"
   ]
  },
  {
   "cell_type": "code",
   "execution_count": 8,
   "metadata": {},
   "outputs": [],
   "source": [
    "def takePic(filepath, position=None):\n",
    "    scenario = probRobScene.scenario_from_file(filepath)\n",
    "    \n",
    "    # Launch an empty scene in PyRep\n",
    "    pr = PyRep()\n",
    "    pr.launch(\"emptyVortex.ttt\")\n",
    "\n",
    "    # ProbRobScene to generate objects\n",
    "    ex_world, used_its = scenario.generate()\n",
    "    c_objs = cop_from_prs(pr, ex_world)\n",
    "    \n",
    "    # Import LUA code/model to save feed from camera \n",
    "    screenshotSensor = pr.import_model(\"screenshot.ttm\")\n",
    "    defaultCamera = Object.get_object('DefaultCamera')\n",
    "    \n",
    "    if not positions:\n",
    "        pr.script_call(\"handleStuff@screenshotSensor\", 6)\n",
    "        positions = get4Corners()\n",
    "\n",
    "#     for p in positions:\n",
    "#         person = pr.import_model(\"Standing Bill.ttm\")\n",
    "#         person.set_position(np.append(p[:2], [0]))\n",
    "              \n",
    "    for p in positions:\n",
    "        lookFrom(p)\n",
    "        pr.script_call(\"handleStuff@screenshotSensor\", 6)\n",
    "        \n",
    "    pr.shutdown()"
   ]
  },
  {
   "cell_type": "code",
   "execution_count": null,
   "metadata": {},
   "outputs": [],
   "source": [
    "takePic(\"scenarios/gearInsert.prs\")"
   ]
  },
  {
   "cell_type": "code",
   "execution_count": 10,
   "metadata": {},
   "outputs": [],
   "source": [
    "def rotateBill(bill, target = np.array([0,0, 0.5]), up = np.array([0, 1, 0])):    \n",
    "    cameraPos = np.array(bill.get_position())\n",
    "\n",
    "    zaxis = normalize(target - cameraPos)    \n",
    "    xaxis = normalize(np.cross(up, zaxis))\n",
    "    yaxis = np.cross(zaxis, xaxis)\n",
    "        \n",
    "    camToWorld = np.column_stack((xaxis, yaxis, zaxis, cameraPos))\n",
    "    camToWorld = np.row_stack((camToWorld, np.array([0,0,0,1])))\n",
    "    \n",
    "    bill.set_matrix(camToWorld)\n",
    "\n",
    "pr = PyRep()\n",
    "pr.launch(\"emptyVortex.ttt\")\n",
    "person = pr.import_model(\"Standing Bill.ttm\")\n",
    "rotateBill(person)\n"
   ]
  },
  {
   "cell_type": "code",
   "execution_count": 11,
   "metadata": {},
   "outputs": [],
   "source": [
    "pr.shutdown()"
   ]
  }
 ],
 "metadata": {
  "kernelspec": {
   "display_name": "Python 3",
   "language": "python",
   "name": "python3"
  },
  "language_info": {
   "codemirror_mode": {
    "name": "ipython",
    "version": 3
   },
   "file_extension": ".py",
   "mimetype": "text/x-python",
   "name": "python",
   "nbconvert_exporter": "python",
   "pygments_lexer": "ipython3",
   "version": "3.8.10"
  }
 },
 "nbformat": 4,
 "nbformat_minor": 5
}
