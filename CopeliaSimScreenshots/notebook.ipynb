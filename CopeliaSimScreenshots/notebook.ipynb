{
 "cells": [
  {
   "cell_type": "code",
   "execution_count": 1,
   "id": "06a440fd",
   "metadata": {},
   "outputs": [],
   "source": [
    "import probRobScene\n",
    "import numpy as np\n",
    "from pyrep import PyRep\n",
    "from pyrep.objects.object import Object\n",
    "from probRobScene.wrappers.coppelia.prbCoppeliaWrapper import cop_from_prs"
   ]
  },
  {
   "cell_type": "code",
   "execution_count": 2,
   "id": "67d1528e",
   "metadata": {},
   "outputs": [],
   "source": [
    "def normalize(v):\n",
    "    norm = np.linalg.norm(v)\n",
    "    if norm == 0: \n",
    "        return v\n",
    "    return v / norm\n",
    "\n",
    "# Places camera at a position and points it towards the origin\n",
    "def lookFrom(cameraPos, target = [0, 0, 0], up = [0, 0, 1]):\n",
    "    defaultCamera = Object.get_object('DefaultCamera')\n",
    "    defaultCamera.set_position(cameraPos)\n",
    "    \n",
    "    cameraPos = np.array(cameraPos)\n",
    "    target = np.array(target)\n",
    "    up = np.array(up)\n",
    "    \n",
    "    zaxis = normalize(target - cameraPos)    \n",
    "    xaxis = normalize(np.cross(up, zaxis))\n",
    "    yaxis = np.cross(zaxis, xaxis)\n",
    "    \n",
    "    # Arrange transformation matrix according to Coppelia's documentation\n",
    "    # https://www.coppeliarobotics.com/helpFiles/en/positionOrientationTransformation.htm\n",
    "    camToWorld = np.column_stack((xaxis, yaxis, zaxis, cameraPos))\n",
    "    camToWorld = np.row_stack((camToWorld, np.array([0,0,0,1])))\n",
    "    \n",
    "    defaultCamera.set_matrix(camToWorld)"
   ]
  },
  {
   "cell_type": "code",
   "execution_count": 3,
   "id": "680cab4b",
   "metadata": {},
   "outputs": [],
   "source": [
    "def takePic(filepath, position=None):\n",
    "    scenario = probRobScene.scenario_from_file(filepath)\n",
    "    \n",
    "    # Launch an empty scene in PyRep\n",
    "    pr = PyRep()\n",
    "    pr.launch(\"emptyVortex.ttt\")\n",
    "\n",
    "    # ProbRobScene to generate objects\n",
    "    ex_world, used_its = scenario.generate()\n",
    "    c_objs = cop_from_prs(pr, ex_world)\n",
    "    \n",
    "    # Import LUA code/model to save feed from camera \n",
    "    screenshotSensor = pr.import_model(\"screenshot.ttm\")\n",
    "#     defaultCamera = Object.get_object('DefaultCamera')\n",
    "    \n",
    "    if position:\n",
    "        lookFrom(position)\n",
    "    pr.script_call(\"handleStuff@screenshotSensor\", 6) # Saves it as screenshot-date-time  \n",
    "    pr.shutdown()"
   ]
  },
  {
   "cell_type": "code",
   "execution_count": null,
   "id": "1386441d",
   "metadata": {},
   "outputs": [],
   "source": [
    "#All of this uses CopeliaSim version 4.1"
   ]
  },
  {
   "cell_type": "code",
   "execution_count": 4,
   "id": "0282a5ee",
   "metadata": {},
   "outputs": [],
   "source": [
    "takePic(\"scenarios/gearInsert.prs\", position = [-2, 2, 4])"
   ]
  }
 ],
 "metadata": {
  "kernelspec": {
   "display_name": "Python 3",
   "language": "python",
   "name": "python3"
  },
  "language_info": {
   "codemirror_mode": {
    "name": "ipython",
    "version": 3
   },
   "file_extension": ".py",
   "mimetype": "text/x-python",
   "name": "python",
   "nbconvert_exporter": "python",
   "pygments_lexer": "ipython3",
   "version": "3.9.5"
  }
 },
 "nbformat": 4,
 "nbformat_minor": 5
}
